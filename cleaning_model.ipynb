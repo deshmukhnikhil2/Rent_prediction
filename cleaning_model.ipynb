{
 "cells": [
  {
   "cell_type": "code",
   "execution_count": 104,
   "metadata": {},
   "outputs": [],
   "source": [
    "import pandas as pd\n",
    "import numpy as np\n",
    "import matplotlib.pyplot as plt\n",
    "import seaborn as sns"
   ]
  },
  {
   "cell_type": "code",
   "execution_count": 105,
   "metadata": {},
   "outputs": [],
   "source": [
    "df=pd.read_csv('Magicbrics.csv')"
   ]
  },
  {
   "cell_type": "code",
   "execution_count": 106,
   "metadata": {},
   "outputs": [
    {
     "data": {
      "text/plain": [
       "Index(['Bedroom', 'Bathroom', 'Balcony', 'Project', 'Super_area',\n",
       "       'Carpet_area', 'Furnished_status', 'Car_parking', 'Tenants_Preferred',\n",
       "       'Water_Availability', 'Rental_Value', 'Booking_Amount', 'Facilities',\n",
       "       'Address', 'Landmarks', 'Status', 'Overlooking', 'Flooring',\n",
       "       'Status_of_Electricity', 'Lifts', 'Other_Tenants_Preferred',\n",
       "       'Age_of_Construction', 'Furnishing', 'Authority_Approval',\n",
       "       'Type_of_Ownership', 'Amenities'],\n",
       "      dtype='object')"
      ]
     },
     "execution_count": 106,
     "metadata": {},
     "output_type": "execute_result"
    }
   ],
   "source": [
    "df.columns"
   ]
  },
  {
   "cell_type": "markdown",
   "metadata": {},
   "source": [
    "### Data Check & Cleaning"
   ]
  },
  {
   "cell_type": "code",
   "execution_count": 107,
   "metadata": {},
   "outputs": [
    {
     "data": {
      "text/plain": [
       "2       591\n",
       "1       297\n",
       "3       276\n",
       "4        55\n",
       "None     29\n",
       "5        12\n",
       "Name: Bedroom, dtype: int64"
      ]
     },
     "execution_count": 107,
     "metadata": {},
     "output_type": "execute_result"
    }
   ],
   "source": [
    "df.Bedroom.value_counts()"
   ]
  },
  {
   "cell_type": "code",
   "execution_count": 108,
   "metadata": {},
   "outputs": [
    {
     "data": {
      "text/plain": [
       "array(['6', '2', '4', '1', 'Furnishing', '5', '3', '>', 'None', '7'],\n",
       "      dtype=object)"
      ]
     },
     "execution_count": 108,
     "metadata": {},
     "output_type": "execute_result"
    }
   ],
   "source": [
    "df.Bathroom.unique()"
   ]
  },
  {
   "cell_type": "code",
   "execution_count": 109,
   "metadata": {},
   "outputs": [],
   "source": [
    "df.loc[df.Bathroom=='>','Bathroom']=1"
   ]
  },
  {
   "cell_type": "code",
   "execution_count": 110,
   "metadata": {},
   "outputs": [
    {
     "data": {
      "text/plain": [
       "array(['6', '2', '4', '1', 'Furnishing', '5', '3', 1, 'None', '7'],\n",
       "      dtype=object)"
      ]
     },
     "execution_count": 110,
     "metadata": {},
     "output_type": "execute_result"
    }
   ],
   "source": [
    "df.Bathroom.unique()"
   ]
  },
  {
   "cell_type": "code",
   "execution_count": 111,
   "metadata": {},
   "outputs": [],
   "source": [
    "x=df[df.Bathroom=='None'].index.to_list()"
   ]
  },
  {
   "cell_type": "code",
   "execution_count": 112,
   "metadata": {},
   "outputs": [],
   "source": [
    "df.drop(x,axis=0,inplace=True)"
   ]
  },
  {
   "cell_type": "code",
   "execution_count": 113,
   "metadata": {},
   "outputs": [],
   "source": [
    "links=pd.read_csv('links1.csv')"
   ]
  },
  {
   "cell_type": "code",
   "execution_count": 114,
   "metadata": {},
   "outputs": [
    {
     "data": {
      "text/plain": [
       "'https://www.magicbricks.com/propertyDetails/1-BHK-634-Sq-ft-Multistorey-Apartment-FOR-Rent-Dr-Ambekdar-Road-in-Pune&id=4d423538333933333833'"
      ]
     },
     "execution_count": 114,
     "metadata": {},
     "output_type": "execute_result"
    }
   ],
   "source": [
    "links['0'][1123]"
   ]
  },
  {
   "cell_type": "code",
   "execution_count": 115,
   "metadata": {},
   "outputs": [
    {
     "data": {
      "text/html": [
       "<div>\n",
       "<style scoped>\n",
       "    .dataframe tbody tr th:only-of-type {\n",
       "        vertical-align: middle;\n",
       "    }\n",
       "\n",
       "    .dataframe tbody tr th {\n",
       "        vertical-align: top;\n",
       "    }\n",
       "\n",
       "    .dataframe thead th {\n",
       "        text-align: right;\n",
       "    }\n",
       "</style>\n",
       "<table border=\"1\" class=\"dataframe\">\n",
       "  <thead>\n",
       "    <tr style=\"text-align: right;\">\n",
       "      <th></th>\n",
       "      <th>Bedroom</th>\n",
       "      <th>Bathroom</th>\n",
       "      <th>Balcony</th>\n",
       "      <th>Project</th>\n",
       "      <th>Super_area</th>\n",
       "      <th>Carpet_area</th>\n",
       "      <th>Furnished_status</th>\n",
       "      <th>Car_parking</th>\n",
       "      <th>Tenants_Preferred</th>\n",
       "      <th>Water_Availability</th>\n",
       "      <th>Rental_Value</th>\n",
       "      <th>Booking_Amount</th>\n",
       "      <th>Facilities</th>\n",
       "      <th>Address</th>\n",
       "      <th>Landmarks</th>\n",
       "      <th>Status</th>\n",
       "      <th>Overlooking</th>\n",
       "      <th>Flooring</th>\n",
       "      <th>Status_of_Electricity</th>\n",
       "      <th>Lifts</th>\n",
       "      <th>Other_Tenants_Preferred</th>\n",
       "      <th>Age_of_Construction</th>\n",
       "      <th>Furnishing</th>\n",
       "      <th>Authority_Approval</th>\n",
       "      <th>Type_of_Ownership</th>\n",
       "      <th>Amenities</th>\n",
       "    </tr>\n",
       "  </thead>\n",
       "  <tbody>\n",
       "    <tr>\n",
       "      <th>237</th>\n",
       "      <td>1</td>\n",
       "      <td>1</td>\n",
       "      <td>more</td>\n",
       "      <td>None</td>\n",
       "      <td>None</td>\n",
       "      <td>625</td>\n",
       "      <td>Unfurnished</td>\n",
       "      <td>None</td>\n",
       "      <td>Bachelors</td>\n",
       "      <td>None</td>\n",
       "      <td>₹\\n13,000\\n\\n\\n\\nSee Other Charges\\n\\nFREE Ren...</td>\n",
       "      <td>₹\\n40,000</td>\n",
       "      <td>Power Back Up, Lift, Swimming Pool, Gymnasium,...</td>\n",
       "      <td>Near Magarpatta, Pune Solapur Road, Manjri Bud...</td>\n",
       "      <td>Serum Institute, Magarpatta IT Park, SP Infocity</td>\n",
       "      <td>None</td>\n",
       "      <td>Garden/Park, Pool</td>\n",
       "      <td>None</td>\n",
       "      <td>None</td>\n",
       "      <td>None</td>\n",
       "      <td>None</td>\n",
       "      <td>New Construction</td>\n",
       "      <td>Unfurnished</td>\n",
       "      <td>None</td>\n",
       "      <td>None</td>\n",
       "      <td>None</td>\n",
       "    </tr>\n",
       "    <tr>\n",
       "      <th>321</th>\n",
       "      <td>3</td>\n",
       "      <td>3</td>\n",
       "      <td>more</td>\n",
       "      <td>None</td>\n",
       "      <td>1600</td>\n",
       "      <td>1500</td>\n",
       "      <td>Semi-Furnished</td>\n",
       "      <td>None</td>\n",
       "      <td>Bachelors</td>\n",
       "      <td>None</td>\n",
       "      <td>₹\\n34,000\\n\\n\\n\\nSee Other Charges\\n\\nFREE Ren...</td>\n",
       "      <td>₹\\n90,000</td>\n",
       "      <td>Reserved Parking</td>\n",
       "      <td>adreno tower Amanora park Town Hadapsar Pune, ...</td>\n",
       "      <td>Amanora park Town</td>\n",
       "      <td>None</td>\n",
       "      <td>Pool, Garden/Park, Main Road</td>\n",
       "      <td>None</td>\n",
       "      <td>None</td>\n",
       "      <td>None</td>\n",
       "      <td>Non-Vegetarians, Without Company Lease, Pets a...</td>\n",
       "      <td>New Construction</td>\n",
       "      <td>Semi-Furnished</td>\n",
       "      <td>None</td>\n",
       "      <td>Co-operative Society</td>\n",
       "      <td>None</td>\n",
       "    </tr>\n",
       "    <tr>\n",
       "      <th>473</th>\n",
       "      <td>3</td>\n",
       "      <td>3</td>\n",
       "      <td>more</td>\n",
       "      <td>None</td>\n",
       "      <td>2200</td>\n",
       "      <td>1600</td>\n",
       "      <td>Unfurnished</td>\n",
       "      <td>None</td>\n",
       "      <td>None</td>\n",
       "      <td>None</td>\n",
       "      <td>₹\\n40,000\\n\\n\\n\\nSee Other Charges\\n\\nFREE Ren...</td>\n",
       "      <td>₹\\n1.2 Lac</td>\n",
       "      <td>Power Back Up, Lift, Swimming Pool, Gymnasium,...</td>\n",
       "      <td>Pune, Boat Club Road, Pune - Central, Maharash...</td>\n",
       "      <td>Boat Club Road.</td>\n",
       "      <td>None</td>\n",
       "      <td>Garden/Park</td>\n",
       "      <td>None</td>\n",
       "      <td>None</td>\n",
       "      <td>None</td>\n",
       "      <td>None</td>\n",
       "      <td>Above 20 years</td>\n",
       "      <td>Unfurnished</td>\n",
       "      <td>None</td>\n",
       "      <td>None</td>\n",
       "      <td>None</td>\n",
       "    </tr>\n",
       "    <tr>\n",
       "      <th>524</th>\n",
       "      <td>1</td>\n",
       "      <td>1</td>\n",
       "      <td>more</td>\n",
       "      <td>Pristine Grandeur</td>\n",
       "      <td>600</td>\n",
       "      <td>400</td>\n",
       "      <td>Unfurnished</td>\n",
       "      <td>1</td>\n",
       "      <td>Bachelors</td>\n",
       "      <td>24 Hours Available</td>\n",
       "      <td>₹\\n12,000\\n\\n\\n₹\\n1,000 \\n                    ...</td>\n",
       "      <td>₹\\n40,000</td>\n",
       "      <td>Power Back Up, Lift, Club House, Swimming Pool...</td>\n",
       "      <td>datta mandir road, Wakad, Pune - West, Maharas...</td>\n",
       "      <td>Global punjab hotel</td>\n",
       "      <td>Immediately Available</td>\n",
       "      <td>Garden/Park</td>\n",
       "      <td>Vitrified, Marble, Granite</td>\n",
       "      <td>No/Rare Powercut</td>\n",
       "      <td>None</td>\n",
       "      <td>Pets allowed</td>\n",
       "      <td>5 to 10 years</td>\n",
       "      <td>Unfurnished</td>\n",
       "      <td>None</td>\n",
       "      <td>Freehold</td>\n",
       "      <td>Indoor Squash &amp; Badminton Courts\\nJogging and ...</td>\n",
       "    </tr>\n",
       "    <tr>\n",
       "      <th>525</th>\n",
       "      <td>2</td>\n",
       "      <td>2</td>\n",
       "      <td>more</td>\n",
       "      <td>Sapphire Park</td>\n",
       "      <td>1190</td>\n",
       "      <td>860</td>\n",
       "      <td>Unfurnished</td>\n",
       "      <td>1</td>\n",
       "      <td>None</td>\n",
       "      <td>24 Hours Available</td>\n",
       "      <td>₹\\n22,000\\n\\n\\n₹\\n1,000 \\n                    ...</td>\n",
       "      <td>₹\\n50,000</td>\n",
       "      <td>Power Back Up, Lift, Rain Water Harvesting, Cl...</td>\n",
       "      <td>Wakad, Pune, Wakad, Pune - West, Maharashtra\\n...</td>\n",
       "      <td>Wakad</td>\n",
       "      <td>Immediately Available</td>\n",
       "      <td>Garden/Park, Main Road</td>\n",
       "      <td>Vitrified, Wooden</td>\n",
       "      <td>No/Rare Powercut</td>\n",
       "      <td>2</td>\n",
       "      <td>None</td>\n",
       "      <td>Less than 5 years</td>\n",
       "      <td>Unfurnished</td>\n",
       "      <td>None</td>\n",
       "      <td>None</td>\n",
       "      <td>Laundry Service\\nVisitor Parking\\nWaste Dispos...</td>\n",
       "    </tr>\n",
       "    <tr>\n",
       "      <th>761</th>\n",
       "      <td>1</td>\n",
       "      <td>1</td>\n",
       "      <td>more</td>\n",
       "      <td>None</td>\n",
       "      <td>600</td>\n",
       "      <td>600</td>\n",
       "      <td>Furnished</td>\n",
       "      <td>None</td>\n",
       "      <td>None</td>\n",
       "      <td>24 Hours Available</td>\n",
       "      <td>₹\\n16,000\\n\\n\\n\\nSee Other Charges\\n\\nFREE Ren...</td>\n",
       "      <td>₹\\n50,000</td>\n",
       "      <td>Power Back Up, Lift, Swimming Pool, Gymnasium,...</td>\n",
       "      <td>B-20., Shastrinagar, Pune - East, Maharashtra\\...</td>\n",
       "      <td>Close to main Alandi Road and walking distance...</td>\n",
       "      <td>Immediately Available</td>\n",
       "      <td>Garden/Park</td>\n",
       "      <td>Marble</td>\n",
       "      <td>No/Rare Powercut</td>\n",
       "      <td>1</td>\n",
       "      <td>Without Company Lease</td>\n",
       "      <td>5 to 10 years</td>\n",
       "      <td>Furnished</td>\n",
       "      <td>None</td>\n",
       "      <td>None</td>\n",
       "      <td>None</td>\n",
       "    </tr>\n",
       "  </tbody>\n",
       "</table>\n",
       "</div>"
      ],
      "text/plain": [
       "    Bedroom Bathroom Balcony            Project Super_area Carpet_area  \\\n",
       "237       1        1    more               None       None         625   \n",
       "321       3        3    more               None       1600        1500   \n",
       "473       3        3    more               None       2200        1600   \n",
       "524       1        1    more  Pristine Grandeur        600         400   \n",
       "525       2        2    more      Sapphire Park       1190         860   \n",
       "761       1        1    more               None        600         600   \n",
       "\n",
       "    Furnished_status Car_parking Tenants_Preferred  Water_Availability  \\\n",
       "237      Unfurnished        None         Bachelors                None   \n",
       "321   Semi-Furnished        None         Bachelors                None   \n",
       "473      Unfurnished        None              None                None   \n",
       "524      Unfurnished           1         Bachelors  24 Hours Available   \n",
       "525      Unfurnished           1              None  24 Hours Available   \n",
       "761        Furnished        None              None  24 Hours Available   \n",
       "\n",
       "                                          Rental_Value Booking_Amount  \\\n",
       "237  ₹\\n13,000\\n\\n\\n\\nSee Other Charges\\n\\nFREE Ren...      ₹\\n40,000   \n",
       "321  ₹\\n34,000\\n\\n\\n\\nSee Other Charges\\n\\nFREE Ren...      ₹\\n90,000   \n",
       "473  ₹\\n40,000\\n\\n\\n\\nSee Other Charges\\n\\nFREE Ren...     ₹\\n1.2 Lac   \n",
       "524  ₹\\n12,000\\n\\n\\n₹\\n1,000 \\n                    ...      ₹\\n40,000   \n",
       "525  ₹\\n22,000\\n\\n\\n₹\\n1,000 \\n                    ...      ₹\\n50,000   \n",
       "761  ₹\\n16,000\\n\\n\\n\\nSee Other Charges\\n\\nFREE Ren...      ₹\\n50,000   \n",
       "\n",
       "                                            Facilities  \\\n",
       "237  Power Back Up, Lift, Swimming Pool, Gymnasium,...   \n",
       "321                                   Reserved Parking   \n",
       "473  Power Back Up, Lift, Swimming Pool, Gymnasium,...   \n",
       "524  Power Back Up, Lift, Club House, Swimming Pool...   \n",
       "525  Power Back Up, Lift, Rain Water Harvesting, Cl...   \n",
       "761  Power Back Up, Lift, Swimming Pool, Gymnasium,...   \n",
       "\n",
       "                                               Address  \\\n",
       "237  Near Magarpatta, Pune Solapur Road, Manjri Bud...   \n",
       "321  adreno tower Amanora park Town Hadapsar Pune, ...   \n",
       "473  Pune, Boat Club Road, Pune - Central, Maharash...   \n",
       "524  datta mandir road, Wakad, Pune - West, Maharas...   \n",
       "525  Wakad, Pune, Wakad, Pune - West, Maharashtra\\n...   \n",
       "761  B-20., Shastrinagar, Pune - East, Maharashtra\\...   \n",
       "\n",
       "                                             Landmarks                 Status  \\\n",
       "237   Serum Institute, Magarpatta IT Park, SP Infocity                   None   \n",
       "321                                  Amanora park Town                   None   \n",
       "473                                    Boat Club Road.                   None   \n",
       "524                                Global punjab hotel  Immediately Available   \n",
       "525                                              Wakad  Immediately Available   \n",
       "761  Close to main Alandi Road and walking distance...  Immediately Available   \n",
       "\n",
       "                      Overlooking                    Flooring  \\\n",
       "237             Garden/Park, Pool                        None   \n",
       "321  Pool, Garden/Park, Main Road                        None   \n",
       "473                   Garden/Park                        None   \n",
       "524                   Garden/Park  Vitrified, Marble, Granite   \n",
       "525        Garden/Park, Main Road           Vitrified, Wooden   \n",
       "761                   Garden/Park                      Marble   \n",
       "\n",
       "    Status_of_Electricity Lifts  \\\n",
       "237                  None  None   \n",
       "321                  None  None   \n",
       "473                  None  None   \n",
       "524      No/Rare Powercut  None   \n",
       "525      No/Rare Powercut     2   \n",
       "761      No/Rare Powercut     1   \n",
       "\n",
       "                               Other_Tenants_Preferred Age_of_Construction  \\\n",
       "237                                               None    New Construction   \n",
       "321  Non-Vegetarians, Without Company Lease, Pets a...    New Construction   \n",
       "473                                               None      Above 20 years   \n",
       "524                                       Pets allowed       5 to 10 years   \n",
       "525                                               None   Less than 5 years   \n",
       "761                              Without Company Lease       5 to 10 years   \n",
       "\n",
       "         Furnishing Authority_Approval     Type_of_Ownership  \\\n",
       "237     Unfurnished               None                  None   \n",
       "321  Semi-Furnished               None  Co-operative Society   \n",
       "473     Unfurnished               None                  None   \n",
       "524     Unfurnished               None              Freehold   \n",
       "525     Unfurnished               None                  None   \n",
       "761       Furnished               None                  None   \n",
       "\n",
       "                                             Amenities  \n",
       "237                                               None  \n",
       "321                                               None  \n",
       "473                                               None  \n",
       "524  Indoor Squash & Badminton Courts\\nJogging and ...  \n",
       "525  Laundry Service\\nVisitor Parking\\nWaste Dispos...  \n",
       "761                                               None  "
      ]
     },
     "execution_count": 115,
     "metadata": {},
     "output_type": "execute_result"
    }
   ],
   "source": [
    "df.loc[df.Balcony=='more',:]"
   ]
  },
  {
   "cell_type": "code",
   "execution_count": 116,
   "metadata": {},
   "outputs": [],
   "source": [
    "#  Manual imputation of the abnormal values"
   ]
  },
  {
   "cell_type": "code",
   "execution_count": 117,
   "metadata": {},
   "outputs": [],
   "source": [
    "df.loc[237,'Balcony']=1"
   ]
  },
  {
   "cell_type": "code",
   "execution_count": 118,
   "metadata": {},
   "outputs": [],
   "source": [
    "df.loc[321,'Balcony']=2"
   ]
  },
  {
   "cell_type": "code",
   "execution_count": 119,
   "metadata": {},
   "outputs": [],
   "source": [
    "df.loc[473,'Balcony']=4"
   ]
  },
  {
   "cell_type": "code",
   "execution_count": 120,
   "metadata": {},
   "outputs": [],
   "source": [
    "df.loc[524,'Balcony']=1"
   ]
  },
  {
   "cell_type": "code",
   "execution_count": 121,
   "metadata": {},
   "outputs": [],
   "source": [
    "df.loc[525,'Balcony']=2"
   ]
  },
  {
   "cell_type": "code",
   "execution_count": 122,
   "metadata": {},
   "outputs": [],
   "source": [
    "df.loc[761,'Balcony']=1"
   ]
  },
  {
   "cell_type": "code",
   "execution_count": 123,
   "metadata": {},
   "outputs": [
    {
     "data": {
      "text/html": [
       "<div>\n",
       "<style scoped>\n",
       "    .dataframe tbody tr th:only-of-type {\n",
       "        vertical-align: middle;\n",
       "    }\n",
       "\n",
       "    .dataframe tbody tr th {\n",
       "        vertical-align: top;\n",
       "    }\n",
       "\n",
       "    .dataframe thead th {\n",
       "        text-align: right;\n",
       "    }\n",
       "</style>\n",
       "<table border=\"1\" class=\"dataframe\">\n",
       "  <thead>\n",
       "    <tr style=\"text-align: right;\">\n",
       "      <th></th>\n",
       "      <th>Bedroom</th>\n",
       "      <th>Bathroom</th>\n",
       "      <th>Balcony</th>\n",
       "      <th>Project</th>\n",
       "      <th>Super_area</th>\n",
       "      <th>Carpet_area</th>\n",
       "      <th>Furnished_status</th>\n",
       "      <th>Car_parking</th>\n",
       "      <th>Tenants_Preferred</th>\n",
       "      <th>Water_Availability</th>\n",
       "      <th>Rental_Value</th>\n",
       "      <th>Booking_Amount</th>\n",
       "      <th>Facilities</th>\n",
       "      <th>Address</th>\n",
       "      <th>Landmarks</th>\n",
       "      <th>Status</th>\n",
       "      <th>Overlooking</th>\n",
       "      <th>Flooring</th>\n",
       "      <th>Status_of_Electricity</th>\n",
       "      <th>Lifts</th>\n",
       "      <th>Other_Tenants_Preferred</th>\n",
       "      <th>Age_of_Construction</th>\n",
       "      <th>Furnishing</th>\n",
       "      <th>Authority_Approval</th>\n",
       "      <th>Type_of_Ownership</th>\n",
       "      <th>Amenities</th>\n",
       "    </tr>\n",
       "  </thead>\n",
       "  <tbody>\n",
       "    <tr>\n",
       "      <th>263</th>\n",
       "      <td>3</td>\n",
       "      <td>3</td>\n",
       "      <td>Rental</td>\n",
       "      <td>Kaasp Countyy</td>\n",
       "      <td>1400</td>\n",
       "      <td>1100</td>\n",
       "      <td>Furnished</td>\n",
       "      <td>1</td>\n",
       "      <td>Bachelors</td>\n",
       "      <td>24 Hours Available</td>\n",
       "      <td>₹\\n23,000\\n\\n\\n\\nSee Other Charges\\n\\nFREE Ren...</td>\n",
       "      <td>₹\\n55,000</td>\n",
       "      <td>Power Back Up, Lift, Reserved Parking, Securit...</td>\n",
       "      <td>Wakad, Pune, Wakad, Pune - West, Maharashtra\\n...</td>\n",
       "      <td>near chatrapati chowk ,very near to main road,...</td>\n",
       "      <td>Immediately Available</td>\n",
       "      <td>Garden/Park, Pool</td>\n",
       "      <td>Vitrified</td>\n",
       "      <td>No/Rare Powercut</td>\n",
       "      <td>1</td>\n",
       "      <td>Pets not allowed</td>\n",
       "      <td>10 to 15 years</td>\n",
       "      <td>Furnished</td>\n",
       "      <td>None</td>\n",
       "      <td>None</td>\n",
       "      <td>None</td>\n",
       "    </tr>\n",
       "    <tr>\n",
       "      <th>1127</th>\n",
       "      <td>1</td>\n",
       "      <td>1</td>\n",
       "      <td>Rental</td>\n",
       "      <td>Sollanaa Apartment</td>\n",
       "      <td>616</td>\n",
       "      <td>None</td>\n",
       "      <td>Unfurnished</td>\n",
       "      <td>None</td>\n",
       "      <td>None</td>\n",
       "      <td>None</td>\n",
       "      <td>₹\\n13,000\\n\\n\\n\\n\\nFREE Rent Agreement</td>\n",
       "      <td>NaN</td>\n",
       "      <td>Swimming Pool, Vaastu Compliant, Waste Disposal</td>\n",
       "      <td>Dange Chowk, Pune - North, Maharashtra\\n      ...</td>\n",
       "      <td>None</td>\n",
       "      <td>Immediately</td>\n",
       "      <td>None</td>\n",
       "      <td>None</td>\n",
       "      <td>None</td>\n",
       "      <td>None</td>\n",
       "      <td>None</td>\n",
       "      <td>None</td>\n",
       "      <td>Unfurnished</td>\n",
       "      <td>None</td>\n",
       "      <td>None</td>\n",
       "      <td>None</td>\n",
       "    </tr>\n",
       "  </tbody>\n",
       "</table>\n",
       "</div>"
      ],
      "text/plain": [
       "     Bedroom Bathroom Balcony             Project Super_area Carpet_area  \\\n",
       "263        3        3  Rental       Kaasp Countyy       1400        1100   \n",
       "1127       1        1  Rental  Sollanaa Apartment        616        None   \n",
       "\n",
       "     Furnished_status Car_parking Tenants_Preferred  Water_Availability  \\\n",
       "263         Furnished           1         Bachelors  24 Hours Available   \n",
       "1127      Unfurnished        None              None                None   \n",
       "\n",
       "                                           Rental_Value Booking_Amount  \\\n",
       "263   ₹\\n23,000\\n\\n\\n\\nSee Other Charges\\n\\nFREE Ren...      ₹\\n55,000   \n",
       "1127             ₹\\n13,000\\n\\n\\n\\n\\nFREE Rent Agreement            NaN   \n",
       "\n",
       "                                             Facilities  \\\n",
       "263   Power Back Up, Lift, Reserved Parking, Securit...   \n",
       "1127    Swimming Pool, Vaastu Compliant, Waste Disposal   \n",
       "\n",
       "                                                Address  \\\n",
       "263   Wakad, Pune, Wakad, Pune - West, Maharashtra\\n...   \n",
       "1127  Dange Chowk, Pune - North, Maharashtra\\n      ...   \n",
       "\n",
       "                                              Landmarks  \\\n",
       "263   near chatrapati chowk ,very near to main road,...   \n",
       "1127                                               None   \n",
       "\n",
       "                     Status        Overlooking   Flooring  \\\n",
       "263   Immediately Available  Garden/Park, Pool  Vitrified   \n",
       "1127            Immediately               None       None   \n",
       "\n",
       "     Status_of_Electricity Lifts Other_Tenants_Preferred Age_of_Construction  \\\n",
       "263       No/Rare Powercut     1        Pets not allowed      10 to 15 years   \n",
       "1127                  None  None                    None                None   \n",
       "\n",
       "       Furnishing Authority_Approval Type_of_Ownership Amenities  \n",
       "263     Furnished               None              None      None  \n",
       "1127  Unfurnished               None              None      None  "
      ]
     },
     "execution_count": 123,
     "metadata": {},
     "output_type": "execute_result"
    }
   ],
   "source": [
    "df.loc[df.Balcony=='Rental',:]"
   ]
  },
  {
   "cell_type": "code",
   "execution_count": 124,
   "metadata": {},
   "outputs": [],
   "source": [
    "df.loc[263,'Balcony']=2"
   ]
  },
  {
   "cell_type": "code",
   "execution_count": 125,
   "metadata": {},
   "outputs": [],
   "source": [
    "df.loc[1127,'Balcony']=1"
   ]
  },
  {
   "cell_type": "code",
   "execution_count": 126,
   "metadata": {},
   "outputs": [],
   "source": [
    "df.loc[df.Balcony=='10-plus','Balcony']=1"
   ]
  },
  {
   "cell_type": "code",
   "execution_count": 127,
   "metadata": {},
   "outputs": [
    {
     "data": {
      "text/plain": [
       "array(['2', '1', '3', '33', '4', 'None', '5', '22', '7', 1, 2, 4, '27',\n",
       "       '24', '10'], dtype=object)"
      ]
     },
     "execution_count": 127,
     "metadata": {},
     "output_type": "execute_result"
    }
   ],
   "source": [
    "df.Balcony.unique()"
   ]
  },
  {
   "cell_type": "code",
   "execution_count": 128,
   "metadata": {},
   "outputs": [],
   "source": [
    "df.loc[(df.Balcony==\"10\") |(df.Balcony=='24')|(df.Balcony=='27'),'Balcony']=1"
   ]
  },
  {
   "cell_type": "code",
   "execution_count": 129,
   "metadata": {},
   "outputs": [
    {
     "data": {
      "text/plain": [
       "array(['2', '1', '3', '33', '4', 'None', '5', '22', '7', 1, 2, 4],\n",
       "      dtype=object)"
      ]
     },
     "execution_count": 129,
     "metadata": {},
     "output_type": "execute_result"
    }
   ],
   "source": [
    "df.Balcony.unique()"
   ]
  },
  {
   "cell_type": "code",
   "execution_count": 130,
   "metadata": {
    "scrolled": true
   },
   "outputs": [
    {
     "data": {
      "text/plain": [
       "None                           433\n",
       "Paranjape Blue Ridge             7\n",
       "Amanora Aspire Towers            7\n",
       "Eon Waterfront                   7\n",
       "F Residences                     6\n",
       "                              ... \n",
       "Park Infinia                     1\n",
       "Kalpataru Serenity               1\n",
       "Gera GreensVille SkyVillas       1\n",
       "Cherry blossom Park              1\n",
       "Harshville Veerbhadra nagar      1\n",
       "Name: Project, Length: 638, dtype: int64"
      ]
     },
     "execution_count": 130,
     "metadata": {},
     "output_type": "execute_result"
    }
   ],
   "source": [
    "df.Project.value_counts()"
   ]
  },
  {
   "cell_type": "code",
   "execution_count": 131,
   "metadata": {},
   "outputs": [
    {
     "data": {
      "text/plain": [
       "array(['4088', '1200', '710', '1191', '1050', '1350', '870', '2200',\n",
       "       '550', '494', '2345', '650', '1064', '945', 'None', '960', '600',\n",
       "       '2293', '6850', '1140', '1600', '1650', '1250', '2800', '1059',\n",
       "       '2900', '1150', '3740', '1432', '450', '1450', '900', '1440',\n",
       "       '2650', '1530', '4350', '1100', '1750', '2835', '4500', '1300',\n",
       "       '950', '1092', '565', '1000', '1441', '1171', '952', '2500',\n",
       "       '1420', '1700', '2890', '985', '1400', '990', '635', '1110',\n",
       "       '1690', '1072', '721', '2979', '3435', '3430', '1500', '1378',\n",
       "       '1660', '915', '2000', '2100', '1104', '3500', '1550', '1935',\n",
       "       '1315', '1800', '750', '580', '1900', '1230', '1270', '500',\n",
       "       '1560', '4700', '1240', '1870', '980', '753', '975', '5350',\n",
       "       '1227', '1080', '1025', '1012', '675', '669', '2389', '1320',\n",
       "       '1665', '1044', '2640', '1180', '690', '4800', '1645', '979',\n",
       "       '1001', '800', '1765', '640', '905', '839', '850', '663', '1090',\n",
       "       '1410', '660', '6500', '2584', '1460', '480', '1953', '1365',\n",
       "       '726', '695', '824', '495', '2300', '1109', '3700', '572', '1145',\n",
       "       '1220', '878', '700', '637', '1076', '1066', '1010', '2700', '736',\n",
       "       '1175', '951', '1116', '1097', '1005', '970', '1372', '1055',\n",
       "       '1143', '2015', '1360', '3300', '1608', '1605', '760', '3400',\n",
       "       '2220', '4460', '1034', '1071', '2610', '1780', '1098', '670',\n",
       "       '1068', '555', '784', '1093', '1545', '609', '997', '615', '921',\n",
       "       '412', '1238', '2206', '350', '1970', '940', '641', '770', '4000',\n",
       "       '876', '1070', '742', '1147', '2322', '18,000', '4216', '860',\n",
       "       '525', '585', '901', '880', '3000', '920', '1330', '903', '855',\n",
       "       '1112', '620', '977', '1492', '705', '186', '1626', '1435', '1945',\n",
       "       '130', '515', '570', '780', '923', '1189', '785', '1048', '932',\n",
       "       '1580', '1160', '1256', '2987', '2210', '1390', '1095', '1006',\n",
       "       '1292', '1217', '949', '6100', '1846', '1020', '1228', '1060',\n",
       "       '4081', '1225', '1214', '1120', '1190', '250', '1340', '1269',\n",
       "       '1820', '1075', '702', '720', '1113', '1405', '798', '1503',\n",
       "       '1039', '756', '1022', '908', '1065', '981', '1304', '1637', '625',\n",
       "       '1462', '2010', '1260', '470', '672', '1711', '749', '630', '1170',\n",
       "       '1040', '897', '610', '638', '657', '1155', '3315', '1345', '996',\n",
       "       '634', '6862', '1375', '445', '1487', '723', '890', '851', '955',\n",
       "       '629', '2195', '1275', '1208', '2350', '898', '1418', '1179',\n",
       "       '1485', '2018', '1540', '644', '1414', '938', '874', '883', '825',\n",
       "       '840', '716', '725', '820', '575', '956', '1313', '1725', '810',\n",
       "       '790', '627', '646', '972', '560', '1242', '5793', '1096', '1099',\n",
       "       '510', '3100', '859', '1125', '775', '1265', '786', '535', '1197',\n",
       "       '685', '1123', '1255', '858', '971', '863', '1825', '1470', '590',\n",
       "       '1317', '1290', '1352', '830', '931', '1235', '520', '1664', '822',\n",
       "       '1401', '82', '930', '935', '910', '2400', '1035', '1024', '595',\n",
       "       '400', '375', '792', '2600', '964', '1087', '1335', '330', '1394',\n",
       "       '988', '1475', '809', '1159', '631', '1409', '100', '1231', '896',\n",
       "       '682', '200', '740', '622', '856', '857', '789', '538', '4600',\n",
       "       '1244', '1054', '1045', '616', '866', '3044', '978', '410', '966',\n",
       "       '1130', '680', '1310', '1490', '1085', '1413', '954', '688',\n",
       "       '2550', '430', '540', '1383', '1126', '1173', '836', '989', '1322',\n",
       "       '549', '885', '1465'], dtype=object)"
      ]
     },
     "execution_count": 131,
     "metadata": {},
     "output_type": "execute_result"
    }
   ],
   "source": [
    "df.Super_area.unique()"
   ]
  },
  {
   "cell_type": "code",
   "execution_count": 132,
   "metadata": {},
   "outputs": [
    {
     "data": {
      "text/plain": [
       "array(['None', '956', '566', '780', '950', '1200', '680', '1788', '480',\n",
       "       '800', '439', '1738', '510', '805', '802', '670', '600', '1661',\n",
       "       '5000', '900', '450', '922', '2300', '836', '550', '2700', '1150',\n",
       "       '707', '3000', '1530', '3300', '1400', '2100', '3330', '666',\n",
       "       '809', '499', '850', '1100', '925', '650', '825', '1650', '1450',\n",
       "       '1014', '630', '745', '470', '515', '640', '1050', '840', '750',\n",
       "       '920', '1300', '520', '2900', '1030', '1410', '1250', '1700',\n",
       "       '730', '2500', '990', '1520', '740', '625', '940', '500', '1243',\n",
       "       '930', '3600', '1090', '1800', '660', '1550', '629', '555', '1950',\n",
       "       '4500', '1350', '1600', '980', '1185', '747', '2200', '4200',\n",
       "       '1245', '755', '935', '2990', '867', '699', '890', '721', '820',\n",
       "       '873', '700', '690', '430', '575', '860', '1230', '2000', '1280',\n",
       "       '420', '611', '765', '554', '766', '1000', '751', '463', '697',\n",
       "       '710', '2350', '776', '1045', '770', '2450', '3800', '835', '476',\n",
       "       '3500', '1500', '3100', '1270', '1330', '760', '3200', '1326',\n",
       "       '827', '3568', '1034', '1424', '810', '725', '1750', '501', '517',\n",
       "       '624', '1290', '830', '451', '1160', '687', '582', '815', '16,000',\n",
       "       '752', '2250', '790', '560', '785', '435', '1125', '1003', '1205',\n",
       "       '1105', '585', '610', '464', '941', '1070', '400', '715', '691',\n",
       "       '1271', '1580', '605', '1180', '448', '2510', '716', '475', '895',\n",
       "       '665', '1080', '821', '960', '2800', '1025', '915', '495', '180',\n",
       "       '1020', '300', '571', '1075', '870', '675', '908', '459', '1052',\n",
       "       '541', '457', '685', '545', '1431', '490', '615', '682', '853',\n",
       "       '1420', '1168', '4000', '2850', '1120', '856', '738', '1063',\n",
       "       '530', '1340', '975', '736', '636', '905', '1380', '419', '995',\n",
       "       '2400', '2150', '880', '823', '1850', '778', '859', '693', '645',\n",
       "       '471', '646', '589', '655', '516', '350', '1260', '1460', '824',\n",
       "       '875', '954', '767', '1560', '440', '591', '2515', '1255', '622',\n",
       "       '1317', '1457', '416', '503', '732', '570', '865', '2600', '1002',\n",
       "       '427', '782', '720', '965', '263', '580', '514', '1854', '410',\n",
       "       '612', '525', '1066', '433', '360', '415', '631', '1980', '150',\n",
       "       '743', '1040', '4329', '456', '1490', '969', '620', '1130', '754',\n",
       "       '667', '734', '689', '294', '1060', '590', '1140', '1126', '926',\n",
       "       '724', '414', '1056', '460', '507'], dtype=object)"
      ]
     },
     "execution_count": 132,
     "metadata": {},
     "output_type": "execute_result"
    }
   ],
   "source": [
    "df.Carpet_area.unique()"
   ]
  },
  {
   "cell_type": "code",
   "execution_count": 133,
   "metadata": {},
   "outputs": [
    {
     "data": {
      "text/plain": [
       "Unfurnished       657\n",
       "Semi-Furnished    392\n",
       "Furnished         191\n",
       "None               18\n",
       "Name: Furnished_status, dtype: int64"
      ]
     },
     "execution_count": 133,
     "metadata": {},
     "output_type": "execute_result"
    }
   ],
   "source": [
    "df.Furnished_status.value_counts()"
   ]
  },
  {
   "cell_type": "code",
   "execution_count": 134,
   "metadata": {},
   "outputs": [
    {
     "data": {
      "text/plain": [
       "1       594\n",
       "None    561\n",
       "2        76\n",
       "3         8\n",
       "4         6\n",
       "201       3\n",
       "10        2\n",
       "66        1\n",
       "301       1\n",
       "101       1\n",
       "204       1\n",
       "80        1\n",
       "604       1\n",
       "5         1\n",
       "131       1\n",
       "Name: Car_parking, dtype: int64"
      ]
     },
     "execution_count": 134,
     "metadata": {},
     "output_type": "execute_result"
    }
   ],
   "source": [
    "df.Car_parking.value_counts()"
   ]
  },
  {
   "cell_type": "code",
   "execution_count": 135,
   "metadata": {},
   "outputs": [
    {
     "data": {
      "text/plain": [
       "None         611\n",
       "Bachelors    452\n",
       "Family       195\n",
       "Name: Tenants_Preferred, dtype: int64"
      ]
     },
     "execution_count": 135,
     "metadata": {},
     "output_type": "execute_result"
    }
   ],
   "source": [
    "df.Tenants_Preferred.value_counts()"
   ]
  },
  {
   "cell_type": "code",
   "execution_count": 136,
   "metadata": {},
   "outputs": [
    {
     "data": {
      "text/plain": [
       "24 Hours Available    790\n",
       "None                  465\n",
       "12 Hours Available      3\n",
       "Name: Water_Availability, dtype: int64"
      ]
     },
     "execution_count": 136,
     "metadata": {},
     "output_type": "execute_result"
    }
   ],
   "source": [
    "df.Water_Availability.value_counts()"
   ]
  },
  {
   "cell_type": "code",
   "execution_count": 137,
   "metadata": {},
   "outputs": [
    {
     "data": {
      "text/plain": [
       "Index(['Bedroom', 'Bathroom', 'Balcony', 'Project', 'Super_area',\n",
       "       'Carpet_area', 'Furnished_status', 'Car_parking', 'Tenants_Preferred',\n",
       "       'Water_Availability', 'Rental_Value', 'Booking_Amount', 'Facilities',\n",
       "       'Address', 'Landmarks', 'Status', 'Overlooking', 'Flooring',\n",
       "       'Status_of_Electricity', 'Lifts', 'Other_Tenants_Preferred',\n",
       "       'Age_of_Construction', 'Furnishing', 'Authority_Approval',\n",
       "       'Type_of_Ownership', 'Amenities'],\n",
       "      dtype='object')"
      ]
     },
     "execution_count": 137,
     "metadata": {},
     "output_type": "execute_result"
    }
   ],
   "source": [
    "df.columns"
   ]
  },
  {
   "cell_type": "code",
   "execution_count": 138,
   "metadata": {},
   "outputs": [],
   "source": [
    "df.Rental_Value=df.Rental_Value.apply(lambda x: x.split('\\n')[1] if len(x.split('\\n'))>1 else x)"
   ]
  },
  {
   "cell_type": "code",
   "execution_count": 139,
   "metadata": {},
   "outputs": [],
   "source": [
    "df.Rental_Value=df.Rental_Value.apply(lambda x : x.replace(',',''))"
   ]
  },
  {
   "cell_type": "code",
   "execution_count": 140,
   "metadata": {},
   "outputs": [],
   "source": [
    "df.Rental_Value=df.Rental_Value.apply(lambda x: float(x[:3])*100000 if 'Lac' in x else float(x) if x !='None' else x)"
   ]
  },
  {
   "cell_type": "code",
   "execution_count": 141,
   "metadata": {},
   "outputs": [],
   "source": [
    "df.Booking_Amount=df.Booking_Amount.apply(lambda x: str(x).split('\\n')[1] if len(str(x).split('\\n'))>1 else x)"
   ]
  },
  {
   "cell_type": "code",
   "execution_count": 142,
   "metadata": {},
   "outputs": [],
   "source": [
    "df.Booking_Amount=df.Booking_Amount.apply(lambda x : str(x).replace(',',''))"
   ]
  },
  {
   "cell_type": "code",
   "execution_count": 143,
   "metadata": {},
   "outputs": [],
   "source": [
    "df.Booking_Amount=df.Booking_Amount.apply(lambda x: float((x)[:3])*100000 if 'Lac' in x else float(x) if x !='None' else x)"
   ]
  },
  {
   "cell_type": "code",
   "execution_count": 144,
   "metadata": {},
   "outputs": [],
   "source": [
    "df.drop('Facilities',axis=1,inplace=True)"
   ]
  },
  {
   "cell_type": "code",
   "execution_count": 145,
   "metadata": {},
   "outputs": [],
   "source": [
    "df.Address=df.Address.apply(lambda x: x.split('\\n')[0])"
   ]
  },
  {
   "cell_type": "code",
   "execution_count": 146,
   "metadata": {},
   "outputs": [
    {
     "data": {
      "text/plain": [
       "None                                                                                                            112\n",
       "Wakad, Pune, Wakad, Pune - West, Maharashtra                                                                     18\n",
       "Kalyani Nagar, Pune, Kalyani Nagar, Pune - East, Maharashtra                                                     15\n",
       "Wagholi, Pune, Wagholi, Pune - East, Maharashtra                                                                 13\n",
       "Hadapsar, Pune, Hadapsar, Pune - East, Maharashtra                                                               11\n",
       "                                                                                                               ... \n",
       "near oyo twin tower, Laxmi Chowk Hinjewadi, Pune - West, Maharashtra                                              1\n",
       "Flat No 11 Floor No 3 Wing B Unique Enclave Society Hadapsar Pune, Magarpatta City, Pune - East, Maharashtra      1\n",
       "choudhari nagar kharadi, Kharadi, Pune - East, Maharashtra                                                        1\n",
       "Flat No. 806 Floor No. 8 Wing B2 EL Castillo Kesnand Wagholi Pune 412207., Wagholi, Pune - East, Maharashtra      1\n",
       "near country club undri pune, NIBM Road, Pune - South, Maharashtra                                                1\n",
       "Name: Address, Length: 918, dtype: int64"
      ]
     },
     "execution_count": 146,
     "metadata": {},
     "output_type": "execute_result"
    }
   ],
   "source": [
    "df.Address.value_counts()"
   ]
  },
  {
   "cell_type": "code",
   "execution_count": 147,
   "metadata": {},
   "outputs": [],
   "source": [
    "address_0=list(df.Address.apply(lambda x: x.split(',')[0] if len(x.split(','))>0 else x).value_counts().index[:20])"
   ]
  },
  {
   "cell_type": "code",
   "execution_count": 148,
   "metadata": {},
   "outputs": [],
   "source": [
    "add_dict={}\n",
    "for i, j in enumerate(address_0):\n",
    "    add_dict[j]=i\n"
   ]
  },
  {
   "cell_type": "code",
   "execution_count": 149,
   "metadata": {},
   "outputs": [
    {
     "data": {
      "text/plain": [
       "{'None': 0,\n",
       " 'Wakad': 1,\n",
       " 'Hinjewadi': 2,\n",
       " 'Hadapsar': 3,\n",
       " 'Wagholi': 4,\n",
       " 'Kharadi': 5,\n",
       " 'Kalyani Nagar': 6,\n",
       " 'Magarpatta City': 7,\n",
       " 'Pune': 8,\n",
       " 'Wadgaon Sheri': 9,\n",
       " 'Baner': 10,\n",
       " 'Pimple Saudagar': 11,\n",
       " 'Amanora Park Town': 12,\n",
       " 'Balewadi': 13,\n",
       " 'NIBM Road': 14,\n",
       " 'Dhanori': 15,\n",
       " 'Viman Nagar': 16,\n",
       " 'Koregaon Park': 17,\n",
       " 'kharadi': 18,\n",
       " 'Aundh': 19}"
      ]
     },
     "execution_count": 149,
     "metadata": {},
     "output_type": "execute_result"
    }
   ],
   "source": [
    "add_dict"
   ]
  },
  {
   "cell_type": "code",
   "execution_count": 150,
   "metadata": {},
   "outputs": [],
   "source": [
    "df.Address=df.Address.apply(lambda x: x.split(',')[0]).map(add_dict).fillna(0)"
   ]
  },
  {
   "cell_type": "code",
   "execution_count": 151,
   "metadata": {},
   "outputs": [
    {
     "data": {
      "text/plain": [
       "['Next to Barclays office Commerzone and near to Eon Phase II too.',\n",
       " 'Lohegaon road, near to wagheshwer temple.',\n",
       " ' by Symbiosis Law College.',\n",
       " 'The property is close to vishwaraj hospital.',\n",
       " 'None',\n",
       " ' Suncity',\n",
       " 'Usha Kiran Hospital & Dr Burute Maternity Hospital',\n",
       " 'On lohegaon Wagholi road',\n",
       " 'Viman Nagar,Pune.',\n",
       " 'None',\n",
       " 'Accenture',\n",
       " 'Baner Pune',\n",
       " 'near a balajji temple pashan sus road',\n",
       " 'This property is near DSK Ranwara Lane. Bavdhan',\n",
       " 'Kasturba Housing Society is an completed premium residential property.',\n",
       " 'None',\n",
       " 'undri city center, euro school,bishops school, royal heritage mall,rubby hall hospital, inamdar hospital, magarpatta IT center.',\n",
       " 'Lane No 5 South Main Road Koregaon Park.Osho Ashram Koregaon Park.',\n",
       " 'EON IT Park',\n",
       " 'None',\n",
       " ' Magarpatta City, Hadapsar',\n",
       " 'baner road',\n",
       " 'koregaon park pune',\n",
       " 'near magarpatta city',\n",
       " 'Rajiv Gandhi Infotech Park',\n",
       " ' eon free zone.',\n",
       " 'The magnificent Ganga Arcadia that is smartly located in Kharadi, Pune',\n",
       " 'None',\n",
       " 'near wisdom world school, Park Street, wakad,pune.',\n",
       " ' Amonora Mall',\n",
       " 'nice location',\n",
       " 'Baner Pashan Link road',\n",
       " 'None',\n",
       " 'All daily use stores are located in close proximity. Property is locat',\n",
       " 'near orachad school',\n",
       " 'None',\n",
       " 'near jyoti restaurant',\n",
       " 'this property is near to eon it park, market, school etc..',\n",
       " 'Cybage',\n",
       " 'Magarpatta City',\n",
       " 'shivar garden restaurant and close to market.school.shops.bus stop etc',\n",
       " 'Eon free zone.',\n",
       " ' LMD Chowk Behind Maratha Mandir Bavdhan',\n",
       " ' eon free zone',\n",
       " 'Opposite to Emirus, Baner.',\n",
       " 'Baner',\n",
       " 'Connectivity to highway',\n",
       " 'Goel Ganga Legand soc  Suryadatta collage patil nagar bavdhan pune',\n",
       " 'united arise',\n",
       " ' passport office mundhwa pune',\n",
       " ' Star Bazaar, baner pashan link road',\n",
       " 'PMC Tax Office Alandi Road.',\n",
       " 'Dighi Police Station',\n",
       " 'Kothrud Call for more details',\n",
       " 'None',\n",
       " 'Magarpatta and Kharadi IT Hub , Seasons Mall',\n",
       " 'near barbeque resturant .',\n",
       " ' Macdonals Kalyani Nagar Pune.',\n",
       " 'near to gold adlabs kalyani nagar pune',\n",
       " 'next to Ranka jwellers',\n",
       " 'Undri',\n",
       " 'near pimple nikhle  petrol pump',\n",
       " 'renuka gulmohar is near to vijay sales and central mall at chinchwad..',\n",
       " ' by Canara Bank Dhanori.',\n",
       " ' Dr.Mar Theophilus School',\n",
       " 'lvy  estates',\n",
       " 'Bollywood Multiplex',\n",
       " ' by Wagheshwar Temple.',\n",
       " 'corporation garden',\n",
       " 'D .Y Patil College , PCMC office , Central Mall',\n",
       " ' by Renuka Mata Temple',\n",
       " 'The Property is Close to Mundhwa signal.2km Evon IT Park& magrpatta.',\n",
       " 'pune solapur road manjiri.',\n",
       " 'close to Dorabjee supermarket',\n",
       " 'Dhanukar Colony, Kothtrud.',\n",
       " 'close to colleges, schools, hospitals, Hinjewadi IT And Daily Needs',\n",
       " 'Cummins college',\n",
       " 'The Property is Close to the metro station , Market Area',\n",
       " 'jogger,s park',\n",
       " 'EON IT Park (Kharadi)  0.5KM, World Trade Centre (Kharadi)  0.5KM, Victorious International School (Kharadi)  1KM, Zensar IT Park (Kharadi)  1.5KM, Reliance Mart (Kharadi)  2KM, Phoenix Mall (Nagar Road)  5KM, Grand Hyatt Hotel (Nagar Road)  5.5KM,',\n",
       " 'near EON IT PARK',\n",
       " 'Close to major banks , schools and shopping utilities.',\n",
       " 'Property is Close to Pentagaon ,Destination centre ,Amanora School',\n",
       " ' magarpatta city,mg road and pune station.',\n",
       " 'wtc and eon it park',\n",
       " ' By Pristine Prolife',\n",
       " 'None',\n",
       " 'None',\n",
       " 'arnold school',\n",
       " 'Schools,medical, clinic, grocery store is just near by.',\n",
       " 'None',\n",
       " ' Palace Orchards',\n",
       " 'Porwal road',\n",
       " 'hotel, school,D mart, restorent, markert,',\n",
       " 'The property is close to vibgyuor school and Royal Heritage Mall .',\n",
       " 'Opposite Green Valley',\n",
       " 'Opposite Karveri Hotel, Nagar Road Touch',\n",
       " 'Evon Free Zone,Kharadi',\n",
       " 'opp. EON IT Park Kharadi',\n",
       " 'season mall and amanora mall',\n",
       " 'A very good 2 bhk flat for rent in siddhashila eela, punawale, pune. I',\n",
       " 'Close to day to day needs',\n",
       " 'parajit viman nagae, Viman Nagar Central, Pune - East, Maharashtra',\n",
       " 'None',\n",
       " 'School,malls, hospital are near by',\n",
       " 'None',\n",
       " 'eon free zone',\n",
       " 'wageshwar temple',\n",
       " ' Kailash Super market',\n",
       " 'D mart, cerebrum It park',\n",
       " 'None',\n",
       " 'None',\n",
       " 'kharadi',\n",
       " 'TCS,Tech Mahindra',\n",
       " 'Magarpatta City, Aegis school of Data Science, Byjus Pune office',\n",
       " ' to the destination center',\n",
       " ' Pentagon',\n",
       " ' Pune Mumbai Road',\n",
       " 'Most prime location near the Pune iNternational Airport',\n",
       " 'kaspate vasti wakad',\n",
       " ' Bhosale Garden',\n",
       " 'Magarpatta City',\n",
       " 'Property is located in prime area of the locality with all necessary needs located at walkable distance.',\n",
       " 'Tupe Corner, Amanora Mall, Amanora Park Town, Magarpatta City',\n",
       " 'St. Arnold school',\n",
       " 'kalyani bunglow',\n",
       " 'None',\n",
       " 'NIBM Annexe, Pune, NIBM Annexe, Pune - South, Maharashtra',\n",
       " 'Nanded phata',\n",
       " 'florencia, kasapte wasti wakad, pune',\n",
       " ' hdfc bank canopus boat club road pune.',\n",
       " 'None',\n",
       " 'None',\n",
       " 'kunal icon lane, pimple saudagar pune -411027',\n",
       " ' Max Muller Bhavan, Boat Club Road, Pune',\n",
       " 'Mahesh Society , Bibwewadi',\n",
       " 'Euro school bishop school DPS school Star bajar Reliance mall undri City centre inamdar hospital Desai hospital petrol pump Magarpatta IT park infocity',\n",
       " ' chetanya school',\n",
       " ' by St Arnolds School.',\n",
       " ' shankar Kalate  Poliris Hospital',\n",
       " 'Well connected to IT companies in all 3 phase.',\n",
       " ' Magarpatta City 2km, Kharadi 3 K.M',\n",
       " 'kalyani nagar',\n",
       " 'Sinhgad College',\n",
       " 'new dp road vishal nagar',\n",
       " 'near hp petrol pu mp bhekrai nagar',\n",
       " 'Nibm Road',\n",
       " 'None',\n",
       " 'near big bazar',\n",
       " 'Balewadi Highstreet',\n",
       " 'Behind amanora mall.',\n",
       " 'near by anisha global school',\n",
       " ' GK Gurukul , Kunal Icon Road. Pimple Saudagar',\n",
       " 'Bishops School',\n",
       " 'behind eon 2',\n",
       " 'None',\n",
       " 'Dhanori',\n",
       " 'Next to Suzlon',\n",
       " 'IT park, Schools, Hospital, Airport',\n",
       " 'Reliance Mall',\n",
       " 'nr. mirabel',\n",
       " ' Mankar Chowk, Kaspate Vasti Road, wakad, Pune,',\n",
       " 'Bhumkar Chowk,  Mumbai Bangalore Highway,',\n",
       " 'Gulmohar Parkview, Bypass, Mandana, Acolade Road, kharadi',\n",
       " ' to Shopping Malls, Hospitals, Restaurants, Schools',\n",
       " 'Backside of CCD',\n",
       " ' Chakan MIDC',\n",
       " ' Market Yard, Bibvewadi, Swapnapurti Apartments571,, Market Pun',\n",
       " 'None',\n",
       " 'punawale and hinjewadi,',\n",
       " 'Property is close to Khadki Railway station & bus stand',\n",
       " 'by to Euro School, Bhisop school and many other reputated schools',\n",
       " 'near sun city',\n",
       " ' Amanora  Mall & Magarpatta city It Hub',\n",
       " 'cession mall walking distance',\n",
       " 'None',\n",
       " 'star bazaar mall',\n",
       " 'None',\n",
       " 'Eon Free Zone Kharadi - 8 KmPune International Airport - 12 Km',\n",
       " 'close to the eon it park kharadi',\n",
       " 'None',\n",
       " 'good connectivity of market and transport',\n",
       " 'None',\n",
       " 'None',\n",
       " 'Gaarva Hotel, Bakerai nagar',\n",
       " ' Dhareshwar Hospital',\n",
       " 'sanjay sports , hotel rajwada',\n",
       " 'IT park',\n",
       " ' Mahindra IT Park',\n",
       " ' SP Infocity',\n",
       " 'None',\n",
       " ' Dorabjees Super Market',\n",
       " ' Sanskriti School',\n",
       " 'None',\n",
       " 'Eon Free Zone',\n",
       " ' Manjari Greens',\n",
       " ' By Anand Garden',\n",
       " ' Kedari Petrol pump',\n",
       " 'It is good locality for working professionals and family.',\n",
       " 'The property is close to hinjewadi It Park and near to Kokane Chowk.',\n",
       " 'None',\n",
       " 'Close to Pune-Solapur highway yet quiet place.',\n",
       " 'None',\n",
       " 'None',\n",
       " 'None',\n",
       " 'bhugaon pune',\n",
       " 'Sacred Heart Town , Wanawadi Pune.',\n",
       " 'kokane chwok',\n",
       " ' Annasaheb Magar Hospital',\n",
       " 'pancard road',\n",
       " 'None',\n",
       " 'None',\n",
       " 'Reliance fresh',\n",
       " 'None',\n",
       " 'None',\n",
       " 'None',\n",
       " ' Ram Krishna Mangal Karyalay, Pimple Gurav',\n",
       " 'near hyatt pune',\n",
       " 'Vidya valley school road',\n",
       " 'viman nagar',\n",
       " 'None',\n",
       " ' Chintamani Heights',\n",
       " 'None',\n",
       " 'Mahatma Society,Kothrud,Pune.',\n",
       " 'The property is beside cummins and is in main High street',\n",
       " ' kailas jeevan road, dhayari',\n",
       " '  lokmant press nanded city sinhgad road.',\n",
       " 'school,colleges and hospitals are close.',\n",
       " ' Destination Centre, Nanded City, Pune',\n",
       " ' Bramha Suncity',\n",
       " 'New Kalyani Nagar.',\n",
       " 'Bhavani sweets, main chowk , dhayari',\n",
       " 'Pan card club road',\n",
       " ' By Ganesh Temple Lohagaon',\n",
       " 'flat nice location near by market atm shop any update  plz call me',\n",
       " ' Mahabali Chowk Shahu nagar',\n",
       " 'buisness bay near by phule nagar rto yerwada',\n",
       " 'Serum Institute, Magarpatta IT Park, SP Infocity',\n",
       " 'HDFC Bank',\n",
       " 'None',\n",
       " 'amanora park town future tower near EON IT Park amanora & season mall.',\n",
       " 'None',\n",
       " 'Hdfc bank, magarpattacity school.',\n",
       " ' Zensar , Eon It Park, Kharadi',\n",
       " ' EON IT PARK',\n",
       " 'near Magarpatta',\n",
       " ' Dnyan Prabodhini School',\n",
       " 'Kokane Chowk, Rahatani Pimple Saudagar',\n",
       " 'by market is available for all your daily needs',\n",
       " 'Jyoti restaurant.',\n",
       " 'Close to Dorabjee',\n",
       " 'None',\n",
       " 'wakad',\n",
       " ' old orbis school',\n",
       " '5 min drive from commerzone, business bay, yerwada airport',\n",
       " ' By Chatrapati Chowk',\n",
       " ' Hills green school',\n",
       " 'None',\n",
       " 'Walking Distance for Market, School, Bank, ATM, Bus stop, Medical stor',\n",
       " ' Kokane Chowk,Pimple Saudagar.',\n",
       " 'Porwal Rd',\n",
       " 'Kothrud',\n",
       " 'Kaspate Wasti Road Wakad-411057',\n",
       " 'near chatrapati chowk ,very near to main road, great location .',\n",
       " 'Blueridge T22 on higher floors.',\n",
       " 'Euro School',\n",
       " 'Madha Torna building',\n",
       " ' to Auto Stand. Grocery stores etc',\n",
       " 'Next to Infosys - Hinjewadi Phase II',\n",
       " 'eon it park and world trade center',\n",
       " 'Kunal icon roadkimling rush.',\n",
       " 'Nr. Bishops School',\n",
       " ' BY Amanora Mall',\n",
       " 'None',\n",
       " 'Bhumkar nagar, chowdhary park wakad.',\n",
       " 'near wageshwar temple',\n",
       " 'None',\n",
       " 'None',\n",
       " 'Nanded City  Dmart',\n",
       " 'Magarpatta and Kharadi',\n",
       " '4 bhk fully furnished flat available for rent in kalyani nagar',\n",
       " 'For more details and site visit, please call Mr. Vipin, KROWN ESTATES.',\n",
       " 'Nagar Road',\n",
       " 'Aditya Birla Hospital',\n",
       " 'Eon it park.',\n",
       " 'Lake town Society',\n",
       " 'location is close to markets and nearby facilities',\n",
       " 'Property close to season mall, hdfc bank & school.',\n",
       " 'Pan card club road',\n",
       " 'bhugaon',\n",
       " 'manjri bk hadapsar solapur road manjri bk',\n",
       " 'Balewadi Highstreet',\n",
       " 'all types of shop to very close, daily need market and much more',\n",
       " ' by Eon IT Park.',\n",
       " 'residential premium neighbiurhood, calm and peaceful, secured and safe',\n",
       " 'down Town',\n",
       " 'This property located at reputed society',\n",
       " 'None',\n",
       " 'None',\n",
       " 'balewadi',\n",
       " ' By Qubix IT Company',\n",
       " ' Mitcon',\n",
       " 'None',\n",
       " 'The Property is having nearby Shopping Complexes and Markets.',\n",
       " 'Amanora Mall and season mall',\n",
       " 'Nr. city Pride',\n",
       " 'Bibwewadi to lake town soc. Rd',\n",
       " 'Kharadi, magarpatta, koregaon park are all 2.5km from keshav nagar',\n",
       " 'near by Magarpatta City,Amanora Mall,Season Mall,IT Park',\n",
       " 'EON IT Park is just walk able distance.',\n",
       " 'None',\n",
       " ' Dy Patil College Lohegaon Pune',\n",
       " 'None',\n",
       " ' D.Y.Patil College Charholi budruk',\n",
       " 'Closed to kharadi EON IT PARK & WTC IT PARK.',\n",
       " 'tech m, wipro, tcs',\n",
       " 'This property is close to eon free zone and airport.',\n",
       " 'None',\n",
       " 'Opposite CRPF',\n",
       " 'Bitwise Terra Tower',\n",
       " 'None',\n",
       " 'Amanora park Town',\n",
       " 'High Street, Balewadi',\n",
       " 'None',\n",
       " 'None',\n",
       " 'Bt kawade petrol pump, next to eternia society.',\n",
       " 'None',\n",
       " 'The Property Is  By Green Thing hotel Wadgon sheri.',\n",
       " 'near wipro circle, Hinjawadi Phase 1',\n",
       " 'seasons mall , magarpatta school , destination center',\n",
       " ' Clover village, Flower valley etc',\n",
       " 'None',\n",
       " 'The property is in close proximity to major IT companies',\n",
       " 'None',\n",
       " 'Sangarsh Chowk',\n",
       " 'None',\n",
       " 'None',\n",
       " 'None',\n",
       " 'None',\n",
       " 'Hinjewadi phase 1 Pune Maharashtra',\n",
       " 'available 2bhk furnished flat for rent in aundh for family near by westend mall',\n",
       " ' By School, Shops, Mall, And Much More.......',\n",
       " 'None',\n",
       " 'None',\n",
       " 'None',\n",
       " 'Eon it park, Wtc it park kharadi and Phoenix Market city',\n",
       " 'amanora mall',\n",
       " 'clover village is one of the most prestigious projects in wanowrie.',\n",
       " 'None',\n",
       " ' Bitwise Tower, Baner - 411045',\n",
       " 'near Hinjewadi it park , Punawale',\n",
       " 'near by amanora mall......',\n",
       " 'Dhanori',\n",
       " ' SNBP School',\n",
       " 'near to commerzone it park',\n",
       " 'Property is opposite to Poona College.',\n",
       " 'near gold gym',\n",
       " ' By Shemrock School',\n",
       " 'None',\n",
       " 'Nandini takle nagar',\n",
       " ' bramha hotel sinhagad road very nice location.',\n",
       " ' Mapple Hotel',\n",
       " ' By Acropolis',\n",
       " 'Close to Pirangut',\n",
       " 'Oppsite MCA  cricket stadium',\n",
       " 'near kunal icon road',\n",
       " ' City Pride School.',\n",
       " 'osho ashram',\n",
       " 'opp ridhi sidhi residency',\n",
       " 'None',\n",
       " 'None',\n",
       " 'near kesnand road wagholi.',\n",
       " ' anisha global school',\n",
       " 'Viman Nagar',\n",
       " ' Mohammad Wadi Post office',\n",
       " 'Lohegaon wagholi road touch property.',\n",
       " 'Behind Vaibhav Theatre',\n",
       " 'Life Republic Township in itself is a big landmark for this area',\n",
       " ' By  Symbiosis College',\n",
       " 'None',\n",
       " ' Crossword',\n",
       " 'None',\n",
       " 'None',\n",
       " 'Indian express',\n",
       " 'None',\n",
       " 'near wipro it park phas 2 and anisa global school',\n",
       " ' St Arnold,s School',\n",
       " 'Besides SBI Bank',\n",
       " 'Ganesh Mandir',\n",
       " ' Eon IT Park',\n",
       " ' Corinthian Club, DPS.',\n",
       " 'None',\n",
       " 'opp lexicon international school wagholi',\n",
       " 'Mula road. 24 hours security, good location, near to city , 24 hours',\n",
       " 'None',\n",
       " 'None',\n",
       " ' EON IT Park.',\n",
       " 'None',\n",
       " ' By TB2 Center Army',\n",
       " ' Vaibhav Theater',\n",
       " 'this property is close to Eon It park & Wtc',\n",
       " ' Persistent IT Company',\n",
       " ' Khandoba Temple',\n",
       " 'None',\n",
       " 'None',\n",
       " 'None',\n",
       " 'More supermarket.',\n",
       " 'Its  to Mukai Chauk, Transportation and Groceries are doorsteps',\n",
       " 'None',\n",
       " 'None',\n",
       " 'None',\n",
       " 'konark Plaza',\n",
       " 'None',\n",
       " 'None',\n",
       " ' By  Passport Office',\n",
       " 'This property- close to new metro station, excellent park, schools etc',\n",
       " ' TCG Company',\n",
       " ' Kotak Mahindra Bank',\n",
       " ' Akshara International School',\n",
       " 'In close vicinity of Bus Stop and market in 500 metres',\n",
       " 'None',\n",
       " 'near ashoka mall bund garden road',\n",
       " 'Schools, Market, Hospital, Restaurant facilities in close vicinity.',\n",
       " 'None',\n",
       " 'None',\n",
       " 'None',\n",
       " 'Sai Chowk,Sus Road,Pashan,Pune',\n",
       " 'None',\n",
       " 'This property is near by landmark Kunal Icon.',\n",
       " ' Sai Sayyed Samta Mandir.',\n",
       " 'sopan bagh',\n",
       " ' Rahul International School Wagholi.',\n",
       " 'None',\n",
       " 'Shree Swami Samarth Mandir.',\n",
       " ' Goodwill Square Mall',\n",
       " ' Shri Dakshinmukhi Siddhivinayak Mandir.',\n",
       " 'Austin Park Tathawade is 500 MTR away from Pune Bangalore Highway,.',\n",
       " 'None',\n",
       " 'None',\n",
       " 'None',\n",
       " 'near Alard college',\n",
       " 'None',\n",
       " 'None',\n",
       " 'None',\n",
       " 'None',\n",
       " ' by Wadia College Bund Garden Road.',\n",
       " ' Indrapreasth Lawans',\n",
       " 'jspm College',\n",
       " ' By Aayappa Garden',\n",
       " ' Parvati Park',\n",
       " ' By Sahyadri Hospital',\n",
       " 'None',\n",
       " ' Hotel Joshi Wadewale Kasar Amboli Pirangut',\n",
       " ' Mata Shitala Devi Mandir',\n",
       " ' SNBP School Morwadi Pimpri',\n",
       " ' MSEB Collection',\n",
       " ' Corporation Water Tank',\n",
       " 'None',\n",
       " 'Kunal icon road',\n",
       " 'None',\n",
       " 'None',\n",
       " 'Close to Pavillion Mall and JW Mariott and ICC Tower on Senapati Bapat',\n",
       " 'Property is near Magarpatta City and behind Amanora Mall.',\n",
       " ' Lane No 3 Right Bhusari Colony Kothrud',\n",
       " 'None',\n",
       " 'd',\n",
       " 'Dhanori Khese Park',\n",
       " '2Bhk flat Available for rent in Meadows Habitat Society  Baner Pashan',\n",
       " 'Datta Mandir road',\n",
       " ' Destination Center.',\n",
       " 'Amanora Mall Seasons Mall',\n",
       " 'Boat Club Road.',\n",
       " 'EON Company',\n",
       " 'ranuka mata mandir Keshave nagar pune 36',\n",
       " ' Club 29,Pink city Road Wakad',\n",
       " 'Brahma suncity',\n",
       " 'None',\n",
       " 'Hinjewadi 3 min,Vishal nagar 2min,Aundh 10 min',\n",
       " 'Hardly 2 mins From Kedari Petrol Pump',\n",
       " 'Sopan baug',\n",
       " 'marunji village',\n",
       " 'dps school',\n",
       " 'Baverelly Hills Lane',\n",
       " 'near DY Patil',\n",
       " 'near Porwal road',\n",
       " ' By Yerwada Jel',\n",
       " ' by D.Y Patil College.',\n",
       " 'None',\n",
       " 'None',\n",
       " 'Seasons Mall',\n",
       " 'next to symbiosis law college',\n",
       " 'relience fresh mart',\n",
       " 'Central mall, e square, iyengar yoga institute, vidhya bhavan school.',\n",
       " 'Jay Bhavani Nagar pashan',\n",
       " 'Behind Hyatt Kalyani Nagar',\n",
       " 'None',\n",
       " 'None',\n",
       " 'petrol pump',\n",
       " 'Very close to amanora mall, season mall & cyber city offices.',\n",
       " 'Next to Medipoint Hospital, Aundh',\n",
       " 'None',\n",
       " 'Baner pashan Link Road Pune',\n",
       " 'D mart Baner',\n",
       " 'Indira International School',\n",
       " ' Mit college Road, paud road, Kothrud',\n",
       " ' Lexicon International school',\n",
       " 'Amanora Mall,and cyber city',\n",
       " 'None',\n",
       " ' Pawar Public School, Nanded City, Pune',\n",
       " 'Sonigara Kesar, Chatrapati Chowk, Wakad.',\n",
       " 'Keshav Nagar new orbis school',\n",
       " \"Godrej Nature's basket\",\n",
       " 'Magarpatta city hadapsar pune 411028',\n",
       " 'near bank',\n",
       " ' kumthekar Road',\n",
       " 'Behind Wisdom School Wakad.Pune',\n",
       " 'Lokmanya Hospital, Railway Station,',\n",
       " 'Between Infosys and Quadron',\n",
       " 'Jambulkar  Chowk',\n",
       " ' by Orchid Hospital.',\n",
       " 'Kausar Baug',\n",
       " ' Dorabjee',\n",
       " 'Global punjab hotel',\n",
       " 'Wakad',\n",
       " 'magarpatta city hadapsar PUNE 411013',\n",
       " ' Mahalaxmi Mandir, Samarth Nagar',\n",
       " 'City Pride School',\n",
       " ' to Dmart',\n",
       " 'lane no 5',\n",
       " ' Bharat petrol pump',\n",
       " ' SBI Bank Koregaon Park',\n",
       " ' Aditya Birla Hospital, Thergaon, Pune.',\n",
       " 'None',\n",
       " 'near star gaze society',\n",
       " 'Snbp School',\n",
       " ' Wakad Chowk',\n",
       " 'opp KAKA Halwai sweet  Aundh pune',\n",
       " 'near by orbis school amanora mall in 2km  kharadi in 2km',\n",
       " 'main road Wakad',\n",
       " 'Above Arihant Jwellers',\n",
       " 'Kalyani Nagar t',\n",
       " ' D Y Patil College',\n",
       " 'Balaji Temple, Mumbai Bangalore Highway',\n",
       " 'pune airport, Railway Station, Phionex marketcity',\n",
       " 'cubix IT park hinjewadi phase 1',\n",
       " 'Eon it park kharadi wagholi.pune',\n",
       " 'None',\n",
       " 'near vibgour school , behind Mohan nagar baner pune',\n",
       " 'Magerpattacity Hadpsar',\n",
       " 'None',\n",
       " 'Xrbia socity.',\n",
       " 'Kumar',\n",
       " '3bhk fully farnisd all ametises baner good society',\n",
       " 'near jinjar hotel',\n",
       " ' by eon it park.',\n",
       " 'Bramha Suncity  Belmac',\n",
       " 'None',\n",
       " 'Gold Gym Pimple Saudagar',\n",
       " 'Nr HP Petrol Pump, Wagholi Pune.',\n",
       " 'Bhumkar nagar',\n",
       " 'REGENCY COSMOS baner road Ganraj Square closed to Balewadi High Street',\n",
       " ' Raisoni Callage',\n",
       " 'None',\n",
       " 'None',\n",
       " 'near pcmc office pimpri............................',\n",
       " 'Wakad-Hinjawadi Flyover.',\n",
       " 'Phase 3 Metro by.',\n",
       " 'near highstreet near d mart',\n",
       " 'Property very close to pimple saudagar pune',\n",
       " 'Infosys ii',\n",
       " 'None',\n",
       " 'Opposite KRB Engineering',\n",
       " 'None',\n",
       " 'Opposite Shinde Grand complex',\n",
       " 'None',\n",
       " 'Dmart',\n",
       " 'None',\n",
       " ' bhumkar Chowk',\n",
       " 'Behind Spicer College',\n",
       " 'None',\n",
       " 'None',\n",
       " 'None',\n",
       " 'Mumbai pune highway ravet near- sentosa hotel ravet.',\n",
       " ' by waterfront',\n",
       " 'West End mall',\n",
       " ' Magarpatta City',\n",
       " 'The Property is very close to the HInjewadi IT Park',\n",
       " 'good society with all amenities like gym swimming pool and etc and good location',\n",
       " 'Poddar international school, indira collage,ballaji collage,dy patil collage, ashwini international school',\n",
       " 'B.',\n",
       " ' Bhumkar Chowk',\n",
       " 'Undri Chowk',\n",
       " ' Pune District Central Co Op Baank Hinjewadi',\n",
       " 'near dhanashree hospital...........................................',\n",
       " 'close to Pune Airport, Phoenix Mall, behind Symbiosis Int School, KP',\n",
       " ' Ambiance Hotel',\n",
       " 'Rambag colony',\n",
       " 'Off Lavasa road near Bharat Petroleum.Manas Lake nearby.',\n",
       " ' Dorabjee Mall',\n",
       " ' IDBI Bank Vishrantwadi',\n",
       " ' to Amar Paradise, close to Khadki Rly station, Mumbai Pune highwa',\n",
       " 'Opp - indian petrol pump, sate, vadgaon, pune.',\n",
       " ' Euro School, Wakad.',\n",
       " 'None',\n",
       " ' D Y Patil Medical College',\n",
       " 'The property is close to E Square on Ashok nagar/ Bhosale Nagr',\n",
       " 'None',\n",
       " 'None',\n",
       " ' Vitthal Petrol Pump',\n",
       " 'behind Jyoti hotel Kondhwa',\n",
       " 'None',\n",
       " 'None',\n",
       " ' B T Kawade Road Flyover',\n",
       " 'None',\n",
       " 'Patwardhan Buag near HDFC bank',\n",
       " 'None',\n",
       " ' to Pelcan Construction and Ghotwade phata',\n",
       " 'Opp. Kamini Hotel.',\n",
       " 'Next to tapovan mandir',\n",
       " 'Hdfc bank atm.',\n",
       " 'None',\n",
       " 'None',\n",
       " 'this property close to amanora  mall opp. magarpatta city hadapsar',\n",
       " 'None',\n",
       " 'None',\n",
       " 'None',\n",
       " 'None',\n",
       " ' Surya datta College',\n",
       " 'Kothrud  Ideal  Colony  Nr. Ideal  Ground',\n",
       " 'None',\n",
       " 'None',\n",
       " ' Dubey Sainik School.',\n",
       " 'Koregaon park annexe , westin hotel, pune.',\n",
       " 'Delhi public school.',\n",
       " 'wagholi,pune',\n",
       " 'kothrud ramabg colony near bedekar ganpati',\n",
       " ' Dr. Martheophilus School, Orchid Hospital',\n",
       " 'None',\n",
       " 'near amanora mall',\n",
       " ' Tilak Maharashtra Vidyapeeth.',\n",
       " 'pune aundh',\n",
       " 'None',\n",
       " 'Ganga dham chowk',\n",
       " ' Shivaji Chowk Hinjewadi Phase I.',\n",
       " ' By Rode Hospital',\n",
       " ' Kokane Chowk',\n",
       " ' Bharat petrol pump',\n",
       " 'None',\n",
       " 'near Hundai Show room',\n",
       " ' Vidya Shilpa High School',\n",
       " ' By Chandan Nagar Police Station',\n",
       " ' Ganesh Temple',\n",
       " ' ICICI Bank',\n",
       " ' By E Square Mall',\n",
       " 'None',\n",
       " ' City International school Aundh',\n",
       " ' Vibgyor High school Sus',\n",
       " ' New Poona Bakery Sus',\n",
       " ' ITI College Aundh',\n",
       " 'Koregoan park',\n",
       " ' Yes Bank Empire Estate Chinchwad t',\n",
       " ' Amanora Mall',\n",
       " ' Corinthians Club',\n",
       " ' Jagdamba Bhavan',\n",
       " 'None',\n",
       " ' Bashos',\n",
       " ' Podar High School',\n",
       " ' D Y Patil College',\n",
       " ' Kaka Halwai Shivne',\n",
       " 'None',\n",
       " ' Shraddha Hospital',\n",
       " ' Brahma Corp',\n",
       " ' Gangadham Village',\n",
       " ' Divangat Hemant Karkare  Udyan',\n",
       " ' Shell Petrol Pump Hinjewadi',\n",
       " ' Sharda English Medium School',\n",
       " ' Sant Tukaram Bridge',\n",
       " 'None',\n",
       " ' SP Infocity',\n",
       " ' By Morya Udyan',\n",
       " ' Indian Oil Petrol Pump',\n",
       " ' by wakad bridge',\n",
       " ' City International School Aundh',\n",
       " ' Orritel Hotel.',\n",
       " ' Yes Bank Nal Stop',\n",
       " 'None',\n",
       " 'heart of kalyani nagar',\n",
       " ' Makan hospital, Sangvi',\n",
       " 'near to swathi reddy pg',\n",
       " 'joshi hospital , euro schooll , undri city center mall',\n",
       " 'city pride',\n",
       " 'None',\n",
       " 'None',\n",
       " 'Delhi public school',\n",
       " 'shivar chowk kunal icon road',\n",
       " 'near cloud nine nibm',\n",
       " 'next to wtc',\n",
       " ' Lotus Hospital Manjri',\n",
       " 'Reliance Mart',\n",
       " 'near by school and market aera',\n",
       " 'Aundh nr dav school dp road',\n",
       " 'Arnyeshwar Temple',\n",
       " 'vishal nagar',\n",
       " 'At Kothrud, Dahanukar Colony Lane No. 7',\n",
       " 'Close to shop ,malls ,banks,ATMs and destination center',\n",
       " 'Society near main road school college ATM Bank shopping complex office',\n",
       " 'near dasra chwok balewadi',\n",
       " 'Kunal icon',\n",
       " 'kalyani nagar',\n",
       " 'magarpatta city.',\n",
       " 'None',\n",
       " 'Sai Chouk, Balewadi, Pune.',\n",
       " 'near by veerbhadr nagar baner pune',\n",
       " 'None',\n",
       " 'Kinara Hotel',\n",
       " 'Datta mandir road , wakad.',\n",
       " 'Country club',\n",
       " 'Nr LMD garden behind Maratha mandir bavdhan Khurd',\n",
       " 'acolade society road.',\n",
       " 'None',\n",
       " 'pink city road, Opp Pink CIty, wakad 411057',\n",
       " ' Bramha Suncity, Kalyani nagar nx',\n",
       " 'None',\n",
       " 'None',\n",
       " 'Croma Hyundai Dhowroom and Sanewadi',\n",
       " 'near by destination center, IT park .',\n",
       " 'Bakers point',\n",
       " 'eklavya college kothrud pune',\n",
       " 'gateway tower amanora park town hadapsar pune',\n",
       " 'garware collage',\n",
       " ' SNBP International School, Kokane Chowk, Pimple Saudagar',\n",
       " 'An Intelligent IT/ITES Facility \"it park\" located in MIDC Kharadi, des',\n",
       " 'gaikwad petrol pump',\n",
       " 'near wipro and infosys hinjewadi phase 1.',\n",
       " ' Dr.babasaheb Ambedkar Status',\n",
       " 'this flat is very near to cyber city offices and seasons mall .',\n",
       " 'Eon IT park near kharadi',\n",
       " 'The Property Is  By To Amezon IT Park Somnath Nagar Wadgaon Sheri',\n",
       " 'All major IT companies at walking distance. Wipro Chowk is landmark',\n",
       " 'The property is nearby amanora mall,hadapsar,pune.',\n",
       " 'None',\n",
       " 'None',\n",
       " 'None',\n",
       " 'None',\n",
       " ' SBI Bank, Close to Govind Garden',\n",
       " 'lokmat press near by Dmart DESTINATION center nanded city sinhgad Road pune',\n",
       " 'Hinjawadi Phase 2 Rd, Hinjawadi Phase II, Hinjewadi Rajiv Gandhi Infotech Park, Hinjawadi,',\n",
       " 'Reliance Petrol Pump',\n",
       " 'kakade city',\n",
       " 'None',\n",
       " 'wadgaon sheri pune',\n",
       " 'The property is close to wakad bridge.',\n",
       " 'None',\n",
       " ' Euro Kid School',\n",
       " ' S.P Infocity',\n",
       " ' by z corner.',\n",
       " 'None',\n",
       " 'sp it park',\n",
       " ' Sanskriti Arcade, Mankar Chowk.',\n",
       " 'Close to main Alandi Road and walking distance from grocery',\n",
       " 'This Property is  to D mart',\n",
       " ' Sudatta Sankul',\n",
       " 'None',\n",
       " 'baner pasha link road',\n",
       " 'citadel empress society',\n",
       " 'kunal icon road',\n",
       " 'None',\n",
       " 'opposite to santosa resort',\n",
       " 'reliance mart',\n",
       " ' Hanuman Temple.',\n",
       " 'None',\n",
       " ' Shivar Chowk Pimple Saudagar',\n",
       " ' Mukai Chowk',\n",
       " ' Shell Petrol Pump',\n",
       " 'property is close to the baner petrol pump.',\n",
       " 'bhumkar chowk , hinjewadi it park',\n",
       " ' By HDFC Bank Kalyani Nagar',\n",
       " ' Infosys Circle Hinjewadi Phase II',\n",
       " ' Punjab National Bank',\n",
       " ' City Pride',\n",
       " 'Sapna Pav Bhaji',\n",
       " ' By Kokan Maratha Sabha Gruh Mangal Karyalay.',\n",
       " ' Saundarya Hotel',\n",
       " ' By Vigneshwar Hospital',\n",
       " ' By Mapple Hotel',\n",
       " ' to Renuka Mata Mandir',\n",
       " 'pune Kothrud',\n",
       " ' By Shama Istate',\n",
       " ' Tukai Mandir',\n",
       " ' Nashik Phata',\n",
       " 'None',\n",
       " ' Tapkir Chowk',\n",
       " ' Abnave Hospital',\n",
       " ' by Moze College Baif Road.',\n",
       " ' Hadapsar Flyover',\n",
       " 'near lokmanya hospital nigdi pradhikaran',\n",
       " 'None',\n",
       " 'Sinhgad College ambegaon',\n",
       " ' TCS & Opposite Tech Mahindra, Rajiv Gandhi Infotech Park Phase 3',\n",
       " 'never Tu Koregaon Park Main Road touch',\n",
       " 'Ero School',\n",
       " 'Property is located behind star bazaar',\n",
       " 'Season mall. Magarpatta city pune',\n",
       " 'dps school',\n",
       " ' Passport office',\n",
       " 'balewadi fhata',\n",
       " 'aditya brila hospital road',\n",
       " 'ICICI bank,FC college,Apte road',\n",
       " ' Bitwise Tower',\n",
       " 'near chavan natyagriha',\n",
       " ' By Amanora Mall,Seasones Mall,Nobel Hospitals ,Schools International.',\n",
       " 'Shiv sai lane.',\n",
       " 'kharadi',\n",
       " 'None',\n",
       " 'near amanora mall , magarpatta road pune',\n",
       " 'cummins company',\n",
       " 'Baner pashan link road.',\n",
       " 'None',\n",
       " 'NIBM Road Dorabjee Minutes away. Mall and Cinema walking distance.',\n",
       " 'amanora mall',\n",
       " 'EON IT Park kharadi',\n",
       " 'landmark sai eshaynya society.',\n",
       " 'ambegaon Bk',\n",
       " '500 metres from trimurti chowk',\n",
       " 'iTi Road Aundh pune only family rant negosheit poossion imegetly',\n",
       " ' Chinchwad Stations ,Chinchwad',\n",
       " 'BRT road pimple saudagar',\n",
       " 'None',\n",
       " 'None',\n",
       " 'None',\n",
       " 'near Riverdale society, kharadi',\n",
       " 'Kothrud, right Bhusari colony',\n",
       " 'Patil Nagar,Bavdhan.',\n",
       " 'd mart, westend mall',\n",
       " 'Cummins Symense company',\n",
       " 'None',\n",
       " 'None',\n",
       " 'this neighborhood is pedestrian friendly and safe, and its convenient.',\n",
       " 'None',\n",
       " ' Radhika electronic Shiv Sai lane pimple Saudagar',\n",
       " ' Mathwad Prangan Shivtirth Nagar',\n",
       " 'None',\n",
       " 'dattmandir road',\n",
       " 'None',\n",
       " 'Expressway 20min',\n",
       " \" HDFC BANK Blueridge mane road, neighborhood family's or bachelor,\",\n",
       " 'None',\n",
       " ' vetal mharaj mandir old sanghvi',\n",
       " 'None',\n",
       " 'Very close proximity to Dmart, Hospital, Westend mall and restaurants.',\n",
       " 'near hanging bridge',\n",
       " 'None',\n",
       " ' Mai Mangeshkar Hospital Warje',\n",
       " 'Close to market, schools, hospitals.',\n",
       " 'None',\n",
       " 'None',\n",
       " 'None',\n",
       " ' Raheja Vistas Premier',\n",
       " 'vishwa medical near dakshin mukhi maruti mandir',\n",
       " 'New Brand Unused Flat',\n",
       " 'nigdi Lic chowk',\n",
       " ' Dreams Aakruti',\n",
       " 'None',\n",
       " 'None',\n",
       " ' Dmart, vegetable market.',\n",
       " 'None',\n",
       " ' Chatrapati Chowk, Kaspate Vasti, Wakad',\n",
       " 'None',\n",
       " 'Handewadi Chowk',\n",
       " 'd martt',\n",
       " 'Next to Pawar School',\n",
       " 'None',\n",
       " 'None',\n",
       " 'their  are   very  reputed schools and good  schools with in  vicinity',\n",
       " ' Amanora Mall Hadapsar',\n",
       " 'near oyo twin tower',\n",
       " 'Commerce zone.',\n",
       " 'None',\n",
       " 'None',\n",
       " '-Walk able distance from major IT Companies (TCS, TECH MAHINDRA, Cape',\n",
       " 'None',\n",
       " 'the property is very close it centered area and temple ,school bus sto',\n",
       " 'None',\n",
       " ' Dhanori Police Station',\n",
       " 'Business Bay, Yerwada.',\n",
       " 'None',\n",
       " 'None',\n",
       " 'None',\n",
       " 'None',\n",
       " 'None',\n",
       " 'The Dreams Rakshak complex is in Wagholi near Jain College.',\n",
       " 'None',\n",
       " 'Pawar public school near hinjewadi circle',\n",
       " 'None',\n",
       " 'None',\n",
       " ' Akshara International Collage Tathawade Bhumkar Chowk Pune.',\n",
       " 'relince fresh mart',\n",
       " 'Gravity Gym bibwewadi',\n",
       " 'Amanora Mall, Magar Patta City, Pawar High scool',\n",
       " 'None',\n",
       " 'Opp SNBP school',\n",
       " 'None',\n",
       " 'None',\n",
       " \" Sunny's World\",\n",
       " 'Prabhat road pune',\n",
       " ' Sinhagad Spring Dale School',\n",
       " 'None',\n",
       " 'Big Bazaar, Medical shop, Sweet shop',\n",
       " 'Very close the Express highway just 2kms away',\n",
       " ' Datta Mandir.',\n",
       " ' Sanjeevani Hospital',\n",
       " 'dhankawadi last bus stop',\n",
       " 'Navale Hospital, jadhvar school,',\n",
       " '05 mins from Dange chowk. 05 mins from thergaon link road. 10 mins fro',\n",
       " 'On main road, in same building where is  \"MORE\" and \" SARASWAT BANK\" .  Neeta volvo stop -50 meters',\n",
       " 'None',\n",
       " 'None',\n",
       " ' Murali hotel',\n",
       " 'None',\n",
       " 'Sharja Hotel',\n",
       " 'None',\n",
       " 'None',\n",
       " 'None',\n",
       " 'None',\n",
       " ' by Hinjewadi Phase 1.',\n",
       " '--Behind Maruti Showroom on Pashan side highway-- Opposite side highway from of Regency Classic',\n",
       " 'Mantras',\n",
       " ' Cloud Nine.',\n",
       " 'None',\n",
       " ' Rode Hospital, Parande Nagar',\n",
       " 'None',\n",
       " 'None',\n",
       " 'None',\n",
       " 'None',\n",
       " 'near chataepati chowk kaspate wasti',\n",
       " 'None',\n",
       " '10 minutes from hadapasar busstand gadital',\n",
       " 'None',\n",
       " 'The property is adjoining Magarpatta city opposite Amonora Park.',\n",
       " 'None',\n",
       " 'None',\n",
       " 'The property is within walking distance from the TCS  2 min drive from other big IT campuses (Infosys, Tech mahindra...) in Hinjewadi',\n",
       " 'near bus stop,  near  Khadi Machine Chowk',\n",
       " ' Bharat Petrol Pump, on B T Kawde Road',\n",
       " 'None',\n",
       " ' Katraj doodh dairy',\n",
       " 'None',\n",
       " 'None',\n",
       " 'This location is close to the local market.',\n",
       " 'The property is close to Sadhu Vaswani International school. The MIDC BHOSARI police station is 200 meters away and 1 minutes walking distance from 2 huge shopping complexs.',\n",
       " ' By Raj Medical Store',\n",
       " 'The property is close to Infosys ,wipro and near many IT companies.',\n",
       " ' Bhumkar Chowk',\n",
       " ' Laxmi Mandir',\n",
       " ' Alard College Marunji Hinjewadi',\n",
       " ' Anandpur Trust Hospital',\n",
       " 'None',\n",
       " ' Sinhagad College',\n",
       " 'Opposite Seventh Day Adventist Hospital . Camp area',\n",
       " ' By Silver Oak Hotel Wagholi',\n",
       " ' By  RTO Office Yerwada',\n",
       " ' Ny Narayan Smruti Building',\n",
       " ' Shivar Chowk',\n",
       " 'Ambedkar chowk OLD WARJE NAKA',\n",
       " 'Behind Vision One Mall',\n",
       " ' Shashwat Clinic',\n",
       " ' By RND Reserch And Development Center',\n",
       " ' By Vishratwadi Police Station',\n",
       " 'None',\n",
       " 'The society is Tivoli ,Puranik Abitante ,Bhonde vasti Bavdhan',\n",
       " 'Opposite to shell petrol pump,  Dmart of Hinjewadi',\n",
       " 'None',\n",
       " 'None',\n",
       " 'hadapsar bhaji mandai',\n",
       " ' Ganesh Temple',\n",
       " ' Kharabwadi Gram Panchayat',\n",
       " ' Kate Puram Chowk',\n",
       " ' CT Hospital',\n",
       " ' Sanjeevani Hospital',\n",
       " 'None',\n",
       " ' Khalsa Dairy',\n",
       " ' Shivar Garden',\n",
       " ' Marigold Banquet Bavdhan',\n",
       " ' Vitthal Mandir',\n",
       " ' Amanora Mall',\n",
       " ' Old Ankur Hospital',\n",
       " 'Shri Sadguru Shankar Hospital',\n",
       " 'near by ganga arya project...........................................',\n",
       " ' Shaurya Wada Hotel',\n",
       " ' Sunrise Baker lane',\n",
       " 'near Dominos Pizza Karve Road Kothrud',\n",
       " ' Mitra Mandal Marriage Hall Parvati Hills',\n",
       " ' Hotel Fatcook Balewadi Phata Baner',\n",
       " ' Rajni Corner 1',\n",
       " 'Opp. TCS Gate no. 2',\n",
       " ' Tanira Saree showroom ITI Road Aundh.',\n",
       " ' Megha Centre',\n",
       " ' Sopan Baug',\n",
       " ' ICICI Bank',\n",
       " 'Behind Hotel Rosewood',\n",
       " ...]"
      ]
     },
     "execution_count": 151,
     "metadata": {},
     "output_type": "execute_result"
    }
   ],
   "source": [
    "list(df.Landmarks.apply(lambda x : x.replace('Near','')))"
   ]
  },
  {
   "cell_type": "code",
   "execution_count": 152,
   "metadata": {},
   "outputs": [],
   "source": [
    "# !pip install spacy"
   ]
  },
  {
   "cell_type": "code",
   "execution_count": 153,
   "metadata": {},
   "outputs": [],
   "source": [
    "import spacy\n",
    "from spacy import displacy"
   ]
  },
  {
   "cell_type": "code",
   "execution_count": 154,
   "metadata": {},
   "outputs": [],
   "source": [
    "# !python -m spacy download en_core_web_sm"
   ]
  },
  {
   "cell_type": "code",
   "execution_count": 155,
   "metadata": {},
   "outputs": [],
   "source": [
    "nlp = spacy.load(\"en_core_web_sm\")"
   ]
  },
  {
   "cell_type": "code",
   "execution_count": 156,
   "metadata": {},
   "outputs": [
    {
     "name": "stdout",
     "output_type": "stream",
     "text": [
      "this property is close to Eon It park & Wtc\n",
      "this property NP\n",
      "Eon It park NP\n",
      "Wtc NP\n"
     ]
    }
   ],
   "source": [
    "doc = nlp(df.Landmarks[400])\n",
    "print(doc)\n",
    "for entity in doc.noun_chunks:\n",
    "    print(entity.text, entity.label_)"
   ]
  },
  {
   "cell_type": "code",
   "execution_count": 157,
   "metadata": {},
   "outputs": [],
   "source": [
    "# for entity in doc.ents:\n",
    "#     print(entity.text, entity.label_)"
   ]
  },
  {
   "cell_type": "code",
   "execution_count": 158,
   "metadata": {},
   "outputs": [],
   "source": [
    "import nltk\n",
    "from nltk.corpus import stopwords\n",
    "import string"
   ]
  },
  {
   "cell_type": "code",
   "execution_count": 159,
   "metadata": {},
   "outputs": [
    {
     "name": "stderr",
     "output_type": "stream",
     "text": [
      "[nltk_data] Downloading package stopwords to C:\\Users\\Nikhil\n",
      "[nltk_data]     Deshmukh\\AppData\\Roaming\\nltk_data...\n",
      "[nltk_data]   Package stopwords is already up-to-date!\n"
     ]
    },
    {
     "data": {
      "text/plain": [
       "True"
      ]
     },
     "execution_count": 159,
     "metadata": {},
     "output_type": "execute_result"
    }
   ],
   "source": [
    "nltk.download('stopwords')"
   ]
  },
  {
   "cell_type": "code",
   "execution_count": 160,
   "metadata": {},
   "outputs": [],
   "source": [
    "stop=stopwords.words('english')"
   ]
  },
  {
   "cell_type": "code",
   "execution_count": 161,
   "metadata": {},
   "outputs": [],
   "source": [
    "stop_regex=' | '.join(stop)\n",
    "punch_regex=' | '.join(list(string.punctuation))"
   ]
  },
  {
   "cell_type": "code",
   "execution_count": 162,
   "metadata": {},
   "outputs": [],
   "source": [
    "import regex as re"
   ]
  },
  {
   "cell_type": "code",
   "execution_count": 163,
   "metadata": {},
   "outputs": [],
   "source": [
    "# Return in the form of string\n",
    "def clean1(x,stop_regex=stop_regex):\n",
    "    \n",
    "    k=re.sub(r\"\\b\"+stop_regex+\"\\b\",\" \",x.lower())\n",
    "\n",
    "    return re.sub(\"[^A-Za-z0-9 ']\",'',k)"
   ]
  },
  {
   "cell_type": "code",
   "execution_count": 164,
   "metadata": {},
   "outputs": [],
   "source": [
    "df.Landmarks=df.Landmarks.apply(clean1)"
   ]
  },
  {
   "cell_type": "code",
   "execution_count": 165,
   "metadata": {},
   "outputs": [],
   "source": [
    "def en_tag(x):\n",
    "    l=[]\n",
    "    doc = nlp(x)\n",
    "    for entity in doc.noun_chunks:\n",
    "        l.append(entity.text)\n",
    "        k=','.join(l)\n",
    "        return k"
   ]
  },
  {
   "cell_type": "code",
   "execution_count": 166,
   "metadata": {},
   "outputs": [],
   "source": [
    "k=df.Landmarks.map(en_tag)"
   ]
  },
  {
   "cell_type": "code",
   "execution_count": 167,
   "metadata": {},
   "outputs": [],
   "source": [
    "df.Landmarks=k"
   ]
  },
  {
   "cell_type": "code",
   "execution_count": 168,
   "metadata": {},
   "outputs": [
    {
     "data": {
      "text/plain": [
       "Immediately Available    789\n",
       "None                     243\n",
       "Immediately              226\n",
       "Name: Status, dtype: int64"
      ]
     },
     "execution_count": 168,
     "metadata": {},
     "output_type": "execute_result"
    }
   ],
   "source": [
    "df.Status.value_counts()"
   ]
  },
  {
   "cell_type": "code",
   "execution_count": 169,
   "metadata": {},
   "outputs": [
    {
     "data": {
      "text/plain": [
       "Garden/Park, Main Road          264\n",
       "Garden/Park                     257\n",
       "None                            234\n",
       "Main Road                       226\n",
       "Garden/Park, Pool, Main Road    145\n",
       "Garden/Park, Pool                52\n",
       "Pool, Garden/Park, Main Road     48\n",
       "Pool, Garden/Park                14\n",
       "Main Road, Garden/Park, Pool      5\n",
       "Pool                              4\n",
       "Pool, Main Road                   3\n",
       "Main Road, Garden/Park            3\n",
       "Pool, Main Road, Garden/Park      2\n",
       "Garden/Park, Main Road, Pool      1\n",
       "Name: Overlooking, dtype: int64"
      ]
     },
     "execution_count": 169,
     "metadata": {},
     "output_type": "execute_result"
    }
   ],
   "source": [
    "df.Overlooking.value_counts()"
   ]
  },
  {
   "cell_type": "code",
   "execution_count": 170,
   "metadata": {},
   "outputs": [
    {
     "data": {
      "text/plain": [
       "Vitrified                                                                      432\n",
       "None                                                                           312\n",
       "Ceramic Tiles                                                                   90\n",
       "Vitrified, Wooden, Ceramic Tiles, Marble, Normal Tiles/Kotah Stone, Granite     64\n",
       "Finishing                                                                       46\n",
       "                                                                              ... \n",
       "Ceramic Tiles, Mosaic, Normal Tiles/Kotah Stone, Vitrified, Wooden               1\n",
       "Granite, Marble, Marbonite, Vitrified                                            1\n",
       "Mosaic, Normal Tiles/Kotah Stone                                                 1\n",
       "Vitrified, Wooden, Ceramic Tiles, Marble, Granite                                1\n",
       "Ceramic Tiles, Granite, Marble, Mosaic, Vitrified                                1\n",
       "Name: Flooring, Length: 92, dtype: int64"
      ]
     },
     "execution_count": 170,
     "metadata": {},
     "output_type": "execute_result"
    }
   ],
   "source": [
    "df.Flooring.value_counts()"
   ]
  },
  {
   "cell_type": "code",
   "execution_count": 171,
   "metadata": {},
   "outputs": [
    {
     "data": {
      "text/plain": [
       "No/Rare Powercut             790\n",
       "None                         465\n",
       "2 To 4 Hours Powercut          1\n",
       "Over 6 Hours Powercut          1\n",
       "Less Than 2 Hour Powercut      1\n",
       "Name: Status_of_Electricity, dtype: int64"
      ]
     },
     "execution_count": 171,
     "metadata": {},
     "output_type": "execute_result"
    }
   ],
   "source": [
    "df.Status_of_Electricity.value_counts()"
   ]
  },
  {
   "cell_type": "code",
   "execution_count": 172,
   "metadata": {},
   "outputs": [
    {
     "data": {
      "text/plain": [
       "None    437\n",
       "2       406\n",
       "1       163\n",
       "3        48\n",
       "4        24\n",
       "6         5\n",
       "5         2\n",
       "7         1\n",
       "8         1\n",
       "Name: Lifts, dtype: int64"
      ]
     },
     "execution_count": 172,
     "metadata": {},
     "output_type": "execute_result"
    }
   ],
   "source": [
    "df.Lifts.value_counts()"
   ]
  },
  {
   "cell_type": "code",
   "execution_count": 173,
   "metadata": {},
   "outputs": [
    {
     "data": {
      "text/plain": [
       "None                                                        728\n",
       "Non-Vegetarians, Without Company Lease, Pets allowed        205\n",
       "Pets not allowed                                             76\n",
       "Without Company Lease                                        55\n",
       "Non-Vegetarians                                              35\n",
       "Pets allowed                                                 29\n",
       "Non-Vegetarians, Pets allowed                                28\n",
       "Non-Vegetarians, Without Company Lease                       21\n",
       "Without Company Lease, Pets allowed                          20\n",
       "With Company Lease                                           13\n",
       "With Company Lease, Pets not allowed                         11\n",
       "Vegetarians, Pets not allowed                                 7\n",
       "Vegetarians                                                   6\n",
       "Vegetarians, With Company Lease, Pets not allowed             6\n",
       "Without Company Lease, Pets not allowed                       5\n",
       "Non-Vegetarians, With Company Lease, Pets not allowed         5\n",
       "Non-Vegetarians, Pets not allowed                             4\n",
       "Non-Vegetarians, Without Company Lease, Pets not allowed      3\n",
       "Vegetarians, Without Company Lease, Pets not allowed          1\n",
       "Name: Other_Tenants_Preferred, dtype: int64"
      ]
     },
     "execution_count": 173,
     "metadata": {},
     "output_type": "execute_result"
    }
   ],
   "source": [
    "df.Other_Tenants_Preferred.value_counts()"
   ]
  },
  {
   "cell_type": "code",
   "execution_count": 174,
   "metadata": {},
   "outputs": [
    {
     "data": {
      "text/plain": [
       "5 to 10 years        368\n",
       "Less than 5 years    368\n",
       "New Construction     180\n",
       "10 to 15 years       145\n",
       "None                 117\n",
       "15 to 20 years        49\n",
       "Above 20 years        31\n",
       "Name: Age_of_Construction, dtype: int64"
      ]
     },
     "execution_count": 174,
     "metadata": {},
     "output_type": "execute_result"
    }
   ],
   "source": [
    "df.Age_of_Construction.value_counts()"
   ]
  },
  {
   "cell_type": "code",
   "execution_count": 175,
   "metadata": {},
   "outputs": [
    {
     "data": {
      "text/plain": [
       "18"
      ]
     },
     "execution_count": 175,
     "metadata": {},
     "output_type": "execute_result"
    }
   ],
   "source": [
    "sum(df.Furnishing=='Furnished\\n\\n\\n\\n\\n\\nSemi-Furnished\\n\\n\\n\\n\\n\\nUnfurnished')"
   ]
  },
  {
   "cell_type": "code",
   "execution_count": 176,
   "metadata": {},
   "outputs": [],
   "source": [
    "x=df[df.Furnishing=='Furnished\\n\\n\\n\\n\\n\\nSemi-Furnished\\n\\n\\n\\n\\n\\nUnfurnished'].index.to_list()"
   ]
  },
  {
   "cell_type": "code",
   "execution_count": 177,
   "metadata": {},
   "outputs": [
    {
     "data": {
      "text/plain": [
       "(1258, 25)"
      ]
     },
     "execution_count": 177,
     "metadata": {},
     "output_type": "execute_result"
    }
   ],
   "source": [
    "df.shape"
   ]
  },
  {
   "cell_type": "code",
   "execution_count": 178,
   "metadata": {},
   "outputs": [],
   "source": [
    "df.drop(x,axis=0,inplace=True)"
   ]
  },
  {
   "cell_type": "code",
   "execution_count": 179,
   "metadata": {},
   "outputs": [
    {
     "data": {
      "text/plain": [
       "None                          978\n",
       "City Municipal Corporation    240\n",
       "Development Authority          19\n",
       "Developer                       3\n",
       "Name: Authority_Approval, dtype: int64"
      ]
     },
     "execution_count": 179,
     "metadata": {},
     "output_type": "execute_result"
    }
   ],
   "source": [
    "df.Authority_Approval.value_counts()"
   ]
  },
  {
   "cell_type": "code",
   "execution_count": 180,
   "metadata": {},
   "outputs": [
    {
     "data": {
      "text/plain": [
       "None                    1108\n",
       "Freehold                  83\n",
       "Co-operative Society      47\n",
       "Leasehold                  2\n",
       "Name: Type_of_Ownership, dtype: int64"
      ]
     },
     "execution_count": 180,
     "metadata": {},
     "output_type": "execute_result"
    }
   ],
   "source": [
    "df.Type_of_Ownership.value_counts()"
   ]
  },
  {
   "cell_type": "code",
   "execution_count": 181,
   "metadata": {},
   "outputs": [],
   "source": [
    "df.Amenities=df.Amenities.apply(lambda x :x.split('\\n'))"
   ]
  },
  {
   "cell_type": "code",
   "execution_count": 182,
   "metadata": {},
   "outputs": [],
   "source": [
    "df['Amenities_no']=df.Amenities.apply(lambda x : len(x))"
   ]
  },
  {
   "cell_type": "markdown",
   "metadata": {},
   "source": [
    "#### Data Cleaning"
   ]
  },
  {
   "cell_type": "code",
   "execution_count": 183,
   "metadata": {},
   "outputs": [
    {
     "data": {
      "text/plain": [
       "Index(['Bedroom', 'Bathroom', 'Balcony', 'Project', 'Super_area',\n",
       "       'Carpet_area', 'Furnished_status', 'Car_parking', 'Tenants_Preferred',\n",
       "       'Water_Availability', 'Rental_Value', 'Booking_Amount', 'Address',\n",
       "       'Landmarks', 'Status', 'Overlooking', 'Flooring',\n",
       "       'Status_of_Electricity', 'Lifts', 'Other_Tenants_Preferred',\n",
       "       'Age_of_Construction', 'Furnishing', 'Authority_Approval',\n",
       "       'Type_of_Ownership', 'Amenities', 'Amenities_no'],\n",
       "      dtype='object')"
      ]
     },
     "execution_count": 183,
     "metadata": {},
     "output_type": "execute_result"
    }
   ],
   "source": [
    "df.columns"
   ]
  },
  {
   "cell_type": "code",
   "execution_count": 184,
   "metadata": {},
   "outputs": [
    {
     "data": {
      "text/plain": [
       "Bedroom                     object\n",
       "Bathroom                    object\n",
       "Balcony                     object\n",
       "Project                     object\n",
       "Super_area                  object\n",
       "Carpet_area                 object\n",
       "Furnished_status            object\n",
       "Car_parking                 object\n",
       "Tenants_Preferred           object\n",
       "Water_Availability          object\n",
       "Rental_Value                object\n",
       "Booking_Amount              object\n",
       "Address                    float64\n",
       "Landmarks                   object\n",
       "Status                      object\n",
       "Overlooking                 object\n",
       "Flooring                    object\n",
       "Status_of_Electricity       object\n",
       "Lifts                       object\n",
       "Other_Tenants_Preferred     object\n",
       "Age_of_Construction         object\n",
       "Furnishing                  object\n",
       "Authority_Approval          object\n",
       "Type_of_Ownership           object\n",
       "Amenities                   object\n",
       "Amenities_no                 int64\n",
       "dtype: object"
      ]
     },
     "execution_count": 184,
     "metadata": {},
     "output_type": "execute_result"
    }
   ],
   "source": [
    "df.dtypes"
   ]
  },
  {
   "cell_type": "code",
   "execution_count": 188,
   "metadata": {},
   "outputs": [],
   "source": [
    "df.Booking_Amount = df.Booking_Amount.astype('float')"
   ]
  },
  {
   "cell_type": "code",
   "execution_count": 189,
   "metadata": {},
   "outputs": [
    {
     "data": {
      "text/plain": [
       "array(['4', '2', '1', '3', '5', 'None'], dtype=object)"
      ]
     },
     "execution_count": 189,
     "metadata": {},
     "output_type": "execute_result"
    }
   ],
   "source": [
    "df.Bedroom.unique()"
   ]
  },
  {
   "cell_type": "code",
   "execution_count": 190,
   "metadata": {},
   "outputs": [
    {
     "data": {
      "text/plain": [
       "array([2.0000e+05, 4.2000e+04, 5.0000e+04, 4.0000e+04, 6.0000e+04,\n",
       "       4.5000e+04, 3.6000e+04, 4.5000e+05, 3.5000e+04, 2.0000e+04,\n",
       "       3.3500e+04, 3.0000e+05,        nan, 1.5000e+05, 2.1000e+04,\n",
       "       7.0000e+04, 3.0000e+04, 5.0000e+05, 7.5000e+04, 8.0000e+04,\n",
       "       2.5000e+05, 3.6000e+05, 1.9000e+05, 1.2000e+05, 2.1000e+06,\n",
       "       1.4000e+05, 1.8000e+04, 1.0000e+05, 5.5000e+05, 9.0000e+04,\n",
       "       7.0000e+05, 2.5000e+04, 1.0000e+00, 4.0000e+05, 6.0000e+05,\n",
       "       6.5000e+04, 1.1000e+05, 6.5999e+04, 0.0000e+00, 1.3000e+05,\n",
       "       8.0000e+05, 5.7000e+04, 4.8000e+04, 3.2000e+05, 2.3000e+05,\n",
       "       1.6000e+05, 5.0000e+01, 1.5000e+04, 2.6000e+05, 2.7000e+04,\n",
       "       5.4000e+04, 1.0000e+06, 6.6000e+04, 9.0000e+05, 8.0000e+03,\n",
       "       2.4000e+04, 5.5000e+04, 2.8000e+05, 7.2000e+05, 2.4000e+05,\n",
       "       3.5000e+05, 8.5000e+03, 3.0000e+03, 1.5000e+06, 1.0000e+04,\n",
       "       8.1000e+04, 7.5000e+05, 8.5000e+04, 4.4000e+04, 5.0000e+03,\n",
       "       2.2000e+04, 1.8000e+05, 6.3000e+04, 7.5500e+04, 5.9999e+04,\n",
       "       2.1000e+05, 3.2000e+04, 5.2000e+04, 1.7145e+04, 9.6000e+05,\n",
       "       6.9000e+04, 3.7000e+04, 6.0000e+03, 5.4000e+01, 1.6000e+04,\n",
       "       1.2000e+04, 3.3000e+04, 6.8000e+04, 8.1000e+05, 2.8000e+04,\n",
       "       9.9000e+04, 2.7000e+05, 1.1000e+04, 8.4000e+04])"
      ]
     },
     "execution_count": 190,
     "metadata": {},
     "output_type": "execute_result"
    }
   ],
   "source": [
    "df.Booking_Amount.unique()"
   ]
  },
  {
   "cell_type": "code",
   "execution_count": 191,
   "metadata": {},
   "outputs": [],
   "source": [
    "book_na=df.groupby('Bedroom')['Booking_Amount'].median().reset_index().to_dict()['Booking_Amount']"
   ]
  },
  {
   "cell_type": "code",
   "execution_count": 192,
   "metadata": {},
   "outputs": [
    {
     "data": {
      "text/plain": [
       "{0: 30000.0, 1: 50000.0, 2: 90000.0, 3: 310000.0, 4: 500000.0, 5: 20000.0}"
      ]
     },
     "execution_count": 192,
     "metadata": {},
     "output_type": "execute_result"
    }
   ],
   "source": [
    "book_na"
   ]
  },
  {
   "cell_type": "code",
   "execution_count": 193,
   "metadata": {},
   "outputs": [],
   "source": [
    "pd.set_option('display.max_columns', None)"
   ]
  },
  {
   "cell_type": "code",
   "execution_count": 194,
   "metadata": {},
   "outputs": [],
   "source": [
    "for i in range(6):\n",
    "    df.loc[(df.Booking_Amount.isna()) & (df.Bedroom==str(i)),'Booking_Amount']=book_na[i]"
   ]
  },
  {
   "cell_type": "code",
   "execution_count": 195,
   "metadata": {},
   "outputs": [],
   "source": [
    "df.loc[df.Booking_Amount.isna(),'Booking_Amount']=book_na[0]"
   ]
  },
  {
   "cell_type": "code",
   "execution_count": 196,
   "metadata": {},
   "outputs": [],
   "source": [
    "df.loc[df.Landmarks.isna(),'Landmarks']='None'"
   ]
  },
  {
   "cell_type": "code",
   "execution_count": 197,
   "metadata": {},
   "outputs": [],
   "source": [
    "df.loc[df.Lifts.isna(),'Lifts']=0"
   ]
  },
  {
   "cell_type": "code",
   "execution_count": 198,
   "metadata": {},
   "outputs": [
    {
     "data": {
      "text/plain": [
       "Bedroom                    0\n",
       "Bathroom                   0\n",
       "Balcony                    0\n",
       "Project                    0\n",
       "Super_area                 0\n",
       "Carpet_area                0\n",
       "Furnished_status           0\n",
       "Car_parking                0\n",
       "Tenants_Preferred          0\n",
       "Water_Availability         0\n",
       "Rental_Value               0\n",
       "Booking_Amount             0\n",
       "Address                    0\n",
       "Landmarks                  0\n",
       "Status                     0\n",
       "Overlooking                0\n",
       "Flooring                   0\n",
       "Status_of_Electricity      0\n",
       "Lifts                      0\n",
       "Other_Tenants_Preferred    0\n",
       "Age_of_Construction        0\n",
       "Furnishing                 0\n",
       "Authority_Approval         0\n",
       "Type_of_Ownership          0\n",
       "Amenities                  0\n",
       "Amenities_no               0\n",
       "dtype: int64"
      ]
     },
     "execution_count": 198,
     "metadata": {},
     "output_type": "execute_result"
    }
   ],
   "source": [
    "df.isna().sum()"
   ]
  },
  {
   "cell_type": "code",
   "execution_count": 214,
   "metadata": {},
   "outputs": [
    {
     "data": {
      "text/plain": [
       "array(['4088', '1200', '710', '1191', '1050', '1350', '870', '2200',\n",
       "       '550', '494', '2345', '650', '1064', '945', '960', '600', '2293',\n",
       "       '6850', '1140', '1600', '1650', '1250', '2800', '1059', '2900',\n",
       "       '1150', '3740', '1432', '450', '1450', '900', '1440', '2650',\n",
       "       '1530', '4350', '1100', '1750', '2835', '4500', '1300', '950',\n",
       "       '1092', '565', '1000', '1441', '1171', '952', '2500', '1420',\n",
       "       '1700', '2890', '985', '1400', '990', '635', 'None', '1110',\n",
       "       '1690', '1072', '721', '2979', '3435', '3430', '1500', '1378',\n",
       "       '1660', '915', '2000', '2100', '1104', '3500', '1550', '1935',\n",
       "       '1315', '1800', '750', '580', '1900', '1230', '1270', '500',\n",
       "       '1560', '4700', '1240', '1870', '980', '753', '975', '5350',\n",
       "       '1227', '1080', '1025', '1012', '675', '669', '2389', '1320',\n",
       "       '1665', '1044', '2640', '1180', '690', '4800', '1645', '979',\n",
       "       '1001', '800', '1765', '640', '905', '839', '850', '663', '1090',\n",
       "       '1410', '660', '6500', '2584', '1460', '480', '1953', '1365',\n",
       "       '726', '695', '824', '495', '2300', '1109', '3700', '572', '1145',\n",
       "       '1220', '878', '700', '637', '1076', '1066', '1010', '2700', '736',\n",
       "       '1175', '951', '1116', '1097', '1005', '970', '1372', '1055',\n",
       "       '1143', '2015', '1360', '3300', '1608', '1605', '760', '3400',\n",
       "       '2220', '4460', '1034', '1071', '2610', '1780', '1098', '670',\n",
       "       '1068', '555', '784', '1093', '1545', '609', '997', '615', '921',\n",
       "       '412', '1238', '2206', '350', '1970', '940', '641', '770', '4000',\n",
       "       '876', '1070', '742', '1147', '2322', '18,000', '4216', '860',\n",
       "       '525', '585', '901', '880', '3000', '920', '1330', '903', '855',\n",
       "       '1112', '620', '977', '1492', '705', '186', '1626', '1435', '1945',\n",
       "       '130', '515', '570', '780', '923', '1189', '785', '1048', '932',\n",
       "       '1580', '1160', '1256', '2987', '2210', '1390', '1095', '1006',\n",
       "       '1292', '1217', '949', '6100', '1846', '1020', '1228', '1060',\n",
       "       '4081', '1225', '1214', '1120', '1190', '250', '1340', '1269',\n",
       "       '1820', '1075', '702', '720', '1113', '1405', '798', '1503',\n",
       "       '1039', '756', '1022', '908', '1065', '981', '1304', '1637', '625',\n",
       "       '1462', '2010', '1260', '470', '672', '1711', '749', '630', '1170',\n",
       "       '1040', '897', '610', '638', '657', '1155', '3315', '1345', '996',\n",
       "       '634', '6862', '1375', '445', '1487', '723', '890', '851', '955',\n",
       "       '629', '2195', '1275', '1208', '2350', '898', '1418', '1179',\n",
       "       '1485', '2018', '1540', '644', '1414', '938', '874', '883', '825',\n",
       "       '840', '716', '725', '820', '575', '956', '1313', '1725', '810',\n",
       "       '790', '627', '646', '972', '560', '1242', '5793', '1096', '1099',\n",
       "       '510', '3100', '859', '1125', '775', '1265', '786', '535', '1197',\n",
       "       '685', '1123', '1255', '858', '971', '863', '1825', '1470', '590',\n",
       "       '1317', '1290', '1352', '830', '931', '1235', '520', '1664', '822',\n",
       "       '1401', '82', '930', '935', '910', '2400', '1035', '1024', '595',\n",
       "       '400', '375', '792', '2600', '964', '1087', '1335', '330', '1394',\n",
       "       '988', '1475', '809', '1159', '631', '1409', '100', '1231', '896',\n",
       "       '682', '200', '740', '622', '856', '857', '789', '538', '4600',\n",
       "       '1244', '1054', '1045', '616', '866', '3044', '978', '410', '966',\n",
       "       '1130', '680', '1310', '1490', '1085', '1413', '954', '688',\n",
       "       '2550', '430', '540', '1383', '1126', '1173', '836', '989', '1322',\n",
       "       '549', '885', '1465'], dtype=object)"
      ]
     },
     "execution_count": 214,
     "metadata": {},
     "output_type": "execute_result"
    }
   ],
   "source": [
    "df.Super_area.unique()"
   ]
  },
  {
   "cell_type": "markdown",
   "metadata": {},
   "source": [
    "### Label Encoding "
   ]
  },
  {
   "cell_type": "code",
   "execution_count": 199,
   "metadata": {},
   "outputs": [],
   "source": [
    "data_clean=df.copy()"
   ]
  },
  {
   "cell_type": "code",
   "execution_count": 200,
   "metadata": {},
   "outputs": [],
   "source": [
    "data_clean.to_csv('clean_data.csv',index=False)"
   ]
  },
  {
   "cell_type": "code",
   "execution_count": 201,
   "metadata": {},
   "outputs": [],
   "source": [
    "data_clean = pd.read_csv('clean_data.csv')"
   ]
  },
  {
   "cell_type": "code",
   "execution_count": 202,
   "metadata": {},
   "outputs": [],
   "source": [
    "data_clean.drop('Amenities',axis=1,inplace=True)"
   ]
  },
  {
   "cell_type": "code",
   "execution_count": 203,
   "metadata": {},
   "outputs": [],
   "source": [
    "data_clean.Bedroom=data_clean.Bedroom.apply(lambda x : 0 if x =='None' else int(x))"
   ]
  },
  {
   "cell_type": "code",
   "execution_count": 204,
   "metadata": {},
   "outputs": [],
   "source": [
    "data_clean.Bathroom=data_clean.Bathroom.apply(lambda x : 0 if x =='None' else int(x))"
   ]
  },
  {
   "cell_type": "code",
   "execution_count": 205,
   "metadata": {},
   "outputs": [],
   "source": [
    "data_clean.Balcony=data_clean.Balcony.apply(lambda x : 0 if x =='None' else int(x))"
   ]
  },
  {
   "cell_type": "code",
   "execution_count": 206,
   "metadata": {},
   "outputs": [
    {
     "data": {
      "text/html": [
       "<div>\n",
       "<style scoped>\n",
       "    .dataframe tbody tr th:only-of-type {\n",
       "        vertical-align: middle;\n",
       "    }\n",
       "\n",
       "    .dataframe tbody tr th {\n",
       "        vertical-align: top;\n",
       "    }\n",
       "\n",
       "    .dataframe thead th {\n",
       "        text-align: right;\n",
       "    }\n",
       "</style>\n",
       "<table border=\"1\" class=\"dataframe\">\n",
       "  <thead>\n",
       "    <tr style=\"text-align: right;\">\n",
       "      <th></th>\n",
       "      <th>Bedroom</th>\n",
       "      <th>Bathroom</th>\n",
       "      <th>Balcony</th>\n",
       "      <th>Project</th>\n",
       "      <th>Super_area</th>\n",
       "      <th>Carpet_area</th>\n",
       "      <th>Furnished_status</th>\n",
       "      <th>Car_parking</th>\n",
       "      <th>Tenants_Preferred</th>\n",
       "      <th>Water_Availability</th>\n",
       "      <th>Rental_Value</th>\n",
       "      <th>Booking_Amount</th>\n",
       "      <th>Address</th>\n",
       "      <th>Landmarks</th>\n",
       "      <th>Status</th>\n",
       "      <th>Overlooking</th>\n",
       "      <th>Flooring</th>\n",
       "      <th>Status_of_Electricity</th>\n",
       "      <th>Lifts</th>\n",
       "      <th>Other_Tenants_Preferred</th>\n",
       "      <th>Age_of_Construction</th>\n",
       "      <th>Furnishing</th>\n",
       "      <th>Authority_Approval</th>\n",
       "      <th>Type_of_Ownership</th>\n",
       "      <th>Amenities_no</th>\n",
       "    </tr>\n",
       "  </thead>\n",
       "  <tbody>\n",
       "    <tr>\n",
       "      <th>67</th>\n",
       "      <td>2</td>\n",
       "      <td>2</td>\n",
       "      <td>1</td>\n",
       "      <td>None</td>\n",
       "      <td>None</td>\n",
       "      <td>640</td>\n",
       "      <td>Unfurnished</td>\n",
       "      <td>None</td>\n",
       "      <td>None</td>\n",
       "      <td>None</td>\n",
       "      <td>13000.0</td>\n",
       "      <td>90000.0</td>\n",
       "      <td>0.0</td>\n",
       "      <td>corporation garden</td>\n",
       "      <td>None</td>\n",
       "      <td>Garden/Park</td>\n",
       "      <td>None</td>\n",
       "      <td>None</td>\n",
       "      <td>None</td>\n",
       "      <td>Pets allowed</td>\n",
       "      <td>5 to 10 years</td>\n",
       "      <td>Unfurnished</td>\n",
       "      <td>None</td>\n",
       "      <td>None</td>\n",
       "      <td>1</td>\n",
       "    </tr>\n",
       "    <tr>\n",
       "      <th>75</th>\n",
       "      <td>2</td>\n",
       "      <td>2</td>\n",
       "      <td>1</td>\n",
       "      <td>Swapnashilp</td>\n",
       "      <td>None</td>\n",
       "      <td>1300</td>\n",
       "      <td>Furnished</td>\n",
       "      <td>None</td>\n",
       "      <td>None</td>\n",
       "      <td>None</td>\n",
       "      <td>30000.0</td>\n",
       "      <td>100000.0</td>\n",
       "      <td>0.0</td>\n",
       "      <td>college</td>\n",
       "      <td>Immediately</td>\n",
       "      <td>Main Road</td>\n",
       "      <td>None</td>\n",
       "      <td>None</td>\n",
       "      <td>None</td>\n",
       "      <td>None</td>\n",
       "      <td>5 to 10 years</td>\n",
       "      <td>Furnished</td>\n",
       "      <td>None</td>\n",
       "      <td>None</td>\n",
       "      <td>1</td>\n",
       "    </tr>\n",
       "    <tr>\n",
       "      <th>134</th>\n",
       "      <td>3</td>\n",
       "      <td>3</td>\n",
       "      <td>3</td>\n",
       "      <td>MI CASA</td>\n",
       "      <td>None</td>\n",
       "      <td>1350</td>\n",
       "      <td>Unfurnished</td>\n",
       "      <td>None</td>\n",
       "      <td>Bachelors</td>\n",
       "      <td>None</td>\n",
       "      <td>19000.0</td>\n",
       "      <td>57000.0</td>\n",
       "      <td>14.0</td>\n",
       "      <td>euro school bishop school dps school star baja...</td>\n",
       "      <td>Immediately</td>\n",
       "      <td>Pool, Garden/Park</td>\n",
       "      <td>None</td>\n",
       "      <td>None</td>\n",
       "      <td>0</td>\n",
       "      <td>Non-Vegetarians, Without Company Lease, Pets a...</td>\n",
       "      <td>New Construction</td>\n",
       "      <td>Unfurnished</td>\n",
       "      <td>None</td>\n",
       "      <td>None</td>\n",
       "      <td>23</td>\n",
       "    </tr>\n",
       "    <tr>\n",
       "      <th>166</th>\n",
       "      <td>2</td>\n",
       "      <td>2</td>\n",
       "      <td>2</td>\n",
       "      <td>None</td>\n",
       "      <td>None</td>\n",
       "      <td>890</td>\n",
       "      <td>Semi-Furnished</td>\n",
       "      <td>None</td>\n",
       "      <td>None</td>\n",
       "      <td>None</td>\n",
       "      <td>11500.0</td>\n",
       "      <td>30000.0</td>\n",
       "      <td>8.0</td>\n",
       "      <td>none</td>\n",
       "      <td>None</td>\n",
       "      <td>None</td>\n",
       "      <td>None</td>\n",
       "      <td>None</td>\n",
       "      <td>None</td>\n",
       "      <td>None</td>\n",
       "      <td>5 to 10 years</td>\n",
       "      <td>Semi-Furnished</td>\n",
       "      <td>None</td>\n",
       "      <td>None</td>\n",
       "      <td>1</td>\n",
       "    </tr>\n",
       "    <tr>\n",
       "      <th>168</th>\n",
       "      <td>2</td>\n",
       "      <td>2</td>\n",
       "      <td>2</td>\n",
       "      <td>Gagan Garima</td>\n",
       "      <td>None</td>\n",
       "      <td>820</td>\n",
       "      <td>Semi-Furnished</td>\n",
       "      <td>1</td>\n",
       "      <td>Family</td>\n",
       "      <td>None</td>\n",
       "      <td>26000.0</td>\n",
       "      <td>40000.0</td>\n",
       "      <td>0.0</td>\n",
       "      <td>property close khadki railway station  bus stand</td>\n",
       "      <td>Immediately Available</td>\n",
       "      <td>None</td>\n",
       "      <td>Ceramic Tiles</td>\n",
       "      <td>No/Rare Powercut</td>\n",
       "      <td>2</td>\n",
       "      <td>None</td>\n",
       "      <td>10 to 15 years</td>\n",
       "      <td>Semi-Furnished</td>\n",
       "      <td>None</td>\n",
       "      <td>None</td>\n",
       "      <td>1</td>\n",
       "    </tr>\n",
       "  </tbody>\n",
       "</table>\n",
       "</div>"
      ],
      "text/plain": [
       "     Bedroom  Bathroom  Balcony       Project Super_area Carpet_area  \\\n",
       "67         2         2        1          None       None         640   \n",
       "75         2         2        1   Swapnashilp       None        1300   \n",
       "134        3         3        3       MI CASA       None        1350   \n",
       "166        2         2        2          None       None         890   \n",
       "168        2         2        2  Gagan Garima       None         820   \n",
       "\n",
       "    Furnished_status Car_parking Tenants_Preferred Water_Availability  \\\n",
       "67       Unfurnished        None              None               None   \n",
       "75         Furnished        None              None               None   \n",
       "134      Unfurnished        None         Bachelors               None   \n",
       "166   Semi-Furnished        None              None               None   \n",
       "168   Semi-Furnished           1            Family               None   \n",
       "\n",
       "    Rental_Value  Booking_Amount  Address  \\\n",
       "67       13000.0         90000.0      0.0   \n",
       "75       30000.0        100000.0      0.0   \n",
       "134      19000.0         57000.0     14.0   \n",
       "166      11500.0         30000.0      8.0   \n",
       "168      26000.0         40000.0      0.0   \n",
       "\n",
       "                                             Landmarks                 Status  \\\n",
       "67                                  corporation garden                   None   \n",
       "75                                             college            Immediately   \n",
       "134  euro school bishop school dps school star baja...            Immediately   \n",
       "166                                               none                   None   \n",
       "168   property close khadki railway station  bus stand  Immediately Available   \n",
       "\n",
       "           Overlooking       Flooring Status_of_Electricity Lifts  \\\n",
       "67         Garden/Park           None                  None  None   \n",
       "75           Main Road           None                  None  None   \n",
       "134  Pool, Garden/Park           None                  None     0   \n",
       "166               None           None                  None  None   \n",
       "168               None  Ceramic Tiles      No/Rare Powercut     2   \n",
       "\n",
       "                               Other_Tenants_Preferred Age_of_Construction  \\\n",
       "67                                        Pets allowed       5 to 10 years   \n",
       "75                                                None       5 to 10 years   \n",
       "134  Non-Vegetarians, Without Company Lease, Pets a...    New Construction   \n",
       "166                                               None       5 to 10 years   \n",
       "168                                               None      10 to 15 years   \n",
       "\n",
       "         Furnishing Authority_Approval Type_of_Ownership  Amenities_no  \n",
       "67      Unfurnished               None              None             1  \n",
       "75        Furnished               None              None             1  \n",
       "134     Unfurnished               None              None            23  \n",
       "166  Semi-Furnished               None              None             1  \n",
       "168  Semi-Furnished               None              None             1  "
      ]
     },
     "execution_count": 206,
     "metadata": {},
     "output_type": "execute_result"
    }
   ],
   "source": [
    "data_clean[data_clean.Super_area=='None'].head(5)"
   ]
  },
  {
   "cell_type": "code",
   "execution_count": 207,
   "metadata": {},
   "outputs": [],
   "source": [
    "data_clean.Super_area=data_clean.Super_area.apply(lambda x : int(x.replace(',','')) if x!='None' else x)"
   ]
  },
  {
   "cell_type": "code",
   "execution_count": 208,
   "metadata": {},
   "outputs": [
    {
     "data": {
      "text/plain": [
       "Bedroom                      int64\n",
       "Bathroom                     int64\n",
       "Balcony                      int64\n",
       "Project                     object\n",
       "Super_area                  object\n",
       "Carpet_area                 object\n",
       "Furnished_status            object\n",
       "Car_parking                 object\n",
       "Tenants_Preferred           object\n",
       "Water_Availability          object\n",
       "Rental_Value                object\n",
       "Booking_Amount             float64\n",
       "Address                    float64\n",
       "Landmarks                   object\n",
       "Status                      object\n",
       "Overlooking                 object\n",
       "Flooring                    object\n",
       "Status_of_Electricity       object\n",
       "Lifts                       object\n",
       "Other_Tenants_Preferred     object\n",
       "Age_of_Construction         object\n",
       "Furnishing                  object\n",
       "Authority_Approval          object\n",
       "Type_of_Ownership           object\n",
       "Amenities_no                 int64\n",
       "dtype: object"
      ]
     },
     "execution_count": 208,
     "metadata": {},
     "output_type": "execute_result"
    }
   ],
   "source": [
    "data_clean.dtypes"
   ]
  },
  {
   "cell_type": "code",
   "execution_count": 219,
   "metadata": {},
   "outputs": [],
   "source": [
    "data_clean.Bedroom = data_clean.Bedroom.astype('int')"
   ]
  },
  {
   "cell_type": "code",
   "execution_count": 225,
   "metadata": {},
   "outputs": [
    {
     "data": {
      "text/plain": [
       "array([4, 2, 1, 3, 5, 0])"
      ]
     },
     "execution_count": 225,
     "metadata": {},
     "output_type": "execute_result"
    }
   ],
   "source": [
    "data_clean.Bedroom.unique()"
   ]
  },
  {
   "cell_type": "code",
   "execution_count": 232,
   "metadata": {},
   "outputs": [
    {
     "data": {
      "text/plain": [
       "0       4088\n",
       "1       1200\n",
       "2        710\n",
       "3       1191\n",
       "4       1050\n",
       "        ... \n",
       "1235    1465\n",
       "1236     580\n",
       "1237     950\n",
       "1238     550\n",
       "1239    None\n",
       "Name: Super_area, Length: 1240, dtype: object"
      ]
     },
     "execution_count": 232,
     "metadata": {},
     "output_type": "execute_result"
    }
   ],
   "source": [
    "data_clean.Super_area"
   ]
  },
  {
   "cell_type": "code",
   "execution_count": 240,
   "metadata": {},
   "outputs": [
    {
     "data": {
      "text/plain": [
       "0       4088\n",
       "1       1200\n",
       "2        710\n",
       "3       1191\n",
       "4       1050\n",
       "        ... \n",
       "1234    1050\n",
       "1235    1465\n",
       "1236     580\n",
       "1237     950\n",
       "1238     550\n",
       "Name: Super_area, Length: 1193, dtype: int32"
      ]
     },
     "execution_count": 240,
     "metadata": {},
     "output_type": "execute_result"
    }
   ],
   "source": [
    "data_clean[data_clean.Super_area!='None'].Super_area.astype('int')"
   ]
  },
  {
   "cell_type": "code",
   "execution_count": 243,
   "metadata": {},
   "outputs": [
    {
     "data": {
      "text/plain": [
       "array([4, 2, 1, 3, 5, 0])"
      ]
     },
     "execution_count": 243,
     "metadata": {},
     "output_type": "execute_result"
    }
   ],
   "source": [
    "data_clean.Bedroom.unique()"
   ]
  },
  {
   "cell_type": "code",
   "execution_count": 249,
   "metadata": {},
   "outputs": [],
   "source": [
    "Sup_area = data_clean[data_clean.Super_area!='None']"
   ]
  },
  {
   "cell_type": "code",
   "execution_count": 251,
   "metadata": {},
   "outputs": [
    {
     "name": "stderr",
     "output_type": "stream",
     "text": [
      "C:\\Users\\Nikhil Deshmukh\\anaconda3\\lib\\site-packages\\pandas\\core\\generic.py:5168: SettingWithCopyWarning: \n",
      "A value is trying to be set on a copy of a slice from a DataFrame.\n",
      "Try using .loc[row_indexer,col_indexer] = value instead\n",
      "\n",
      "See the caveats in the documentation: https://pandas.pydata.org/pandas-docs/stable/user_guide/indexing.html#returning-a-view-versus-a-copy\n",
      "  self[name] = value\n"
     ]
    }
   ],
   "source": [
    "Sup_area.Super_area = Sup_area.Super_area.astype('int')"
   ]
  },
  {
   "cell_type": "code",
   "execution_count": 254,
   "metadata": {},
   "outputs": [],
   "source": [
    "sup_nan = Sup_area.groupby('Bedroom')['Super_area'].median().reset_index().to_dict()['Super_area']"
   ]
  },
  {
   "cell_type": "code",
   "execution_count": 255,
   "metadata": {},
   "outputs": [
    {
     "data": {
      "text/plain": [
       "{0: 350.0, 1: 629.5, 2: 1025.0, 3: 1516.5, 4: 2993.5, 5: 4044.0}"
      ]
     },
     "execution_count": 255,
     "metadata": {},
     "output_type": "execute_result"
    }
   ],
   "source": [
    "sup_nan"
   ]
  },
  {
   "cell_type": "code",
   "execution_count": 256,
   "metadata": {},
   "outputs": [],
   "source": [
    "for i in range(6):\n",
    "    data_clean.loc[(data_clean.Super_area=='None') & (data_clean.Bedroom==i),'Super_area']=sup_nan[i]"
   ]
  },
  {
   "cell_type": "code",
   "execution_count": 257,
   "metadata": {},
   "outputs": [],
   "source": [
    "data_clean.loc[(data_clean.Super_area=='None') & (data_clean.Bedroom==0),'Super_area']=sup_nan[0]"
   ]
  },
  {
   "cell_type": "code",
   "execution_count": 258,
   "metadata": {},
   "outputs": [],
   "source": [
    "data_clean.Super_area=data_clean.Super_area.astype(int)"
   ]
  },
  {
   "cell_type": "code",
   "execution_count": 259,
   "metadata": {},
   "outputs": [],
   "source": [
    "data_clean.Carpet_area=data_clean.Carpet_area.apply(lambda x : int(x.replace(',','')) if x!='None' else x)"
   ]
  },
  {
   "cell_type": "code",
   "execution_count": 268,
   "metadata": {},
   "outputs": [
    {
     "data": {
      "text/plain": [
       "array(['None', 956, 566, 780, 950, 1200, 680, 1788, 480, 800, 439, 1738,\n",
       "       510, 805, 802, 670, 600, 1661, 5000, 900, 450, 922, 2300, 836, 550,\n",
       "       2700, 1150, 707, 3000, 1530, 3300, 1400, 2100, 3330, 666, 809, 499,\n",
       "       850, 1100, 925, 650, 825, 1650, 1450, 1014, 630, 745, 470, 515,\n",
       "       640, 1050, 840, 750, 920, 1300, 520, 2900, 1030, 1410, 1250, 1700,\n",
       "       730, 2500, 990, 1520, 740, 625, 940, 500, 1243, 930, 3600, 1090,\n",
       "       1800, 660, 1550, 629, 555, 1950, 4500, 1350, 1600, 980, 1185, 747,\n",
       "       2200, 4200, 1245, 755, 935, 2990, 867, 699, 890, 721, 820, 873,\n",
       "       700, 690, 430, 575, 860, 1230, 2000, 1280, 420, 611, 765, 554, 766,\n",
       "       1000, 751, 463, 697, 710, 2350, 776, 1045, 770, 2450, 3800, 835,\n",
       "       476, 3500, 1500, 3100, 1270, 1330, 760, 3200, 1326, 827, 3568,\n",
       "       1034, 1424, 810, 725, 1750, 501, 517, 624, 1290, 830, 451, 1160,\n",
       "       687, 582, 815, 16000, 752, 2250, 790, 560, 785, 435, 1125, 1003,\n",
       "       1205, 1105, 585, 610, 464, 941, 1070, 400, 715, 691, 1271, 1580,\n",
       "       605, 1180, 448, 2510, 716, 475, 895, 665, 1080, 821, 960, 2800,\n",
       "       1025, 915, 495, 180, 1020, 300, 571, 1075, 870, 675, 908, 459,\n",
       "       1052, 541, 457, 685, 545, 1431, 490, 615, 682, 853, 1420, 1168,\n",
       "       4000, 2850, 1120, 856, 738, 1063, 530, 1340, 975, 736, 636, 905,\n",
       "       1380, 419, 995, 2400, 2150, 880, 823, 1850, 778, 859, 693, 645,\n",
       "       471, 646, 589, 655, 516, 350, 1260, 1460, 824, 875, 954, 767, 1560,\n",
       "       440, 591, 2515, 1255, 622, 1317, 1457, 416, 503, 732, 570, 865,\n",
       "       2600, 1002, 427, 782, 720, 965, 263, 580, 514, 1854, 410, 612, 525,\n",
       "       1066, 433, 360, 415, 631, 1980, 150, 743, 1040, 4329, 456, 1490,\n",
       "       969, 620, 1130, 754, 667, 734, 689, 294, 1060, 590, 1140, 1126,\n",
       "       926, 724, 414, 1056, 460, 507], dtype=object)"
      ]
     },
     "execution_count": 268,
     "metadata": {},
     "output_type": "execute_result"
    }
   ],
   "source": [
    "data_clean.Carpet_area.unique()"
   ]
  },
  {
   "cell_type": "code",
   "execution_count": 269,
   "metadata": {},
   "outputs": [],
   "source": [
    "Car_area = data_clean[data_clean.Carpet_area!='None']"
   ]
  },
  {
   "cell_type": "code",
   "execution_count": 272,
   "metadata": {},
   "outputs": [
    {
     "data": {
      "text/plain": [
       "0       None\n",
       "1        956\n",
       "2        566\n",
       "3        780\n",
       "4        950\n",
       "        ... \n",
       "1235    1200\n",
       "1236     580\n",
       "1237    None\n",
       "1238     420\n",
       "1239     507\n",
       "Name: Carpet_area, Length: 1240, dtype: object"
      ]
     },
     "execution_count": 272,
     "metadata": {},
     "output_type": "execute_result"
    }
   ],
   "source": [
    "data_clean.Carpet_area"
   ]
  },
  {
   "cell_type": "code",
   "execution_count": 273,
   "metadata": {},
   "outputs": [
    {
     "name": "stderr",
     "output_type": "stream",
     "text": [
      "C:\\Users\\Nikhil Deshmukh\\anaconda3\\lib\\site-packages\\pandas\\core\\generic.py:5168: SettingWithCopyWarning: \n",
      "A value is trying to be set on a copy of a slice from a DataFrame.\n",
      "Try using .loc[row_indexer,col_indexer] = value instead\n",
      "\n",
      "See the caveats in the documentation: https://pandas.pydata.org/pandas-docs/stable/user_guide/indexing.html#returning-a-view-versus-a-copy\n",
      "  self[name] = value\n"
     ]
    }
   ],
   "source": [
    "Car_area.Carpet_area= Car_area.Carpet_area.astype('int')"
   ]
  },
  {
   "cell_type": "code",
   "execution_count": null,
   "metadata": {},
   "outputs": [],
   "source": []
  },
  {
   "cell_type": "code",
   "execution_count": 274,
   "metadata": {},
   "outputs": [],
   "source": [
    "carp_nan=Car_area.groupby('Bedroom')['Carpet_area'].median().reset_index().to_dict()['Carpet_area']"
   ]
  },
  {
   "cell_type": "code",
   "execution_count": 275,
   "metadata": {},
   "outputs": [
    {
     "data": {
      "text/plain": [
       "{0: 300, 1: 500, 2: 820, 3: 1250, 4: 2505, 5: 3400}"
      ]
     },
     "execution_count": 275,
     "metadata": {},
     "output_type": "execute_result"
    }
   ],
   "source": [
    "carp_nan"
   ]
  },
  {
   "cell_type": "code",
   "execution_count": 276,
   "metadata": {},
   "outputs": [],
   "source": [
    "for i in range(6):\n",
    "    data_clean.loc[(data_clean.Carpet_area=='None') & (data_clean.Bedroom==i),'Carpet_area']=carp_nan[i]"
   ]
  },
  {
   "cell_type": "code",
   "execution_count": 277,
   "metadata": {},
   "outputs": [],
   "source": [
    "data_clean.loc[(data_clean.Carpet_area=='None') & (data_clean.Bedroom==0),'Carpet_area']=carp_nan[0]"
   ]
  },
  {
   "cell_type": "code",
   "execution_count": 278,
   "metadata": {},
   "outputs": [],
   "source": [
    "data_clean.Carpet_area=data_clean.Carpet_area.astype(int)"
   ]
  },
  {
   "cell_type": "code",
   "execution_count": 279,
   "metadata": {},
   "outputs": [
    {
     "data": {
      "text/html": [
       "<div>\n",
       "<style scoped>\n",
       "    .dataframe tbody tr th:only-of-type {\n",
       "        vertical-align: middle;\n",
       "    }\n",
       "\n",
       "    .dataframe tbody tr th {\n",
       "        vertical-align: top;\n",
       "    }\n",
       "\n",
       "    .dataframe thead th {\n",
       "        text-align: right;\n",
       "    }\n",
       "</style>\n",
       "<table border=\"1\" class=\"dataframe\">\n",
       "  <thead>\n",
       "    <tr style=\"text-align: right;\">\n",
       "      <th></th>\n",
       "      <th>Bedroom</th>\n",
       "      <th>Bathroom</th>\n",
       "      <th>Balcony</th>\n",
       "      <th>Project</th>\n",
       "      <th>Super_area</th>\n",
       "      <th>Carpet_area</th>\n",
       "      <th>Furnished_status</th>\n",
       "      <th>Car_parking</th>\n",
       "      <th>Tenants_Preferred</th>\n",
       "      <th>Water_Availability</th>\n",
       "      <th>Rental_Value</th>\n",
       "      <th>Booking_Amount</th>\n",
       "      <th>Address</th>\n",
       "      <th>Landmarks</th>\n",
       "      <th>Status</th>\n",
       "      <th>Overlooking</th>\n",
       "      <th>Flooring</th>\n",
       "      <th>Status_of_Electricity</th>\n",
       "      <th>Lifts</th>\n",
       "      <th>Other_Tenants_Preferred</th>\n",
       "      <th>Age_of_Construction</th>\n",
       "      <th>Furnishing</th>\n",
       "      <th>Authority_Approval</th>\n",
       "      <th>Type_of_Ownership</th>\n",
       "      <th>Amenities_no</th>\n",
       "    </tr>\n",
       "  </thead>\n",
       "  <tbody>\n",
       "    <tr>\n",
       "      <th>0</th>\n",
       "      <td>4</td>\n",
       "      <td>6</td>\n",
       "      <td>2</td>\n",
       "      <td>Eon Waterfront</td>\n",
       "      <td>4088</td>\n",
       "      <td>2505</td>\n",
       "      <td>Furnished</td>\n",
       "      <td>2</td>\n",
       "      <td>None</td>\n",
       "      <td>24 Hours Available</td>\n",
       "      <td>200000.0</td>\n",
       "      <td>200000.0</td>\n",
       "      <td>5.0</td>\n",
       "      <td>barclays office</td>\n",
       "      <td>Immediately Available</td>\n",
       "      <td>Garden/Park, Pool, Main Road</td>\n",
       "      <td>Granite, Wooden</td>\n",
       "      <td>No/Rare Powercut</td>\n",
       "      <td>3</td>\n",
       "      <td>None</td>\n",
       "      <td>None</td>\n",
       "      <td>Furnished</td>\n",
       "      <td>None</td>\n",
       "      <td>None</td>\n",
       "      <td>14</td>\n",
       "    </tr>\n",
       "    <tr>\n",
       "      <th>1</th>\n",
       "      <td>2</td>\n",
       "      <td>2</td>\n",
       "      <td>2</td>\n",
       "      <td>Rohan Abhilasha</td>\n",
       "      <td>1200</td>\n",
       "      <td>956</td>\n",
       "      <td>Unfurnished</td>\n",
       "      <td>None</td>\n",
       "      <td>None</td>\n",
       "      <td>None</td>\n",
       "      <td>13500.0</td>\n",
       "      <td>42000.0</td>\n",
       "      <td>0.0</td>\n",
       "      <td>lohegaon road</td>\n",
       "      <td>Immediately</td>\n",
       "      <td>Garden/Park</td>\n",
       "      <td>Vitrified, Ceramic Tiles</td>\n",
       "      <td>None</td>\n",
       "      <td>0</td>\n",
       "      <td>None</td>\n",
       "      <td>None</td>\n",
       "      <td>Unfurnished</td>\n",
       "      <td>None</td>\n",
       "      <td>None</td>\n",
       "      <td>20</td>\n",
       "    </tr>\n",
       "  </tbody>\n",
       "</table>\n",
       "</div>"
      ],
      "text/plain": [
       "   Bedroom  Bathroom  Balcony          Project  Super_area  Carpet_area  \\\n",
       "0        4         6        2   Eon Waterfront        4088         2505   \n",
       "1        2         2        2  Rohan Abhilasha        1200          956   \n",
       "\n",
       "  Furnished_status Car_parking Tenants_Preferred  Water_Availability  \\\n",
       "0        Furnished           2              None  24 Hours Available   \n",
       "1      Unfurnished        None              None                None   \n",
       "\n",
       "  Rental_Value  Booking_Amount  Address        Landmarks  \\\n",
       "0     200000.0        200000.0      5.0  barclays office   \n",
       "1      13500.0         42000.0      0.0    lohegaon road   \n",
       "\n",
       "                  Status                   Overlooking  \\\n",
       "0  Immediately Available  Garden/Park, Pool, Main Road   \n",
       "1            Immediately                   Garden/Park   \n",
       "\n",
       "                   Flooring Status_of_Electricity Lifts  \\\n",
       "0           Granite, Wooden      No/Rare Powercut     3   \n",
       "1  Vitrified, Ceramic Tiles                  None     0   \n",
       "\n",
       "  Other_Tenants_Preferred Age_of_Construction   Furnishing Authority_Approval  \\\n",
       "0                    None                None    Furnished               None   \n",
       "1                    None                None  Unfurnished               None   \n",
       "\n",
       "  Type_of_Ownership  Amenities_no  \n",
       "0              None            14  \n",
       "1              None            20  "
      ]
     },
     "execution_count": 279,
     "metadata": {},
     "output_type": "execute_result"
    }
   ],
   "source": [
    "data_clean.head(2)"
   ]
  },
  {
   "cell_type": "code",
   "execution_count": 280,
   "metadata": {},
   "outputs": [],
   "source": [
    "data_clean.Car_parking=data_clean.Car_parking.apply(lambda x : 1 if x=='None' else 1 if int(x)>4 else int(x))"
   ]
  },
  {
   "cell_type": "code",
   "execution_count": 281,
   "metadata": {},
   "outputs": [
    {
     "data": {
      "text/html": [
       "<div>\n",
       "<style scoped>\n",
       "    .dataframe tbody tr th:only-of-type {\n",
       "        vertical-align: middle;\n",
       "    }\n",
       "\n",
       "    .dataframe tbody tr th {\n",
       "        vertical-align: top;\n",
       "    }\n",
       "\n",
       "    .dataframe thead th {\n",
       "        text-align: right;\n",
       "    }\n",
       "</style>\n",
       "<table border=\"1\" class=\"dataframe\">\n",
       "  <thead>\n",
       "    <tr style=\"text-align: right;\">\n",
       "      <th></th>\n",
       "      <th>Bedroom</th>\n",
       "      <th>Bathroom</th>\n",
       "      <th>Balcony</th>\n",
       "      <th>Project</th>\n",
       "      <th>Super_area</th>\n",
       "      <th>Carpet_area</th>\n",
       "      <th>Furnished_status</th>\n",
       "      <th>Car_parking</th>\n",
       "      <th>Tenants_Preferred</th>\n",
       "      <th>Water_Availability</th>\n",
       "      <th>Rental_Value</th>\n",
       "      <th>Booking_Amount</th>\n",
       "      <th>Address</th>\n",
       "      <th>Landmarks</th>\n",
       "      <th>Status</th>\n",
       "      <th>Overlooking</th>\n",
       "      <th>Flooring</th>\n",
       "      <th>Status_of_Electricity</th>\n",
       "      <th>Lifts</th>\n",
       "      <th>Other_Tenants_Preferred</th>\n",
       "      <th>Age_of_Construction</th>\n",
       "      <th>Furnishing</th>\n",
       "      <th>Authority_Approval</th>\n",
       "      <th>Type_of_Ownership</th>\n",
       "      <th>Amenities_no</th>\n",
       "    </tr>\n",
       "  </thead>\n",
       "  <tbody>\n",
       "    <tr>\n",
       "      <th>1154</th>\n",
       "      <td>1</td>\n",
       "      <td>1</td>\n",
       "      <td>2</td>\n",
       "      <td>None</td>\n",
       "      <td>800</td>\n",
       "      <td>650</td>\n",
       "      <td>Unfurnished</td>\n",
       "      <td>1</td>\n",
       "      <td>None</td>\n",
       "      <td>24 Hours Available</td>\n",
       "      <td>None</td>\n",
       "      <td>15000.0</td>\n",
       "      <td>0.0</td>\n",
       "      <td>mahadev temple</td>\n",
       "      <td>Immediately</td>\n",
       "      <td>Main Road</td>\n",
       "      <td>Vitrified, Granite</td>\n",
       "      <td>No/Rare Powercut</td>\n",
       "      <td>None</td>\n",
       "      <td>None</td>\n",
       "      <td>Less than 5 years</td>\n",
       "      <td>Unfurnished</td>\n",
       "      <td>City Municipal Corporation</td>\n",
       "      <td>None</td>\n",
       "      <td>1</td>\n",
       "    </tr>\n",
       "  </tbody>\n",
       "</table>\n",
       "</div>"
      ],
      "text/plain": [
       "      Bedroom  Bathroom  Balcony Project  Super_area  Carpet_area  \\\n",
       "1154        1         1        2    None         800          650   \n",
       "\n",
       "     Furnished_status  Car_parking Tenants_Preferred  Water_Availability  \\\n",
       "1154      Unfurnished            1              None  24 Hours Available   \n",
       "\n",
       "     Rental_Value  Booking_Amount  Address       Landmarks       Status  \\\n",
       "1154         None         15000.0      0.0  mahadev temple  Immediately   \n",
       "\n",
       "     Overlooking            Flooring Status_of_Electricity Lifts  \\\n",
       "1154   Main Road  Vitrified, Granite      No/Rare Powercut  None   \n",
       "\n",
       "     Other_Tenants_Preferred Age_of_Construction   Furnishing  \\\n",
       "1154                    None   Less than 5 years  Unfurnished   \n",
       "\n",
       "              Authority_Approval Type_of_Ownership  Amenities_no  \n",
       "1154  City Municipal Corporation              None             1  "
      ]
     },
     "execution_count": 281,
     "metadata": {},
     "output_type": "execute_result"
    }
   ],
   "source": [
    "data_clean[data_clean.Rental_Value=='None']"
   ]
  },
  {
   "cell_type": "code",
   "execution_count": 282,
   "metadata": {},
   "outputs": [],
   "source": [
    "data_clean=data_clean.drop(1174,axis=0)"
   ]
  },
  {
   "cell_type": "code",
   "execution_count": 283,
   "metadata": {},
   "outputs": [],
   "source": [
    "data_clean.Booking_Amount=data_clean.Booking_Amount.astype('int')"
   ]
  },
  {
   "cell_type": "code",
   "execution_count": 284,
   "metadata": {},
   "outputs": [],
   "source": [
    "data_clean.Landmarks=data_clean.Landmarks.apply(lambda x : x.replace('none','None'))"
   ]
  },
  {
   "cell_type": "code",
   "execution_count": 285,
   "metadata": {},
   "outputs": [],
   "source": [
    "data_clean.loc[data_clean.Lifts=='None','Lifts']=0"
   ]
  },
  {
   "cell_type": "code",
   "execution_count": 286,
   "metadata": {},
   "outputs": [],
   "source": [
    "data_clean.Lifts=data_clean.Lifts.astype(int)"
   ]
  },
  {
   "cell_type": "code",
   "execution_count": 318,
   "metadata": {},
   "outputs": [
    {
     "data": {
      "text/html": [
       "<div>\n",
       "<style scoped>\n",
       "    .dataframe tbody tr th:only-of-type {\n",
       "        vertical-align: middle;\n",
       "    }\n",
       "\n",
       "    .dataframe tbody tr th {\n",
       "        vertical-align: top;\n",
       "    }\n",
       "\n",
       "    .dataframe thead th {\n",
       "        text-align: right;\n",
       "    }\n",
       "</style>\n",
       "<table border=\"1\" class=\"dataframe\">\n",
       "  <thead>\n",
       "    <tr style=\"text-align: right;\">\n",
       "      <th></th>\n",
       "      <th>Bedroom</th>\n",
       "      <th>Bathroom</th>\n",
       "      <th>Balcony</th>\n",
       "      <th>Project</th>\n",
       "      <th>Super_area</th>\n",
       "      <th>Carpet_area</th>\n",
       "      <th>Furnished_status</th>\n",
       "      <th>Car_parking</th>\n",
       "      <th>Tenants_Preferred</th>\n",
       "      <th>Water_Availability</th>\n",
       "      <th>Rental_Value</th>\n",
       "      <th>Booking_Amount</th>\n",
       "      <th>Address</th>\n",
       "      <th>Landmarks</th>\n",
       "      <th>Status</th>\n",
       "      <th>Overlooking</th>\n",
       "      <th>Flooring</th>\n",
       "      <th>Status_of_Electricity</th>\n",
       "      <th>Lifts</th>\n",
       "      <th>Other_Tenants_Preferred</th>\n",
       "      <th>Age_of_Construction</th>\n",
       "      <th>Furnishing</th>\n",
       "      <th>Authority_Approval</th>\n",
       "      <th>Type_of_Ownership</th>\n",
       "      <th>Amenities_no</th>\n",
       "    </tr>\n",
       "  </thead>\n",
       "  <tbody>\n",
       "    <tr>\n",
       "      <th>1154</th>\n",
       "      <td>1</td>\n",
       "      <td>1</td>\n",
       "      <td>2</td>\n",
       "      <td>None</td>\n",
       "      <td>800</td>\n",
       "      <td>650</td>\n",
       "      <td>Unfurnished</td>\n",
       "      <td>1</td>\n",
       "      <td>None</td>\n",
       "      <td>24 Hours Available</td>\n",
       "      <td>None</td>\n",
       "      <td>15000</td>\n",
       "      <td>0.0</td>\n",
       "      <td>mahadev temple</td>\n",
       "      <td>Immediately</td>\n",
       "      <td>Main Road</td>\n",
       "      <td>Vitrified, Granite</td>\n",
       "      <td>No/Rare Powercut</td>\n",
       "      <td>0</td>\n",
       "      <td>None</td>\n",
       "      <td>Less than 5 years</td>\n",
       "      <td>Unfurnished</td>\n",
       "      <td>City Municipal Corporation</td>\n",
       "      <td>None</td>\n",
       "      <td>1</td>\n",
       "    </tr>\n",
       "  </tbody>\n",
       "</table>\n",
       "</div>"
      ],
      "text/plain": [
       "      Bedroom  Bathroom  Balcony Project  Super_area  Carpet_area  \\\n",
       "1154        1         1        2    None         800          650   \n",
       "\n",
       "     Furnished_status  Car_parking Tenants_Preferred  Water_Availability  \\\n",
       "1154      Unfurnished            1              None  24 Hours Available   \n",
       "\n",
       "     Rental_Value  Booking_Amount  Address       Landmarks       Status  \\\n",
       "1154         None           15000      0.0  mahadev temple  Immediately   \n",
       "\n",
       "     Overlooking            Flooring Status_of_Electricity  Lifts  \\\n",
       "1154   Main Road  Vitrified, Granite      No/Rare Powercut      0   \n",
       "\n",
       "     Other_Tenants_Preferred Age_of_Construction   Furnishing  \\\n",
       "1154                    None   Less than 5 years  Unfurnished   \n",
       "\n",
       "              Authority_Approval Type_of_Ownership  Amenities_no  \n",
       "1154  City Municipal Corporation              None             1  "
      ]
     },
     "execution_count": 318,
     "metadata": {},
     "output_type": "execute_result"
    }
   ],
   "source": [
    "data_clean[data_clean.Rental_Value == 'None']"
   ]
  },
  {
   "cell_type": "code",
   "execution_count": 320,
   "metadata": {},
   "outputs": [
    {
     "data": {
      "text/html": [
       "<div>\n",
       "<style scoped>\n",
       "    .dataframe tbody tr th:only-of-type {\n",
       "        vertical-align: middle;\n",
       "    }\n",
       "\n",
       "    .dataframe tbody tr th {\n",
       "        vertical-align: top;\n",
       "    }\n",
       "\n",
       "    .dataframe thead th {\n",
       "        text-align: right;\n",
       "    }\n",
       "</style>\n",
       "<table border=\"1\" class=\"dataframe\">\n",
       "  <thead>\n",
       "    <tr style=\"text-align: right;\">\n",
       "      <th></th>\n",
       "      <th>index</th>\n",
       "      <th>Bedroom</th>\n",
       "      <th>Bathroom</th>\n",
       "      <th>Balcony</th>\n",
       "      <th>Project</th>\n",
       "      <th>Super_area</th>\n",
       "      <th>Carpet_area</th>\n",
       "      <th>Furnished_status</th>\n",
       "      <th>Car_parking</th>\n",
       "      <th>Tenants_Preferred</th>\n",
       "      <th>Water_Availability</th>\n",
       "      <th>Rental_Value</th>\n",
       "      <th>Booking_Amount</th>\n",
       "      <th>Address</th>\n",
       "      <th>Landmarks</th>\n",
       "      <th>Status</th>\n",
       "      <th>Overlooking</th>\n",
       "      <th>Flooring</th>\n",
       "      <th>Status_of_Electricity</th>\n",
       "      <th>Lifts</th>\n",
       "      <th>Other_Tenants_Preferred</th>\n",
       "      <th>Age_of_Construction</th>\n",
       "      <th>Furnishing</th>\n",
       "      <th>Authority_Approval</th>\n",
       "      <th>Type_of_Ownership</th>\n",
       "      <th>Amenities_no</th>\n",
       "    </tr>\n",
       "  </thead>\n",
       "  <tbody>\n",
       "    <tr>\n",
       "      <th>0</th>\n",
       "      <td>0</td>\n",
       "      <td>4</td>\n",
       "      <td>6</td>\n",
       "      <td>2</td>\n",
       "      <td>Eon Waterfront</td>\n",
       "      <td>4088</td>\n",
       "      <td>2505</td>\n",
       "      <td>Furnished</td>\n",
       "      <td>2</td>\n",
       "      <td>None</td>\n",
       "      <td>24 Hours Available</td>\n",
       "      <td>200000.0</td>\n",
       "      <td>200000</td>\n",
       "      <td>5.0</td>\n",
       "      <td>barclays office</td>\n",
       "      <td>Immediately Available</td>\n",
       "      <td>Garden/Park, Pool, Main Road</td>\n",
       "      <td>Granite, Wooden</td>\n",
       "      <td>No/Rare Powercut</td>\n",
       "      <td>3</td>\n",
       "      <td>None</td>\n",
       "      <td>None</td>\n",
       "      <td>Furnished</td>\n",
       "      <td>None</td>\n",
       "      <td>None</td>\n",
       "      <td>14</td>\n",
       "    </tr>\n",
       "    <tr>\n",
       "      <th>1</th>\n",
       "      <td>1</td>\n",
       "      <td>2</td>\n",
       "      <td>2</td>\n",
       "      <td>2</td>\n",
       "      <td>Rohan Abhilasha</td>\n",
       "      <td>1200</td>\n",
       "      <td>956</td>\n",
       "      <td>Unfurnished</td>\n",
       "      <td>1</td>\n",
       "      <td>None</td>\n",
       "      <td>None</td>\n",
       "      <td>13500.0</td>\n",
       "      <td>42000</td>\n",
       "      <td>0.0</td>\n",
       "      <td>lohegaon road</td>\n",
       "      <td>Immediately</td>\n",
       "      <td>Garden/Park</td>\n",
       "      <td>Vitrified, Ceramic Tiles</td>\n",
       "      <td>None</td>\n",
       "      <td>0</td>\n",
       "      <td>None</td>\n",
       "      <td>None</td>\n",
       "      <td>Unfurnished</td>\n",
       "      <td>None</td>\n",
       "      <td>None</td>\n",
       "      <td>20</td>\n",
       "    </tr>\n",
       "    <tr>\n",
       "      <th>2</th>\n",
       "      <td>2</td>\n",
       "      <td>1</td>\n",
       "      <td>2</td>\n",
       "      <td>2</td>\n",
       "      <td>Shree Radhe</td>\n",
       "      <td>710</td>\n",
       "      <td>566</td>\n",
       "      <td>Semi-Furnished</td>\n",
       "      <td>1</td>\n",
       "      <td>Bachelors</td>\n",
       "      <td>24 Hours Available</td>\n",
       "      <td>25000.0</td>\n",
       "      <td>50000</td>\n",
       "      <td>0.0</td>\n",
       "      <td>symbiosis law college</td>\n",
       "      <td>Immediately Available</td>\n",
       "      <td>Garden/Park, Pool, Main Road</td>\n",
       "      <td>Vitrified, Ceramic Tiles</td>\n",
       "      <td>No/Rare Powercut</td>\n",
       "      <td>1</td>\n",
       "      <td>Non-Vegetarians, Without Company Lease, Pets a...</td>\n",
       "      <td>New Construction</td>\n",
       "      <td>Semi-Furnished</td>\n",
       "      <td>City Municipal Corporation</td>\n",
       "      <td>Freehold</td>\n",
       "      <td>16</td>\n",
       "    </tr>\n",
       "    <tr>\n",
       "      <th>3</th>\n",
       "      <td>3</td>\n",
       "      <td>2</td>\n",
       "      <td>2</td>\n",
       "      <td>2</td>\n",
       "      <td>Manjri Green Annexe</td>\n",
       "      <td>1191</td>\n",
       "      <td>780</td>\n",
       "      <td>Unfurnished</td>\n",
       "      <td>1</td>\n",
       "      <td>None</td>\n",
       "      <td>24 Hours Available</td>\n",
       "      <td>12000.0</td>\n",
       "      <td>40000</td>\n",
       "      <td>0.0</td>\n",
       "      <td>the property close vishwaraj hospital</td>\n",
       "      <td>Immediately Available</td>\n",
       "      <td>None</td>\n",
       "      <td>Granite, Vitrified</td>\n",
       "      <td>No/Rare Powercut</td>\n",
       "      <td>2</td>\n",
       "      <td>None</td>\n",
       "      <td>5 to 10 years</td>\n",
       "      <td>Unfurnished</td>\n",
       "      <td>None</td>\n",
       "      <td>None</td>\n",
       "      <td>23</td>\n",
       "    </tr>\n",
       "    <tr>\n",
       "      <th>4</th>\n",
       "      <td>4</td>\n",
       "      <td>2</td>\n",
       "      <td>2</td>\n",
       "      <td>2</td>\n",
       "      <td>Prasun Savoy</td>\n",
       "      <td>1050</td>\n",
       "      <td>950</td>\n",
       "      <td>Unfurnished</td>\n",
       "      <td>1</td>\n",
       "      <td>None</td>\n",
       "      <td>24 Hours Available</td>\n",
       "      <td>15000.0</td>\n",
       "      <td>50000</td>\n",
       "      <td>0.0</td>\n",
       "      <td>None</td>\n",
       "      <td>Immediately Available</td>\n",
       "      <td>Main Road</td>\n",
       "      <td>Vitrified, Ceramic Tiles</td>\n",
       "      <td>No/Rare Powercut</td>\n",
       "      <td>1</td>\n",
       "      <td>None</td>\n",
       "      <td>5 to 10 years</td>\n",
       "      <td>Unfurnished</td>\n",
       "      <td>None</td>\n",
       "      <td>None</td>\n",
       "      <td>49</td>\n",
       "    </tr>\n",
       "    <tr>\n",
       "      <th>...</th>\n",
       "      <td>...</td>\n",
       "      <td>...</td>\n",
       "      <td>...</td>\n",
       "      <td>...</td>\n",
       "      <td>...</td>\n",
       "      <td>...</td>\n",
       "      <td>...</td>\n",
       "      <td>...</td>\n",
       "      <td>...</td>\n",
       "      <td>...</td>\n",
       "      <td>...</td>\n",
       "      <td>...</td>\n",
       "      <td>...</td>\n",
       "      <td>...</td>\n",
       "      <td>...</td>\n",
       "      <td>...</td>\n",
       "      <td>...</td>\n",
       "      <td>...</td>\n",
       "      <td>...</td>\n",
       "      <td>...</td>\n",
       "      <td>...</td>\n",
       "      <td>...</td>\n",
       "      <td>...</td>\n",
       "      <td>...</td>\n",
       "      <td>...</td>\n",
       "      <td>...</td>\n",
       "    </tr>\n",
       "    <tr>\n",
       "      <th>1233</th>\n",
       "      <td>1234</td>\n",
       "      <td>3</td>\n",
       "      <td>3</td>\n",
       "      <td>1</td>\n",
       "      <td>Supreme Palms</td>\n",
       "      <td>1465</td>\n",
       "      <td>1200</td>\n",
       "      <td>Semi-Furnished</td>\n",
       "      <td>1</td>\n",
       "      <td>None</td>\n",
       "      <td>None</td>\n",
       "      <td>38000.0</td>\n",
       "      <td>120000</td>\n",
       "      <td>13.0</td>\n",
       "      <td>None</td>\n",
       "      <td>Immediately</td>\n",
       "      <td>None</td>\n",
       "      <td>None</td>\n",
       "      <td>None</td>\n",
       "      <td>0</td>\n",
       "      <td>None</td>\n",
       "      <td>10 to 15 years</td>\n",
       "      <td>Semi-Furnished</td>\n",
       "      <td>None</td>\n",
       "      <td>None</td>\n",
       "      <td>23</td>\n",
       "    </tr>\n",
       "    <tr>\n",
       "      <th>1234</th>\n",
       "      <td>1235</td>\n",
       "      <td>1</td>\n",
       "      <td>1</td>\n",
       "      <td>1</td>\n",
       "      <td>Karan Pushp</td>\n",
       "      <td>580</td>\n",
       "      <td>580</td>\n",
       "      <td>Unfurnished</td>\n",
       "      <td>1</td>\n",
       "      <td>None</td>\n",
       "      <td>24 Hours Available</td>\n",
       "      <td>12500.0</td>\n",
       "      <td>35000</td>\n",
       "      <td>0.0</td>\n",
       "      <td>warje</td>\n",
       "      <td>Immediately Available</td>\n",
       "      <td>Main Road</td>\n",
       "      <td>Normal Tiles/Kotah Stone</td>\n",
       "      <td>No/Rare Powercut</td>\n",
       "      <td>1</td>\n",
       "      <td>None</td>\n",
       "      <td>5 to 10 years</td>\n",
       "      <td>Unfurnished</td>\n",
       "      <td>None</td>\n",
       "      <td>None</td>\n",
       "      <td>1</td>\n",
       "    </tr>\n",
       "    <tr>\n",
       "      <th>1235</th>\n",
       "      <td>1236</td>\n",
       "      <td>2</td>\n",
       "      <td>2</td>\n",
       "      <td>1</td>\n",
       "      <td>Venkatesh Park CHS Ltd</td>\n",
       "      <td>950</td>\n",
       "      <td>820</td>\n",
       "      <td>Unfurnished</td>\n",
       "      <td>1</td>\n",
       "      <td>None</td>\n",
       "      <td>None</td>\n",
       "      <td>18500.0</td>\n",
       "      <td>90000</td>\n",
       "      <td>0.0</td>\n",
       "      <td>None</td>\n",
       "      <td>Immediately</td>\n",
       "      <td>None</td>\n",
       "      <td>None</td>\n",
       "      <td>None</td>\n",
       "      <td>0</td>\n",
       "      <td>None</td>\n",
       "      <td>None</td>\n",
       "      <td>Unfurnished</td>\n",
       "      <td>None</td>\n",
       "      <td>None</td>\n",
       "      <td>1</td>\n",
       "    </tr>\n",
       "    <tr>\n",
       "      <th>1236</th>\n",
       "      <td>1237</td>\n",
       "      <td>1</td>\n",
       "      <td>1</td>\n",
       "      <td>1</td>\n",
       "      <td>None</td>\n",
       "      <td>550</td>\n",
       "      <td>420</td>\n",
       "      <td>Unfurnished</td>\n",
       "      <td>1</td>\n",
       "      <td>Bachelors</td>\n",
       "      <td>24 Hours Available</td>\n",
       "      <td>13000.0</td>\n",
       "      <td>35000</td>\n",
       "      <td>0.0</td>\n",
       "      <td>mahatma gandhi school</td>\n",
       "      <td>Immediately Available</td>\n",
       "      <td>None</td>\n",
       "      <td>Vitrified</td>\n",
       "      <td>No/Rare Powercut</td>\n",
       "      <td>0</td>\n",
       "      <td>Non-Vegetarians, Pets allowed</td>\n",
       "      <td>5 to 10 years</td>\n",
       "      <td>Unfurnished</td>\n",
       "      <td>City Municipal Corporation</td>\n",
       "      <td>None</td>\n",
       "      <td>1</td>\n",
       "    </tr>\n",
       "    <tr>\n",
       "      <th>1237</th>\n",
       "      <td>1238</td>\n",
       "      <td>1</td>\n",
       "      <td>1</td>\n",
       "      <td>0</td>\n",
       "      <td>Gopinathnagar Housing Society Gandhi Bhavan</td>\n",
       "      <td>629</td>\n",
       "      <td>507</td>\n",
       "      <td>Unfurnished</td>\n",
       "      <td>1</td>\n",
       "      <td>Family</td>\n",
       "      <td>24 Hours Available</td>\n",
       "      <td>12000.0</td>\n",
       "      <td>35000</td>\n",
       "      <td>0.0</td>\n",
       "      <td>kumar parisar</td>\n",
       "      <td>Immediately Available</td>\n",
       "      <td>None</td>\n",
       "      <td>Mosaic</td>\n",
       "      <td>No/Rare Powercut</td>\n",
       "      <td>0</td>\n",
       "      <td>Vegetarians, Pets not allowed</td>\n",
       "      <td>Above 20 years</td>\n",
       "      <td>Unfurnished</td>\n",
       "      <td>None</td>\n",
       "      <td>None</td>\n",
       "      <td>1</td>\n",
       "    </tr>\n",
       "  </tbody>\n",
       "</table>\n",
       "<p>1238 rows × 26 columns</p>\n",
       "</div>"
      ],
      "text/plain": [
       "      index  Bedroom  Bathroom  Balcony  \\\n",
       "0         0        4         6        2   \n",
       "1         1        2         2        2   \n",
       "2         2        1         2        2   \n",
       "3         3        2         2        2   \n",
       "4         4        2         2        2   \n",
       "...     ...      ...       ...      ...   \n",
       "1233   1234        3         3        1   \n",
       "1234   1235        1         1        1   \n",
       "1235   1236        2         2        1   \n",
       "1236   1237        1         1        1   \n",
       "1237   1238        1         1        0   \n",
       "\n",
       "                                          Project  Super_area  Carpet_area  \\\n",
       "0                                  Eon Waterfront        4088         2505   \n",
       "1                                 Rohan Abhilasha        1200          956   \n",
       "2                                     Shree Radhe         710          566   \n",
       "3                             Manjri Green Annexe        1191          780   \n",
       "4                                    Prasun Savoy        1050          950   \n",
       "...                                           ...         ...          ...   \n",
       "1233                                Supreme Palms        1465         1200   \n",
       "1234                                  Karan Pushp         580          580   \n",
       "1235                       Venkatesh Park CHS Ltd         950          820   \n",
       "1236                                         None         550          420   \n",
       "1237  Gopinathnagar Housing Society Gandhi Bhavan         629          507   \n",
       "\n",
       "     Furnished_status  Car_parking Tenants_Preferred  Water_Availability  \\\n",
       "0           Furnished            2              None  24 Hours Available   \n",
       "1         Unfurnished            1              None                None   \n",
       "2      Semi-Furnished            1         Bachelors  24 Hours Available   \n",
       "3         Unfurnished            1              None  24 Hours Available   \n",
       "4         Unfurnished            1              None  24 Hours Available   \n",
       "...               ...          ...               ...                 ...   \n",
       "1233   Semi-Furnished            1              None                None   \n",
       "1234      Unfurnished            1              None  24 Hours Available   \n",
       "1235      Unfurnished            1              None                None   \n",
       "1236      Unfurnished            1         Bachelors  24 Hours Available   \n",
       "1237      Unfurnished            1            Family  24 Hours Available   \n",
       "\n",
       "     Rental_Value  Booking_Amount  Address  \\\n",
       "0        200000.0          200000      5.0   \n",
       "1         13500.0           42000      0.0   \n",
       "2         25000.0           50000      0.0   \n",
       "3         12000.0           40000      0.0   \n",
       "4         15000.0           50000      0.0   \n",
       "...           ...             ...      ...   \n",
       "1233      38000.0          120000     13.0   \n",
       "1234      12500.0           35000      0.0   \n",
       "1235      18500.0           90000      0.0   \n",
       "1236      13000.0           35000      0.0   \n",
       "1237      12000.0           35000      0.0   \n",
       "\n",
       "                                  Landmarks                 Status  \\\n",
       "0                           barclays office  Immediately Available   \n",
       "1                             lohegaon road            Immediately   \n",
       "2                     symbiosis law college  Immediately Available   \n",
       "3     the property close vishwaraj hospital  Immediately Available   \n",
       "4                                      None  Immediately Available   \n",
       "...                                     ...                    ...   \n",
       "1233                                   None            Immediately   \n",
       "1234                                  warje  Immediately Available   \n",
       "1235                                   None            Immediately   \n",
       "1236                  mahatma gandhi school  Immediately Available   \n",
       "1237                          kumar parisar  Immediately Available   \n",
       "\n",
       "                       Overlooking                  Flooring  \\\n",
       "0     Garden/Park, Pool, Main Road           Granite, Wooden   \n",
       "1                      Garden/Park  Vitrified, Ceramic Tiles   \n",
       "2     Garden/Park, Pool, Main Road  Vitrified, Ceramic Tiles   \n",
       "3                             None        Granite, Vitrified   \n",
       "4                        Main Road  Vitrified, Ceramic Tiles   \n",
       "...                            ...                       ...   \n",
       "1233                          None                      None   \n",
       "1234                     Main Road  Normal Tiles/Kotah Stone   \n",
       "1235                          None                      None   \n",
       "1236                          None                 Vitrified   \n",
       "1237                          None                    Mosaic   \n",
       "\n",
       "     Status_of_Electricity  Lifts  \\\n",
       "0         No/Rare Powercut      3   \n",
       "1                     None      0   \n",
       "2         No/Rare Powercut      1   \n",
       "3         No/Rare Powercut      2   \n",
       "4         No/Rare Powercut      1   \n",
       "...                    ...    ...   \n",
       "1233                  None      0   \n",
       "1234      No/Rare Powercut      1   \n",
       "1235                  None      0   \n",
       "1236      No/Rare Powercut      0   \n",
       "1237      No/Rare Powercut      0   \n",
       "\n",
       "                                Other_Tenants_Preferred Age_of_Construction  \\\n",
       "0                                                  None                None   \n",
       "1                                                  None                None   \n",
       "2     Non-Vegetarians, Without Company Lease, Pets a...    New Construction   \n",
       "3                                                  None       5 to 10 years   \n",
       "4                                                  None       5 to 10 years   \n",
       "...                                                 ...                 ...   \n",
       "1233                                               None      10 to 15 years   \n",
       "1234                                               None       5 to 10 years   \n",
       "1235                                               None                None   \n",
       "1236                      Non-Vegetarians, Pets allowed       5 to 10 years   \n",
       "1237                      Vegetarians, Pets not allowed      Above 20 years   \n",
       "\n",
       "          Furnishing          Authority_Approval Type_of_Ownership  \\\n",
       "0          Furnished                        None              None   \n",
       "1        Unfurnished                        None              None   \n",
       "2     Semi-Furnished  City Municipal Corporation          Freehold   \n",
       "3        Unfurnished                        None              None   \n",
       "4        Unfurnished                        None              None   \n",
       "...              ...                         ...               ...   \n",
       "1233  Semi-Furnished                        None              None   \n",
       "1234     Unfurnished                        None              None   \n",
       "1235     Unfurnished                        None              None   \n",
       "1236     Unfurnished  City Municipal Corporation              None   \n",
       "1237     Unfurnished                        None              None   \n",
       "\n",
       "      Amenities_no  \n",
       "0               14  \n",
       "1               20  \n",
       "2               16  \n",
       "3               23  \n",
       "4               49  \n",
       "...            ...  \n",
       "1233            23  \n",
       "1234             1  \n",
       "1235             1  \n",
       "1236             1  \n",
       "1237             1  \n",
       "\n",
       "[1238 rows x 26 columns]"
      ]
     },
     "execution_count": 320,
     "metadata": {},
     "output_type": "execute_result"
    }
   ],
   "source": [
    "data_clean = data_clean.drop(1154)\n",
    "data_clean.reset_index()"
   ]
  },
  {
   "cell_type": "code",
   "execution_count": 321,
   "metadata": {},
   "outputs": [
    {
     "data": {
      "text/plain": [
       "0       200000.0\n",
       "1        13500.0\n",
       "2        25000.0\n",
       "3        12000.0\n",
       "4        15000.0\n",
       "          ...   \n",
       "1234     38000.0\n",
       "1235     12500.0\n",
       "1236     18500.0\n",
       "1237     13000.0\n",
       "1238     12000.0\n",
       "Name: Rental_Value, Length: 1238, dtype: float64"
      ]
     },
     "execution_count": 321,
     "metadata": {},
     "output_type": "execute_result"
    }
   ],
   "source": [
    "data_clean.Rental_Value.astype('float')"
   ]
  },
  {
   "cell_type": "code",
   "execution_count": 322,
   "metadata": {},
   "outputs": [],
   "source": [
    "data_clean.to_csv('data_clean_1.csv',index=False)"
   ]
  },
  {
   "cell_type": "markdown",
   "metadata": {},
   "source": [
    "## Cleaned Data Loading"
   ]
  },
  {
   "cell_type": "code",
   "execution_count": 323,
   "metadata": {},
   "outputs": [],
   "source": [
    "data_clean=pd.read_csv('data_clean_1.csv')"
   ]
  },
  {
   "cell_type": "code",
   "execution_count": 324,
   "metadata": {},
   "outputs": [],
   "source": [
    "cat_col=list(data_clean.dtypes[data_clean.dtypes=='O'].index)"
   ]
  },
  {
   "cell_type": "code",
   "execution_count": 325,
   "metadata": {},
   "outputs": [],
   "source": [
    "num_col=list(data_clean.dtypes[data_clean.dtypes!='O'].index)"
   ]
  },
  {
   "cell_type": "code",
   "execution_count": 326,
   "metadata": {},
   "outputs": [
    {
     "data": {
      "text/plain": [
       "Project                    638\n",
       "Furnished_status             3\n",
       "Tenants_Preferred            3\n",
       "Water_Availability           3\n",
       "Landmarks                  815\n",
       "Status                       3\n",
       "Overlooking                 14\n",
       "Flooring                    92\n",
       "Status_of_Electricity        5\n",
       "Other_Tenants_Preferred     19\n",
       "Age_of_Construction          7\n",
       "Furnishing                   3\n",
       "Authority_Approval           4\n",
       "Type_of_Ownership            4\n",
       "dtype: int64"
      ]
     },
     "execution_count": 326,
     "metadata": {},
     "output_type": "execute_result"
    }
   ],
   "source": [
    "data_clean[cat_col].nunique()"
   ]
  },
  {
   "cell_type": "code",
   "execution_count": 327,
   "metadata": {},
   "outputs": [
    {
     "data": {
      "text/plain": [
       "['Project',\n",
       " 'Furnished_status',\n",
       " 'Tenants_Preferred',\n",
       " 'Water_Availability',\n",
       " 'Landmarks',\n",
       " 'Status',\n",
       " 'Overlooking',\n",
       " 'Flooring',\n",
       " 'Status_of_Electricity',\n",
       " 'Other_Tenants_Preferred',\n",
       " 'Age_of_Construction',\n",
       " 'Furnishing',\n",
       " 'Authority_Approval',\n",
       " 'Type_of_Ownership']"
      ]
     },
     "execution_count": 327,
     "metadata": {},
     "output_type": "execute_result"
    }
   ],
   "source": [
    "cat_col"
   ]
  },
  {
   "cell_type": "code",
   "execution_count": 328,
   "metadata": {},
   "outputs": [],
   "source": [
    "cat_col_dum=[\n",
    " 'Furnished_status',\n",
    " 'Tenants_Preferred',\n",
    " 'Water_Availability',\n",
    " \n",
    " 'Status',\n",
    " 'Overlooking',\n",
    " \n",
    " 'Status_of_Electricity',\n",
    " \n",
    " 'Age_of_Construction',\n",
    " 'Furnishing',\n",
    " 'Authority_Approval',\n",
    " 'Type_of_Ownership']"
   ]
  },
  {
   "cell_type": "code",
   "execution_count": 329,
   "metadata": {},
   "outputs": [
    {
     "data": {
      "text/plain": [
       "['Bedroom',\n",
       " 'Bathroom',\n",
       " 'Balcony',\n",
       " 'Super_area',\n",
       " 'Carpet_area',\n",
       " 'Car_parking',\n",
       " 'Rental_Value',\n",
       " 'Booking_Amount',\n",
       " 'Address',\n",
       " 'Lifts',\n",
       " 'Amenities_no']"
      ]
     },
     "execution_count": 329,
     "metadata": {},
     "output_type": "execute_result"
    }
   ],
   "source": [
    "num_col"
   ]
  },
  {
   "cell_type": "code",
   "execution_count": 330,
   "metadata": {},
   "outputs": [],
   "source": [
    "IQR = data_clean['Rental_Value'].quantile(0.75) - data_clean['Rental_Value'].quantile(0.25)\n",
    "lower_limit = data_clean['Rental_Value'].quantile(0.25) - (IQR * 1.5)\n",
    "upper_limit = data_clean['Rental_Value'].quantile(0.75) + (IQR * 1.5)"
   ]
  },
  {
   "cell_type": "code",
   "execution_count": 331,
   "metadata": {},
   "outputs": [],
   "source": [
    "outliers_df = np.where(data_clean['Rental_Value'] > upper_limit, True, np.where(data_clean['Rental_Value'] < lower_limit, True, False))\n",
    "df_trimmed = data_clean.loc[~(outliers_df), ]\n",
    "data_clean.shape, df_trimmed.shape\n",
    "\n",
    "data_clean=df_trimmed"
   ]
  },
  {
   "cell_type": "code",
   "execution_count": 332,
   "metadata": {},
   "outputs": [],
   "source": [
    "# from feature_engine.outliers import Winsorizer\n",
    "# windsoriser = Winsorizer(capping_method='iqr', # choose  IQR rule boundaries or gaussian for mean and std\n",
    "#                           tail='both', # cap left, right or both tails \n",
    "#                           fold=1.5,\n",
    "#                           variables=['MaxTemp'])\n",
    "# data_clean[num_col] = windsoriser.fit_transform(df[num_col])\n",
    "# sns.boxplot(df.MaxTemp)\n",
    "# plt.title('Boxplot')\n",
    "# plt.show()\n"
   ]
  },
  {
   "cell_type": "code",
   "execution_count": 333,
   "metadata": {},
   "outputs": [],
   "source": [
    "from sklearn import preprocessing"
   ]
  },
  {
   "cell_type": "code",
   "execution_count": 334,
   "metadata": {},
   "outputs": [
    {
     "data": {
      "text/html": [
       "<div>\n",
       "<style scoped>\n",
       "    .dataframe tbody tr th:only-of-type {\n",
       "        vertical-align: middle;\n",
       "    }\n",
       "\n",
       "    .dataframe tbody tr th {\n",
       "        vertical-align: top;\n",
       "    }\n",
       "\n",
       "    .dataframe thead th {\n",
       "        text-align: right;\n",
       "    }\n",
       "</style>\n",
       "<table border=\"1\" class=\"dataframe\">\n",
       "  <thead>\n",
       "    <tr style=\"text-align: right;\">\n",
       "      <th></th>\n",
       "      <th>Project</th>\n",
       "      <th>Furnished_status</th>\n",
       "      <th>Tenants_Preferred</th>\n",
       "      <th>Water_Availability</th>\n",
       "      <th>Landmarks</th>\n",
       "      <th>Status</th>\n",
       "      <th>Overlooking</th>\n",
       "      <th>Flooring</th>\n",
       "      <th>Status_of_Electricity</th>\n",
       "      <th>Other_Tenants_Preferred</th>\n",
       "      <th>Age_of_Construction</th>\n",
       "      <th>Furnishing</th>\n",
       "      <th>Authority_Approval</th>\n",
       "      <th>Type_of_Ownership</th>\n",
       "    </tr>\n",
       "  </thead>\n",
       "  <tbody>\n",
       "    <tr>\n",
       "      <th>1</th>\n",
       "      <td>Rohan Abhilasha</td>\n",
       "      <td>Unfurnished</td>\n",
       "      <td>None</td>\n",
       "      <td>None</td>\n",
       "      <td>lohegaon road</td>\n",
       "      <td>Immediately</td>\n",
       "      <td>Garden/Park</td>\n",
       "      <td>Vitrified, Ceramic Tiles</td>\n",
       "      <td>None</td>\n",
       "      <td>None</td>\n",
       "      <td>None</td>\n",
       "      <td>Unfurnished</td>\n",
       "      <td>None</td>\n",
       "      <td>None</td>\n",
       "    </tr>\n",
       "    <tr>\n",
       "      <th>2</th>\n",
       "      <td>Shree Radhe</td>\n",
       "      <td>Semi-Furnished</td>\n",
       "      <td>Bachelors</td>\n",
       "      <td>24 Hours Available</td>\n",
       "      <td>symbiosis law college</td>\n",
       "      <td>Immediately Available</td>\n",
       "      <td>Garden/Park, Pool, Main Road</td>\n",
       "      <td>Vitrified, Ceramic Tiles</td>\n",
       "      <td>No/Rare Powercut</td>\n",
       "      <td>Non-Vegetarians, Without Company Lease, Pets a...</td>\n",
       "      <td>New Construction</td>\n",
       "      <td>Semi-Furnished</td>\n",
       "      <td>City Municipal Corporation</td>\n",
       "      <td>Freehold</td>\n",
       "    </tr>\n",
       "    <tr>\n",
       "      <th>3</th>\n",
       "      <td>Manjri Green Annexe</td>\n",
       "      <td>Unfurnished</td>\n",
       "      <td>None</td>\n",
       "      <td>24 Hours Available</td>\n",
       "      <td>the property close vishwaraj hospital</td>\n",
       "      <td>Immediately Available</td>\n",
       "      <td>None</td>\n",
       "      <td>Granite, Vitrified</td>\n",
       "      <td>No/Rare Powercut</td>\n",
       "      <td>None</td>\n",
       "      <td>5 to 10 years</td>\n",
       "      <td>Unfurnished</td>\n",
       "      <td>None</td>\n",
       "      <td>None</td>\n",
       "    </tr>\n",
       "    <tr>\n",
       "      <th>4</th>\n",
       "      <td>Prasun Savoy</td>\n",
       "      <td>Unfurnished</td>\n",
       "      <td>None</td>\n",
       "      <td>24 Hours Available</td>\n",
       "      <td>None</td>\n",
       "      <td>Immediately Available</td>\n",
       "      <td>Main Road</td>\n",
       "      <td>Vitrified, Ceramic Tiles</td>\n",
       "      <td>No/Rare Powercut</td>\n",
       "      <td>None</td>\n",
       "      <td>5 to 10 years</td>\n",
       "      <td>Unfurnished</td>\n",
       "      <td>None</td>\n",
       "      <td>None</td>\n",
       "    </tr>\n",
       "    <tr>\n",
       "      <th>5</th>\n",
       "      <td>Sun Planet</td>\n",
       "      <td>Semi-Furnished</td>\n",
       "      <td>Family</td>\n",
       "      <td>24 Hours Available</td>\n",
       "      <td>suncity</td>\n",
       "      <td>Immediately Available</td>\n",
       "      <td>Garden/Park, Main Road</td>\n",
       "      <td>Vitrified</td>\n",
       "      <td>No/Rare Powercut</td>\n",
       "      <td>None</td>\n",
       "      <td>Less than 5 years</td>\n",
       "      <td>Semi-Furnished</td>\n",
       "      <td>None</td>\n",
       "      <td>None</td>\n",
       "    </tr>\n",
       "    <tr>\n",
       "      <th>...</th>\n",
       "      <td>...</td>\n",
       "      <td>...</td>\n",
       "      <td>...</td>\n",
       "      <td>...</td>\n",
       "      <td>...</td>\n",
       "      <td>...</td>\n",
       "      <td>...</td>\n",
       "      <td>...</td>\n",
       "      <td>...</td>\n",
       "      <td>...</td>\n",
       "      <td>...</td>\n",
       "      <td>...</td>\n",
       "      <td>...</td>\n",
       "      <td>...</td>\n",
       "    </tr>\n",
       "    <tr>\n",
       "      <th>1233</th>\n",
       "      <td>Supreme Palms</td>\n",
       "      <td>Semi-Furnished</td>\n",
       "      <td>None</td>\n",
       "      <td>None</td>\n",
       "      <td>None</td>\n",
       "      <td>Immediately</td>\n",
       "      <td>None</td>\n",
       "      <td>None</td>\n",
       "      <td>None</td>\n",
       "      <td>None</td>\n",
       "      <td>10 to 15 years</td>\n",
       "      <td>Semi-Furnished</td>\n",
       "      <td>None</td>\n",
       "      <td>None</td>\n",
       "    </tr>\n",
       "    <tr>\n",
       "      <th>1234</th>\n",
       "      <td>Karan Pushp</td>\n",
       "      <td>Unfurnished</td>\n",
       "      <td>None</td>\n",
       "      <td>24 Hours Available</td>\n",
       "      <td>warje</td>\n",
       "      <td>Immediately Available</td>\n",
       "      <td>Main Road</td>\n",
       "      <td>Normal Tiles/Kotah Stone</td>\n",
       "      <td>No/Rare Powercut</td>\n",
       "      <td>None</td>\n",
       "      <td>5 to 10 years</td>\n",
       "      <td>Unfurnished</td>\n",
       "      <td>None</td>\n",
       "      <td>None</td>\n",
       "    </tr>\n",
       "    <tr>\n",
       "      <th>1235</th>\n",
       "      <td>Venkatesh Park CHS Ltd</td>\n",
       "      <td>Unfurnished</td>\n",
       "      <td>None</td>\n",
       "      <td>None</td>\n",
       "      <td>None</td>\n",
       "      <td>Immediately</td>\n",
       "      <td>None</td>\n",
       "      <td>None</td>\n",
       "      <td>None</td>\n",
       "      <td>None</td>\n",
       "      <td>None</td>\n",
       "      <td>Unfurnished</td>\n",
       "      <td>None</td>\n",
       "      <td>None</td>\n",
       "    </tr>\n",
       "    <tr>\n",
       "      <th>1236</th>\n",
       "      <td>None</td>\n",
       "      <td>Unfurnished</td>\n",
       "      <td>Bachelors</td>\n",
       "      <td>24 Hours Available</td>\n",
       "      <td>mahatma gandhi school</td>\n",
       "      <td>Immediately Available</td>\n",
       "      <td>None</td>\n",
       "      <td>Vitrified</td>\n",
       "      <td>No/Rare Powercut</td>\n",
       "      <td>Non-Vegetarians, Pets allowed</td>\n",
       "      <td>5 to 10 years</td>\n",
       "      <td>Unfurnished</td>\n",
       "      <td>City Municipal Corporation</td>\n",
       "      <td>None</td>\n",
       "    </tr>\n",
       "    <tr>\n",
       "      <th>1237</th>\n",
       "      <td>Gopinathnagar Housing Society Gandhi Bhavan</td>\n",
       "      <td>Unfurnished</td>\n",
       "      <td>Family</td>\n",
       "      <td>24 Hours Available</td>\n",
       "      <td>kumar parisar</td>\n",
       "      <td>Immediately Available</td>\n",
       "      <td>None</td>\n",
       "      <td>Mosaic</td>\n",
       "      <td>No/Rare Powercut</td>\n",
       "      <td>Vegetarians, Pets not allowed</td>\n",
       "      <td>Above 20 years</td>\n",
       "      <td>Unfurnished</td>\n",
       "      <td>None</td>\n",
       "      <td>None</td>\n",
       "    </tr>\n",
       "  </tbody>\n",
       "</table>\n",
       "<p>1113 rows × 14 columns</p>\n",
       "</div>"
      ],
      "text/plain": [
       "                                          Project Furnished_status  \\\n",
       "1                                 Rohan Abhilasha      Unfurnished   \n",
       "2                                     Shree Radhe   Semi-Furnished   \n",
       "3                             Manjri Green Annexe      Unfurnished   \n",
       "4                                    Prasun Savoy      Unfurnished   \n",
       "5                                      Sun Planet   Semi-Furnished   \n",
       "...                                           ...              ...   \n",
       "1233                                Supreme Palms   Semi-Furnished   \n",
       "1234                                  Karan Pushp      Unfurnished   \n",
       "1235                       Venkatesh Park CHS Ltd      Unfurnished   \n",
       "1236                                         None      Unfurnished   \n",
       "1237  Gopinathnagar Housing Society Gandhi Bhavan      Unfurnished   \n",
       "\n",
       "     Tenants_Preferred  Water_Availability  \\\n",
       "1                 None                None   \n",
       "2            Bachelors  24 Hours Available   \n",
       "3                 None  24 Hours Available   \n",
       "4                 None  24 Hours Available   \n",
       "5               Family  24 Hours Available   \n",
       "...                ...                 ...   \n",
       "1233              None                None   \n",
       "1234              None  24 Hours Available   \n",
       "1235              None                None   \n",
       "1236         Bachelors  24 Hours Available   \n",
       "1237            Family  24 Hours Available   \n",
       "\n",
       "                                  Landmarks                 Status  \\\n",
       "1                             lohegaon road            Immediately   \n",
       "2                     symbiosis law college  Immediately Available   \n",
       "3     the property close vishwaraj hospital  Immediately Available   \n",
       "4                                      None  Immediately Available   \n",
       "5                                   suncity  Immediately Available   \n",
       "...                                     ...                    ...   \n",
       "1233                                   None            Immediately   \n",
       "1234                                  warje  Immediately Available   \n",
       "1235                                   None            Immediately   \n",
       "1236                  mahatma gandhi school  Immediately Available   \n",
       "1237                          kumar parisar  Immediately Available   \n",
       "\n",
       "                       Overlooking                  Flooring  \\\n",
       "1                      Garden/Park  Vitrified, Ceramic Tiles   \n",
       "2     Garden/Park, Pool, Main Road  Vitrified, Ceramic Tiles   \n",
       "3                             None        Granite, Vitrified   \n",
       "4                        Main Road  Vitrified, Ceramic Tiles   \n",
       "5           Garden/Park, Main Road                 Vitrified   \n",
       "...                            ...                       ...   \n",
       "1233                          None                      None   \n",
       "1234                     Main Road  Normal Tiles/Kotah Stone   \n",
       "1235                          None                      None   \n",
       "1236                          None                 Vitrified   \n",
       "1237                          None                    Mosaic   \n",
       "\n",
       "     Status_of_Electricity                            Other_Tenants_Preferred  \\\n",
       "1                     None                                               None   \n",
       "2         No/Rare Powercut  Non-Vegetarians, Without Company Lease, Pets a...   \n",
       "3         No/Rare Powercut                                               None   \n",
       "4         No/Rare Powercut                                               None   \n",
       "5         No/Rare Powercut                                               None   \n",
       "...                    ...                                                ...   \n",
       "1233                  None                                               None   \n",
       "1234      No/Rare Powercut                                               None   \n",
       "1235                  None                                               None   \n",
       "1236      No/Rare Powercut                      Non-Vegetarians, Pets allowed   \n",
       "1237      No/Rare Powercut                      Vegetarians, Pets not allowed   \n",
       "\n",
       "     Age_of_Construction      Furnishing          Authority_Approval  \\\n",
       "1                   None     Unfurnished                        None   \n",
       "2       New Construction  Semi-Furnished  City Municipal Corporation   \n",
       "3          5 to 10 years     Unfurnished                        None   \n",
       "4          5 to 10 years     Unfurnished                        None   \n",
       "5      Less than 5 years  Semi-Furnished                        None   \n",
       "...                  ...             ...                         ...   \n",
       "1233      10 to 15 years  Semi-Furnished                        None   \n",
       "1234       5 to 10 years     Unfurnished                        None   \n",
       "1235                None     Unfurnished                        None   \n",
       "1236       5 to 10 years     Unfurnished  City Municipal Corporation   \n",
       "1237      Above 20 years     Unfurnished                        None   \n",
       "\n",
       "     Type_of_Ownership  \n",
       "1                 None  \n",
       "2             Freehold  \n",
       "3                 None  \n",
       "4                 None  \n",
       "5                 None  \n",
       "...                ...  \n",
       "1233              None  \n",
       "1234              None  \n",
       "1235              None  \n",
       "1236              None  \n",
       "1237              None  \n",
       "\n",
       "[1113 rows x 14 columns]"
      ]
     },
     "execution_count": 334,
     "metadata": {},
     "output_type": "execute_result"
    }
   ],
   "source": [
    "data_clean[cat_col]"
   ]
  },
  {
   "cell_type": "code",
   "execution_count": 335,
   "metadata": {},
   "outputs": [
    {
     "data": {
      "text/plain": [
       "{'Unfurnished': 0, 'Semi-Furnished': 1, 'Furnished': 2}"
      ]
     },
     "execution_count": 335,
     "metadata": {},
     "output_type": "execute_result"
    }
   ],
   "source": [
    "dict(zip(list(data_clean['Furnished_status'].value_counts().index),[0,1,2]))"
   ]
  },
  {
   "cell_type": "code",
   "execution_count": 336,
   "metadata": {},
   "outputs": [],
   "source": [
    "data_clean['Furnished_status']=data_clean['Furnished_status'].map(dict(zip(list(data_clean['Furnished_status'].value_counts().index),[0,1,2])))"
   ]
  },
  {
   "cell_type": "code",
   "execution_count": null,
   "metadata": {},
   "outputs": [],
   "source": []
  },
  {
   "cell_type": "code",
   "execution_count": 337,
   "metadata": {},
   "outputs": [],
   "source": [
    "furnished_map=dict(zip(list(data_clean['Furnished_status'].value_counts().index),[0,1,2]))"
   ]
  },
  {
   "cell_type": "code",
   "execution_count": 338,
   "metadata": {},
   "outputs": [
    {
     "data": {
      "text/plain": [
       "{0: 0, 1: 1, 2: 2}"
      ]
     },
     "execution_count": 338,
     "metadata": {},
     "output_type": "execute_result"
    }
   ],
   "source": [
    "furnished_map"
   ]
  },
  {
   "cell_type": "code",
   "execution_count": 339,
   "metadata": {},
   "outputs": [],
   "source": [
    "data_clean.drop('Furnishing',axis=1,inplace=True)"
   ]
  },
  {
   "cell_type": "code",
   "execution_count": 340,
   "metadata": {},
   "outputs": [
    {
     "data": {
      "text/plain": [
       "array(['None', 'New Construction', '5 to 10 years', 'Less than 5 years',\n",
       "       '15 to 20 years', '10 to 15 years', 'Above 20 years'], dtype=object)"
      ]
     },
     "execution_count": 340,
     "metadata": {},
     "output_type": "execute_result"
    }
   ],
   "source": [
    "data_clean['Age_of_Construction'].unique()"
   ]
  },
  {
   "cell_type": "code",
   "execution_count": 341,
   "metadata": {},
   "outputs": [],
   "source": [
    "age_map=dict(zip(['None','Above 20 years','15 to 20 years','10 to 15 years','5 to 10 years','Less than 5 years', 'New Construction'],[0,1,2,3,4,5,6]))"
   ]
  },
  {
   "cell_type": "code",
   "execution_count": 342,
   "metadata": {},
   "outputs": [
    {
     "data": {
      "text/plain": [
       "{'None': 0,\n",
       " 'Above 20 years': 1,\n",
       " '15 to 20 years': 2,\n",
       " '10 to 15 years': 3,\n",
       " '5 to 10 years': 4,\n",
       " 'Less than 5 years': 5,\n",
       " 'New Construction': 6}"
      ]
     },
     "execution_count": 342,
     "metadata": {},
     "output_type": "execute_result"
    }
   ],
   "source": [
    "age_map"
   ]
  },
  {
   "cell_type": "code",
   "execution_count": 343,
   "metadata": {},
   "outputs": [],
   "source": [
    "data_clean['Age_of_Construction']=data_clean['Age_of_Construction'].map(age_map)"
   ]
  },
  {
   "cell_type": "code",
   "execution_count": 344,
   "metadata": {},
   "outputs": [
    {
     "data": {
      "text/plain": [
       "array(['None', 'No/Rare Powercut', 'Over 6 Hours Powercut',\n",
       "       '2 To 4 Hours Powercut'], dtype=object)"
      ]
     },
     "execution_count": 344,
     "metadata": {},
     "output_type": "execute_result"
    }
   ],
   "source": [
    "data_clean['Status_of_Electricity'].unique()"
   ]
  },
  {
   "cell_type": "code",
   "execution_count": 345,
   "metadata": {},
   "outputs": [],
   "source": [
    "power_map=dict(zip(['Over 6 Hours Powercut','2 To 4 Hours Powercut','None', 'No/Rare Powercut'],[0,1,2,3]))"
   ]
  },
  {
   "cell_type": "code",
   "execution_count": 346,
   "metadata": {},
   "outputs": [
    {
     "data": {
      "text/plain": [
       "{'Over 6 Hours Powercut': 0,\n",
       " '2 To 4 Hours Powercut': 1,\n",
       " 'None': 2,\n",
       " 'No/Rare Powercut': 3}"
      ]
     },
     "execution_count": 346,
     "metadata": {},
     "output_type": "execute_result"
    }
   ],
   "source": [
    "power_map"
   ]
  },
  {
   "cell_type": "code",
   "execution_count": 347,
   "metadata": {},
   "outputs": [],
   "source": [
    "data_clean['Status_of_Electricity']=data_clean['Status_of_Electricity'].map(power_map)"
   ]
  },
  {
   "cell_type": "code",
   "execution_count": 348,
   "metadata": {},
   "outputs": [
    {
     "data": {
      "text/plain": [
       "array(['None', '24 Hours Available', '12 Hours Available'], dtype=object)"
      ]
     },
     "execution_count": 348,
     "metadata": {},
     "output_type": "execute_result"
    }
   ],
   "source": [
    "data_clean.Water_Availability.unique()"
   ]
  },
  {
   "cell_type": "code",
   "execution_count": 349,
   "metadata": {},
   "outputs": [],
   "source": [
    "water_map=dict(zip(['12 Hours Available','None', '24 Hours Available'],[0,1,2]))"
   ]
  },
  {
   "cell_type": "code",
   "execution_count": 350,
   "metadata": {},
   "outputs": [
    {
     "data": {
      "text/plain": [
       "{'12 Hours Available': 0, 'None': 1, '24 Hours Available': 2}"
      ]
     },
     "execution_count": 350,
     "metadata": {},
     "output_type": "execute_result"
    }
   ],
   "source": [
    "water_map"
   ]
  },
  {
   "cell_type": "code",
   "execution_count": 351,
   "metadata": {},
   "outputs": [],
   "source": [
    "data_clean.Water_Availability=data_clean.Water_Availability.map(water_map)"
   ]
  },
  {
   "cell_type": "code",
   "execution_count": 352,
   "metadata": {},
   "outputs": [],
   "source": [
    "cat_col=list(data_clean.dtypes[data_clean.dtypes=='O'].index)"
   ]
  },
  {
   "cell_type": "code",
   "execution_count": 353,
   "metadata": {},
   "outputs": [
    {
     "data": {
      "text/plain": [
       "['Project',\n",
       " 'Tenants_Preferred',\n",
       " 'Landmarks',\n",
       " 'Status',\n",
       " 'Overlooking',\n",
       " 'Flooring',\n",
       " 'Other_Tenants_Preferred',\n",
       " 'Authority_Approval',\n",
       " 'Type_of_Ownership']"
      ]
     },
     "execution_count": 353,
     "metadata": {},
     "output_type": "execute_result"
    }
   ],
   "source": [
    "cat_col"
   ]
  },
  {
   "cell_type": "code",
   "execution_count": 354,
   "metadata": {},
   "outputs": [],
   "source": [
    "# data_clean=pd.get_dummies(data_clean, columns=cat_col_dum)"
   ]
  },
  {
   "cell_type": "code",
   "execution_count": 355,
   "metadata": {},
   "outputs": [],
   "source": [
    "#Label Encoding"
   ]
  },
  {
   "cell_type": "code",
   "execution_count": 356,
   "metadata": {},
   "outputs": [
    {
     "data": {
      "text/html": [
       "<div>\n",
       "<style scoped>\n",
       "    .dataframe tbody tr th:only-of-type {\n",
       "        vertical-align: middle;\n",
       "    }\n",
       "\n",
       "    .dataframe tbody tr th {\n",
       "        vertical-align: top;\n",
       "    }\n",
       "\n",
       "    .dataframe thead th {\n",
       "        text-align: right;\n",
       "    }\n",
       "</style>\n",
       "<table border=\"1\" class=\"dataframe\">\n",
       "  <thead>\n",
       "    <tr style=\"text-align: right;\">\n",
       "      <th></th>\n",
       "      <th>Bedroom</th>\n",
       "      <th>Bathroom</th>\n",
       "      <th>Balcony</th>\n",
       "      <th>Project</th>\n",
       "      <th>Super_area</th>\n",
       "      <th>Carpet_area</th>\n",
       "      <th>Furnished_status</th>\n",
       "      <th>Car_parking</th>\n",
       "      <th>Tenants_Preferred</th>\n",
       "      <th>Water_Availability</th>\n",
       "      <th>Rental_Value</th>\n",
       "      <th>Booking_Amount</th>\n",
       "      <th>Address</th>\n",
       "      <th>Landmarks</th>\n",
       "      <th>Status</th>\n",
       "      <th>Overlooking</th>\n",
       "      <th>Flooring</th>\n",
       "      <th>Status_of_Electricity</th>\n",
       "      <th>Lifts</th>\n",
       "      <th>Other_Tenants_Preferred</th>\n",
       "      <th>Age_of_Construction</th>\n",
       "      <th>Authority_Approval</th>\n",
       "      <th>Type_of_Ownership</th>\n",
       "      <th>Amenities_no</th>\n",
       "    </tr>\n",
       "  </thead>\n",
       "  <tbody>\n",
       "    <tr>\n",
       "      <th>1</th>\n",
       "      <td>2</td>\n",
       "      <td>2</td>\n",
       "      <td>2</td>\n",
       "      <td>Rohan Abhilasha</td>\n",
       "      <td>1200</td>\n",
       "      <td>956</td>\n",
       "      <td>0</td>\n",
       "      <td>1</td>\n",
       "      <td>None</td>\n",
       "      <td>1</td>\n",
       "      <td>13500.0</td>\n",
       "      <td>42000</td>\n",
       "      <td>0.0</td>\n",
       "      <td>lohegaon road</td>\n",
       "      <td>Immediately</td>\n",
       "      <td>Garden/Park</td>\n",
       "      <td>Vitrified, Ceramic Tiles</td>\n",
       "      <td>2</td>\n",
       "      <td>0</td>\n",
       "      <td>None</td>\n",
       "      <td>0</td>\n",
       "      <td>None</td>\n",
       "      <td>None</td>\n",
       "      <td>20</td>\n",
       "    </tr>\n",
       "    <tr>\n",
       "      <th>2</th>\n",
       "      <td>1</td>\n",
       "      <td>2</td>\n",
       "      <td>2</td>\n",
       "      <td>Shree Radhe</td>\n",
       "      <td>710</td>\n",
       "      <td>566</td>\n",
       "      <td>1</td>\n",
       "      <td>1</td>\n",
       "      <td>Bachelors</td>\n",
       "      <td>2</td>\n",
       "      <td>25000.0</td>\n",
       "      <td>50000</td>\n",
       "      <td>0.0</td>\n",
       "      <td>symbiosis law college</td>\n",
       "      <td>Immediately Available</td>\n",
       "      <td>Garden/Park, Pool, Main Road</td>\n",
       "      <td>Vitrified, Ceramic Tiles</td>\n",
       "      <td>3</td>\n",
       "      <td>1</td>\n",
       "      <td>Non-Vegetarians, Without Company Lease, Pets a...</td>\n",
       "      <td>6</td>\n",
       "      <td>City Municipal Corporation</td>\n",
       "      <td>Freehold</td>\n",
       "      <td>16</td>\n",
       "    </tr>\n",
       "    <tr>\n",
       "      <th>3</th>\n",
       "      <td>2</td>\n",
       "      <td>2</td>\n",
       "      <td>2</td>\n",
       "      <td>Manjri Green Annexe</td>\n",
       "      <td>1191</td>\n",
       "      <td>780</td>\n",
       "      <td>0</td>\n",
       "      <td>1</td>\n",
       "      <td>None</td>\n",
       "      <td>2</td>\n",
       "      <td>12000.0</td>\n",
       "      <td>40000</td>\n",
       "      <td>0.0</td>\n",
       "      <td>the property close vishwaraj hospital</td>\n",
       "      <td>Immediately Available</td>\n",
       "      <td>None</td>\n",
       "      <td>Granite, Vitrified</td>\n",
       "      <td>3</td>\n",
       "      <td>2</td>\n",
       "      <td>None</td>\n",
       "      <td>4</td>\n",
       "      <td>None</td>\n",
       "      <td>None</td>\n",
       "      <td>23</td>\n",
       "    </tr>\n",
       "    <tr>\n",
       "      <th>4</th>\n",
       "      <td>2</td>\n",
       "      <td>2</td>\n",
       "      <td>2</td>\n",
       "      <td>Prasun Savoy</td>\n",
       "      <td>1050</td>\n",
       "      <td>950</td>\n",
       "      <td>0</td>\n",
       "      <td>1</td>\n",
       "      <td>None</td>\n",
       "      <td>2</td>\n",
       "      <td>15000.0</td>\n",
       "      <td>50000</td>\n",
       "      <td>0.0</td>\n",
       "      <td>None</td>\n",
       "      <td>Immediately Available</td>\n",
       "      <td>Main Road</td>\n",
       "      <td>Vitrified, Ceramic Tiles</td>\n",
       "      <td>3</td>\n",
       "      <td>1</td>\n",
       "      <td>None</td>\n",
       "      <td>4</td>\n",
       "      <td>None</td>\n",
       "      <td>None</td>\n",
       "      <td>49</td>\n",
       "    </tr>\n",
       "    <tr>\n",
       "      <th>5</th>\n",
       "      <td>3</td>\n",
       "      <td>2</td>\n",
       "      <td>2</td>\n",
       "      <td>Sun Planet</td>\n",
       "      <td>1350</td>\n",
       "      <td>1200</td>\n",
       "      <td>1</td>\n",
       "      <td>1</td>\n",
       "      <td>Family</td>\n",
       "      <td>2</td>\n",
       "      <td>25000.0</td>\n",
       "      <td>60000</td>\n",
       "      <td>0.0</td>\n",
       "      <td>suncity</td>\n",
       "      <td>Immediately Available</td>\n",
       "      <td>Garden/Park, Main Road</td>\n",
       "      <td>Vitrified</td>\n",
       "      <td>3</td>\n",
       "      <td>2</td>\n",
       "      <td>None</td>\n",
       "      <td>5</td>\n",
       "      <td>None</td>\n",
       "      <td>None</td>\n",
       "      <td>13</td>\n",
       "    </tr>\n",
       "    <tr>\n",
       "      <th>...</th>\n",
       "      <td>...</td>\n",
       "      <td>...</td>\n",
       "      <td>...</td>\n",
       "      <td>...</td>\n",
       "      <td>...</td>\n",
       "      <td>...</td>\n",
       "      <td>...</td>\n",
       "      <td>...</td>\n",
       "      <td>...</td>\n",
       "      <td>...</td>\n",
       "      <td>...</td>\n",
       "      <td>...</td>\n",
       "      <td>...</td>\n",
       "      <td>...</td>\n",
       "      <td>...</td>\n",
       "      <td>...</td>\n",
       "      <td>...</td>\n",
       "      <td>...</td>\n",
       "      <td>...</td>\n",
       "      <td>...</td>\n",
       "      <td>...</td>\n",
       "      <td>...</td>\n",
       "      <td>...</td>\n",
       "      <td>...</td>\n",
       "    </tr>\n",
       "    <tr>\n",
       "      <th>1233</th>\n",
       "      <td>3</td>\n",
       "      <td>3</td>\n",
       "      <td>1</td>\n",
       "      <td>Supreme Palms</td>\n",
       "      <td>1465</td>\n",
       "      <td>1200</td>\n",
       "      <td>1</td>\n",
       "      <td>1</td>\n",
       "      <td>None</td>\n",
       "      <td>1</td>\n",
       "      <td>38000.0</td>\n",
       "      <td>120000</td>\n",
       "      <td>13.0</td>\n",
       "      <td>None</td>\n",
       "      <td>Immediately</td>\n",
       "      <td>None</td>\n",
       "      <td>None</td>\n",
       "      <td>2</td>\n",
       "      <td>0</td>\n",
       "      <td>None</td>\n",
       "      <td>3</td>\n",
       "      <td>None</td>\n",
       "      <td>None</td>\n",
       "      <td>23</td>\n",
       "    </tr>\n",
       "    <tr>\n",
       "      <th>1234</th>\n",
       "      <td>1</td>\n",
       "      <td>1</td>\n",
       "      <td>1</td>\n",
       "      <td>Karan Pushp</td>\n",
       "      <td>580</td>\n",
       "      <td>580</td>\n",
       "      <td>0</td>\n",
       "      <td>1</td>\n",
       "      <td>None</td>\n",
       "      <td>2</td>\n",
       "      <td>12500.0</td>\n",
       "      <td>35000</td>\n",
       "      <td>0.0</td>\n",
       "      <td>warje</td>\n",
       "      <td>Immediately Available</td>\n",
       "      <td>Main Road</td>\n",
       "      <td>Normal Tiles/Kotah Stone</td>\n",
       "      <td>3</td>\n",
       "      <td>1</td>\n",
       "      <td>None</td>\n",
       "      <td>4</td>\n",
       "      <td>None</td>\n",
       "      <td>None</td>\n",
       "      <td>1</td>\n",
       "    </tr>\n",
       "    <tr>\n",
       "      <th>1235</th>\n",
       "      <td>2</td>\n",
       "      <td>2</td>\n",
       "      <td>1</td>\n",
       "      <td>Venkatesh Park CHS Ltd</td>\n",
       "      <td>950</td>\n",
       "      <td>820</td>\n",
       "      <td>0</td>\n",
       "      <td>1</td>\n",
       "      <td>None</td>\n",
       "      <td>1</td>\n",
       "      <td>18500.0</td>\n",
       "      <td>90000</td>\n",
       "      <td>0.0</td>\n",
       "      <td>None</td>\n",
       "      <td>Immediately</td>\n",
       "      <td>None</td>\n",
       "      <td>None</td>\n",
       "      <td>2</td>\n",
       "      <td>0</td>\n",
       "      <td>None</td>\n",
       "      <td>0</td>\n",
       "      <td>None</td>\n",
       "      <td>None</td>\n",
       "      <td>1</td>\n",
       "    </tr>\n",
       "    <tr>\n",
       "      <th>1236</th>\n",
       "      <td>1</td>\n",
       "      <td>1</td>\n",
       "      <td>1</td>\n",
       "      <td>None</td>\n",
       "      <td>550</td>\n",
       "      <td>420</td>\n",
       "      <td>0</td>\n",
       "      <td>1</td>\n",
       "      <td>Bachelors</td>\n",
       "      <td>2</td>\n",
       "      <td>13000.0</td>\n",
       "      <td>35000</td>\n",
       "      <td>0.0</td>\n",
       "      <td>mahatma gandhi school</td>\n",
       "      <td>Immediately Available</td>\n",
       "      <td>None</td>\n",
       "      <td>Vitrified</td>\n",
       "      <td>3</td>\n",
       "      <td>0</td>\n",
       "      <td>Non-Vegetarians, Pets allowed</td>\n",
       "      <td>4</td>\n",
       "      <td>City Municipal Corporation</td>\n",
       "      <td>None</td>\n",
       "      <td>1</td>\n",
       "    </tr>\n",
       "    <tr>\n",
       "      <th>1237</th>\n",
       "      <td>1</td>\n",
       "      <td>1</td>\n",
       "      <td>0</td>\n",
       "      <td>Gopinathnagar Housing Society Gandhi Bhavan</td>\n",
       "      <td>629</td>\n",
       "      <td>507</td>\n",
       "      <td>0</td>\n",
       "      <td>1</td>\n",
       "      <td>Family</td>\n",
       "      <td>2</td>\n",
       "      <td>12000.0</td>\n",
       "      <td>35000</td>\n",
       "      <td>0.0</td>\n",
       "      <td>kumar parisar</td>\n",
       "      <td>Immediately Available</td>\n",
       "      <td>None</td>\n",
       "      <td>Mosaic</td>\n",
       "      <td>3</td>\n",
       "      <td>0</td>\n",
       "      <td>Vegetarians, Pets not allowed</td>\n",
       "      <td>1</td>\n",
       "      <td>None</td>\n",
       "      <td>None</td>\n",
       "      <td>1</td>\n",
       "    </tr>\n",
       "  </tbody>\n",
       "</table>\n",
       "<p>1113 rows × 24 columns</p>\n",
       "</div>"
      ],
      "text/plain": [
       "      Bedroom  Bathroom  Balcony                                      Project  \\\n",
       "1           2         2        2                              Rohan Abhilasha   \n",
       "2           1         2        2                                  Shree Radhe   \n",
       "3           2         2        2                          Manjri Green Annexe   \n",
       "4           2         2        2                                 Prasun Savoy   \n",
       "5           3         2        2                                   Sun Planet   \n",
       "...       ...       ...      ...                                          ...   \n",
       "1233        3         3        1                                Supreme Palms   \n",
       "1234        1         1        1                                  Karan Pushp   \n",
       "1235        2         2        1                       Venkatesh Park CHS Ltd   \n",
       "1236        1         1        1                                         None   \n",
       "1237        1         1        0  Gopinathnagar Housing Society Gandhi Bhavan   \n",
       "\n",
       "      Super_area  Carpet_area  Furnished_status  Car_parking  \\\n",
       "1           1200          956                 0            1   \n",
       "2            710          566                 1            1   \n",
       "3           1191          780                 0            1   \n",
       "4           1050          950                 0            1   \n",
       "5           1350         1200                 1            1   \n",
       "...          ...          ...               ...          ...   \n",
       "1233        1465         1200                 1            1   \n",
       "1234         580          580                 0            1   \n",
       "1235         950          820                 0            1   \n",
       "1236         550          420                 0            1   \n",
       "1237         629          507                 0            1   \n",
       "\n",
       "     Tenants_Preferred  Water_Availability  Rental_Value  Booking_Amount  \\\n",
       "1                 None                   1       13500.0           42000   \n",
       "2            Bachelors                   2       25000.0           50000   \n",
       "3                 None                   2       12000.0           40000   \n",
       "4                 None                   2       15000.0           50000   \n",
       "5               Family                   2       25000.0           60000   \n",
       "...                ...                 ...           ...             ...   \n",
       "1233              None                   1       38000.0          120000   \n",
       "1234              None                   2       12500.0           35000   \n",
       "1235              None                   1       18500.0           90000   \n",
       "1236         Bachelors                   2       13000.0           35000   \n",
       "1237            Family                   2       12000.0           35000   \n",
       "\n",
       "      Address                              Landmarks                 Status  \\\n",
       "1         0.0                          lohegaon road            Immediately   \n",
       "2         0.0                  symbiosis law college  Immediately Available   \n",
       "3         0.0  the property close vishwaraj hospital  Immediately Available   \n",
       "4         0.0                                   None  Immediately Available   \n",
       "5         0.0                                suncity  Immediately Available   \n",
       "...       ...                                    ...                    ...   \n",
       "1233     13.0                                   None            Immediately   \n",
       "1234      0.0                                  warje  Immediately Available   \n",
       "1235      0.0                                   None            Immediately   \n",
       "1236      0.0                  mahatma gandhi school  Immediately Available   \n",
       "1237      0.0                          kumar parisar  Immediately Available   \n",
       "\n",
       "                       Overlooking                  Flooring  \\\n",
       "1                      Garden/Park  Vitrified, Ceramic Tiles   \n",
       "2     Garden/Park, Pool, Main Road  Vitrified, Ceramic Tiles   \n",
       "3                             None        Granite, Vitrified   \n",
       "4                        Main Road  Vitrified, Ceramic Tiles   \n",
       "5           Garden/Park, Main Road                 Vitrified   \n",
       "...                            ...                       ...   \n",
       "1233                          None                      None   \n",
       "1234                     Main Road  Normal Tiles/Kotah Stone   \n",
       "1235                          None                      None   \n",
       "1236                          None                 Vitrified   \n",
       "1237                          None                    Mosaic   \n",
       "\n",
       "      Status_of_Electricity  Lifts  \\\n",
       "1                         2      0   \n",
       "2                         3      1   \n",
       "3                         3      2   \n",
       "4                         3      1   \n",
       "5                         3      2   \n",
       "...                     ...    ...   \n",
       "1233                      2      0   \n",
       "1234                      3      1   \n",
       "1235                      2      0   \n",
       "1236                      3      0   \n",
       "1237                      3      0   \n",
       "\n",
       "                                Other_Tenants_Preferred  Age_of_Construction  \\\n",
       "1                                                  None                    0   \n",
       "2     Non-Vegetarians, Without Company Lease, Pets a...                    6   \n",
       "3                                                  None                    4   \n",
       "4                                                  None                    4   \n",
       "5                                                  None                    5   \n",
       "...                                                 ...                  ...   \n",
       "1233                                               None                    3   \n",
       "1234                                               None                    4   \n",
       "1235                                               None                    0   \n",
       "1236                      Non-Vegetarians, Pets allowed                    4   \n",
       "1237                      Vegetarians, Pets not allowed                    1   \n",
       "\n",
       "              Authority_Approval Type_of_Ownership  Amenities_no  \n",
       "1                           None              None            20  \n",
       "2     City Municipal Corporation          Freehold            16  \n",
       "3                           None              None            23  \n",
       "4                           None              None            49  \n",
       "5                           None              None            13  \n",
       "...                          ...               ...           ...  \n",
       "1233                        None              None            23  \n",
       "1234                        None              None             1  \n",
       "1235                        None              None             1  \n",
       "1236  City Municipal Corporation              None             1  \n",
       "1237                        None              None             1  \n",
       "\n",
       "[1113 rows x 24 columns]"
      ]
     },
     "execution_count": 356,
     "metadata": {},
     "output_type": "execute_result"
    }
   ],
   "source": [
    "data_clean"
   ]
  },
  {
   "cell_type": "code",
   "execution_count": 357,
   "metadata": {},
   "outputs": [],
   "source": [
    "label_cat_col=list(set(cat_col)-set(cat_col_dum))"
   ]
  },
  {
   "cell_type": "code",
   "execution_count": 358,
   "metadata": {},
   "outputs": [
    {
     "data": {
      "text/plain": [
       "['Project',\n",
       " 'Tenants_Preferred',\n",
       " 'Landmarks',\n",
       " 'Status',\n",
       " 'Overlooking',\n",
       " 'Flooring',\n",
       " 'Other_Tenants_Preferred',\n",
       " 'Authority_Approval',\n",
       " 'Type_of_Ownership']"
      ]
     },
     "execution_count": 358,
     "metadata": {},
     "output_type": "execute_result"
    }
   ],
   "source": [
    "cat_col"
   ]
  },
  {
   "cell_type": "code",
   "execution_count": 359,
   "metadata": {},
   "outputs": [
    {
     "data": {
      "text/plain": [
       "LabelEncoder()"
      ]
     },
     "execution_count": 359,
     "metadata": {},
     "output_type": "execute_result"
    }
   ],
   "source": [
    "le = preprocessing.LabelEncoder()\n",
    "le.fit(data_clean['Project'])"
   ]
  },
  {
   "cell_type": "code",
   "execution_count": 360,
   "metadata": {},
   "outputs": [],
   "source": [
    "keys=le.classes_"
   ]
  },
  {
   "cell_type": "code",
   "execution_count": 361,
   "metadata": {},
   "outputs": [],
   "source": [
    "values=le.fit_transform(keys)"
   ]
  },
  {
   "cell_type": "code",
   "execution_count": 362,
   "metadata": {},
   "outputs": [],
   "source": [
    "d=dict(zip(keys,values))"
   ]
  },
  {
   "cell_type": "code",
   "execution_count": 363,
   "metadata": {},
   "outputs": [],
   "source": [
    "import pickle"
   ]
  },
  {
   "cell_type": "code",
   "execution_count": 364,
   "metadata": {},
   "outputs": [],
   "source": [
    "with open('project_name.pickle', 'wb') as handle:\n",
    "    pickle.dump(d, handle, protocol=pickle.HIGHEST_PROTOCOL)"
   ]
  },
  {
   "cell_type": "code",
   "execution_count": 365,
   "metadata": {},
   "outputs": [
    {
     "data": {
      "text/plain": [
       "Project                    576\n",
       "Tenants_Preferred            3\n",
       "Landmarks                  738\n",
       "Status                       3\n",
       "Overlooking                 14\n",
       "Flooring                    83\n",
       "Other_Tenants_Preferred     19\n",
       "Authority_Approval           4\n",
       "Type_of_Ownership            4\n",
       "dtype: int64"
      ]
     },
     "execution_count": 365,
     "metadata": {},
     "output_type": "execute_result"
    }
   ],
   "source": [
    "data_clean[cat_col].nunique()"
   ]
  },
  {
   "cell_type": "code",
   "execution_count": 366,
   "metadata": {},
   "outputs": [],
   "source": [
    "encode=dict()\n",
    "for i in cat_col:\n",
    "    le = preprocessing.LabelEncoder()\n",
    "    data_clean[i]=le.fit_transform(data_clean[i])\n",
    "    keys=le.classes_\n",
    "    values=le.fit_transform(keys)\n",
    "    encode[i]=dict(zip(keys,values))"
   ]
  },
  {
   "cell_type": "code",
   "execution_count": 367,
   "metadata": {},
   "outputs": [],
   "source": [
    "with open('encoder.pickle', 'wb') as handle:\n",
    "    pickle.dump(encode, handle, protocol=pickle.HIGHEST_PROTOCOL)"
   ]
  },
  {
   "cell_type": "code",
   "execution_count": 368,
   "metadata": {},
   "outputs": [],
   "source": [
    "#one hot encoding"
   ]
  },
  {
   "cell_type": "code",
   "execution_count": 369,
   "metadata": {},
   "outputs": [],
   "source": [
    "from sklearn.model_selection import train_test_split"
   ]
  },
  {
   "cell_type": "code",
   "execution_count": 370,
   "metadata": {},
   "outputs": [],
   "source": [
    "# data_clean['comb_tar']=data_clean['Rental_Value']+data_clean['Booking_Amount']/12"
   ]
  },
  {
   "cell_type": "code",
   "execution_count": 371,
   "metadata": {},
   "outputs": [
    {
     "data": {
      "text/plain": [
       "Index(['Bedroom', 'Bathroom', 'Balcony', 'Project', 'Super_area',\n",
       "       'Carpet_area', 'Furnished_status', 'Car_parking', 'Tenants_Preferred',\n",
       "       'Water_Availability', 'Rental_Value', 'Booking_Amount', 'Address',\n",
       "       'Landmarks', 'Status', 'Overlooking', 'Flooring',\n",
       "       'Status_of_Electricity', 'Lifts', 'Other_Tenants_Preferred',\n",
       "       'Age_of_Construction', 'Authority_Approval', 'Type_of_Ownership',\n",
       "       'Amenities_no'],\n",
       "      dtype='object')"
      ]
     },
     "execution_count": 371,
     "metadata": {},
     "output_type": "execute_result"
    }
   ],
   "source": [
    "data_clean.columns"
   ]
  },
  {
   "cell_type": "code",
   "execution_count": 372,
   "metadata": {},
   "outputs": [],
   "source": [
    "# data_clean=data_clean[['Bedroom', 'Bathroom', 'Balcony', 'Project', 'Super_area',\n",
    "#        'Carpet_area', 'Furnished_status', 'Car_parking', 'Tenants_Preferred',\n",
    "#        'Water_Availability',  'Address',\n",
    "#        'Landmarks', 'Status', 'Overlooking', 'Flooring',\n",
    "#        'Status_of_Electricity', 'Lifts', 'Other_Tenants_Preferred',\n",
    "#        'Age_of_Construction', 'Furnishing', 'Authority_Approval',\n",
    "#        'Type_of_Ownership', 'Amenities_no','Rental_Value', 'Booking_Amount', 'comb_tar']]"
   ]
  },
  {
   "cell_type": "code",
   "execution_count": 373,
   "metadata": {},
   "outputs": [
    {
     "data": {
      "image/png": "[encoded data removed]",
      "text/plain": [
       "<Figure size 1440x1440 with 2 Axes>"
      ]
     },
     "metadata": {
      "needs_background": "light"
     },
     "output_type": "display_data"
    }
   ],
   "source": [
    "plt.figure(figsize=(20,20))\n",
    "sns.heatmap(data_clean.corr(),annot=True)\n",
    "plt.show()"
   ]
  },
  {
   "cell_type": "code",
   "execution_count": 374,
   "metadata": {},
   "outputs": [],
   "source": [
    "from sklearn.model_selection import train_test_split\n"
   ]
  },
  {
   "cell_type": "code",
   "execution_count": 375,
   "metadata": {},
   "outputs": [],
   "source": [
    "X=data_clean.drop(['Rental_Value'],axis=1)\n",
    "y1=data_clean.Rental_Value\n",
    "# y2=data_clean.Booking_Amount\n",
    "# y3=data_clean.comb_tar\n"
   ]
  },
  {
   "cell_type": "code",
   "execution_count": 376,
   "metadata": {},
   "outputs": [
    {
     "data": {
      "text/plain": [
       "count     1113.000000\n",
       "mean     18596.308176\n",
       "std       7713.560092\n",
       "min       4000.000000\n",
       "25%      13000.000000\n",
       "50%      17500.000000\n",
       "75%      23000.000000\n",
       "max      43000.000000\n",
       "Name: Rental_Value, dtype: float64"
      ]
     },
     "execution_count": 376,
     "metadata": {},
     "output_type": "execute_result"
    }
   ],
   "source": [
    "pd.Series(y1).describe()"
   ]
  },
  {
   "cell_type": "code",
   "execution_count": 377,
   "metadata": {},
   "outputs": [],
   "source": [
    "X_train, X_test, y_train, y_test = train_test_split(X, y1, test_size=0.1, random_state=42)"
   ]
  },
  {
   "cell_type": "code",
   "execution_count": 378,
   "metadata": {},
   "outputs": [
    {
     "data": {
      "text/plain": [
       "Index(['Bedroom', 'Bathroom', 'Balcony', 'Project', 'Super_area',\n",
       "       'Carpet_area', 'Furnished_status', 'Car_parking', 'Tenants_Preferred',\n",
       "       'Water_Availability', 'Booking_Amount', 'Address', 'Landmarks',\n",
       "       'Status', 'Overlooking', 'Flooring', 'Status_of_Electricity', 'Lifts',\n",
       "       'Other_Tenants_Preferred', 'Age_of_Construction', 'Authority_Approval',\n",
       "       'Type_of_Ownership', 'Amenities_no'],\n",
       "      dtype='object')"
      ]
     },
     "execution_count": 378,
     "metadata": {},
     "output_type": "execute_result"
    }
   ],
   "source": [
    "X_train.columns"
   ]
  },
  {
   "cell_type": "code",
   "execution_count": 379,
   "metadata": {},
   "outputs": [
    {
     "name": "stderr",
     "output_type": "stream",
     "text": [
      "C:\\Users\\Nikhil Deshmukh\\anaconda3\\lib\\site-packages\\pandas\\core\\frame.py:4163: SettingWithCopyWarning: \n",
      "A value is trying to be set on a copy of a slice from a DataFrame\n",
      "\n",
      "See the caveats in the documentation: https://pandas.pydata.org/pandas-docs/stable/user_guide/indexing.html#returning-a-view-versus-a-copy\n",
      "  return super().drop(\n"
     ]
    }
   ],
   "source": [
    "X_train.drop('Project',axis=1,inplace=True)\n",
    "X_test.drop('Project',axis=1,inplace=True)\n",
    "\n",
    "X_train.drop('Landmarks',axis=1,inplace=True)\n",
    "X_test.drop('Landmarks',axis=1,inplace=True)"
   ]
  },
  {
   "cell_type": "code",
   "execution_count": 380,
   "metadata": {},
   "outputs": [],
   "source": [
    "X_train.drop('Flooring',axis=1,inplace=True)\n",
    "X_test.drop('Flooring',axis=1,inplace=True)"
   ]
  },
  {
   "cell_type": "code",
   "execution_count": 381,
   "metadata": {},
   "outputs": [],
   "source": [
    "from sklearn.linear_model import LinearRegression\n",
    "from sklearn.linear_model import Ridge"
   ]
  },
  {
   "cell_type": "code",
   "execution_count": 382,
   "metadata": {},
   "outputs": [],
   "source": [
    "reg = LinearRegression().fit(X_train, y_train)"
   ]
  },
  {
   "cell_type": "code",
   "execution_count": 383,
   "metadata": {},
   "outputs": [
    {
     "data": {
      "text/plain": [
       "0.6660026260505427"
      ]
     },
     "execution_count": 383,
     "metadata": {},
     "output_type": "execute_result"
    }
   ],
   "source": [
    "reg.score(X_train, y_train)"
   ]
  },
  {
   "cell_type": "code",
   "execution_count": 384,
   "metadata": {},
   "outputs": [
    {
     "data": {
      "text/plain": [
       "0.6517211998210161"
      ]
     },
     "execution_count": 384,
     "metadata": {},
     "output_type": "execute_result"
    }
   ],
   "source": [
    "reg.score(X_test, y_test)"
   ]
  },
  {
   "cell_type": "code",
   "execution_count": 385,
   "metadata": {},
   "outputs": [],
   "source": [
    "from sklearn.metrics import mean_squared_error"
   ]
  },
  {
   "cell_type": "code",
   "execution_count": 386,
   "metadata": {},
   "outputs": [
    {
     "data": {
      "text/plain": [
       "4441.234503076176"
      ]
     },
     "execution_count": 386,
     "metadata": {},
     "output_type": "execute_result"
    }
   ],
   "source": [
    "mean_squared_error(y_train, reg.predict(X_train), squared=False)"
   ]
  },
  {
   "cell_type": "code",
   "execution_count": 387,
   "metadata": {},
   "outputs": [
    {
     "data": {
      "text/plain": [
       "4670.190325252929"
      ]
     },
     "execution_count": 387,
     "metadata": {},
     "output_type": "execute_result"
    }
   ],
   "source": [
    "mean_squared_error(y_test, reg.predict(X_test), squared=False)"
   ]
  },
  {
   "cell_type": "code",
   "execution_count": 390,
   "metadata": {},
   "outputs": [],
   "source": [
    "from sklearn.neighbors import KNeighborsRegressor"
   ]
  },
  {
   "cell_type": "code",
   "execution_count": 391,
   "metadata": {},
   "outputs": [],
   "source": [
    "from sklearn.preprocessing import StandardScaler"
   ]
  },
  {
   "cell_type": "code",
   "execution_count": 396,
   "metadata": {},
   "outputs": [],
   "source": [
    "from sklearn.pipeline import Pipeline"
   ]
  },
  {
   "cell_type": "code",
   "execution_count": 397,
   "metadata": {},
   "outputs": [],
   "source": [
    "pipeline = Pipeline([\n",
    "                     ('scaler',StandardScaler()),\n",
    "                     ('model',KNeighborsRegressor(n_neighbors=4))\n",
    "])"
   ]
  },
  {
   "cell_type": "code",
   "execution_count": 398,
   "metadata": {},
   "outputs": [],
   "source": [
    "knn_model = pipeline.fit(X_train,y_train)\n",
    "knn_predict = knn_model.predict(X_test)\n"
   ]
  },
  {
   "cell_type": "code",
   "execution_count": 400,
   "metadata": {},
   "outputs": [
    {
     "data": {
      "text/plain": [
       "0.5365615445356023"
      ]
     },
     "execution_count": 400,
     "metadata": {},
     "output_type": "execute_result"
    }
   ],
   "source": [
    "knn_model.score(X_test,y_test)"
   ]
  },
  {
   "cell_type": "code",
   "execution_count": 401,
   "metadata": {},
   "outputs": [],
   "source": [
    "pipeline = Pipeline([\n",
    "                   ('scaler',StandardScaler()),\n",
    "                     ('model',Ridge(alpha = 1))\n",
    "])"
   ]
  },
  {
   "cell_type": "code",
   "execution_count": 402,
   "metadata": {},
   "outputs": [],
   "source": [
    "ridge_model = pipeline.fit(X_train,y_train)\n",
    "ridge_predict = knn_model.predict(X_test)\n"
   ]
  },
  {
   "cell_type": "code",
   "execution_count": 403,
   "metadata": {},
   "outputs": [
    {
     "data": {
      "text/plain": [
       "0.6514699919338859"
      ]
     },
     "execution_count": 403,
     "metadata": {},
     "output_type": "execute_result"
    }
   ],
   "source": [
    "ridge_model.score(X_test,y_test)"
   ]
  },
  {
   "cell_type": "code",
   "execution_count": 404,
   "metadata": {},
   "outputs": [
    {
     "data": {
      "text/plain": [
       "4441.24077108148"
      ]
     },
     "execution_count": 404,
     "metadata": {},
     "output_type": "execute_result"
    }
   ],
   "source": [
    "mean_squared_error(y_train, ridge_model.predict(X_train), squared=False)"
   ]
  },
  {
   "cell_type": "code",
   "execution_count": 405,
   "metadata": {},
   "outputs": [
    {
     "data": {
      "text/plain": [
       "4671.874288171778"
      ]
     },
     "execution_count": 405,
     "metadata": {},
     "output_type": "execute_result"
    }
   ],
   "source": [
    "mean_squared_error(y_test, ridge_model.predict(X_test), squared=False)"
   ]
  },
  {
   "cell_type": "code",
   "execution_count": 406,
   "metadata": {},
   "outputs": [],
   "source": [
    "from xgboost import XGBRegressor"
   ]
  },
  {
   "cell_type": "code",
   "execution_count": 407,
   "metadata": {},
   "outputs": [],
   "source": [
    "params={\n",
    " \"learning_rate\"    : [0.05, 0.10, 0.15, 0.20, 0.25, 0.30 ] ,\n",
    " \"max_depth\"        : [ 3, 4, 5, 6, 8, 10, 12, 15],\n",
    " \"min_child_weight\" : [ 1, 3, 5, 7 ],\n",
    " \"gamma\"            : [ 0.0, 0.1, 0.2 , 0.3, 0.4 ],\n",
    " \"colsample_bytree\" : [ 0.3, 0.4, 0.5 , 0.7 ]\n",
    "    \n",
    "}"
   ]
  },
  {
   "cell_type": "code",
   "execution_count": 409,
   "metadata": {},
   "outputs": [],
   "source": [
    "model = XGBRegressor()"
   ]
  },
  {
   "cell_type": "code",
   "execution_count": 410,
   "metadata": {},
   "outputs": [],
   "source": [
    "X_train.to_csv('xtrain.csv',index=False)"
   ]
  },
  {
   "cell_type": "code",
   "execution_count": 411,
   "metadata": {},
   "outputs": [],
   "source": [
    "from sklearn.model_selection import RandomizedSearchCV"
   ]
  },
  {
   "cell_type": "code",
   "execution_count": 412,
   "metadata": {},
   "outputs": [
    {
     "name": "stdout",
     "output_type": "stream",
     "text": [
      "Fitting 3 folds for each of 100 candidates, totalling 300 fits\n"
     ]
    },
    {
     "data": {
      "text/plain": [
       "RandomizedSearchCV(cv=3,\n",
       "                   estimator=XGBRegressor(base_score=None, booster=None,\n",
       "                                          colsample_bylevel=None,\n",
       "                                          colsample_bynode=None,\n",
       "                                          colsample_bytree=None, gamma=None,\n",
       "                                          gpu_id=None, importance_type='gain',\n",
       "                                          interaction_constraints=None,\n",
       "                                          learning_rate=None,\n",
       "                                          max_delta_step=None, max_depth=None,\n",
       "                                          min_child_weight=None, missing=nan,\n",
       "                                          monotone_constraints=None,\n",
       "                                          n_estimators=100, n...\n",
       "                                          reg_lambda=None,\n",
       "                                          scale_pos_weight=None, subsample=None,\n",
       "                                          tree_method=None,\n",
       "                                          validate_parameters=None,\n",
       "                                          verbosity=None),\n",
       "                   n_iter=100, n_jobs=-1,\n",
       "                   param_distributions={'colsample_bytree': [0.3, 0.4, 0.5,\n",
       "                                                             0.7],\n",
       "                                        'gamma': [0.0, 0.1, 0.2, 0.3, 0.4],\n",
       "                                        'learning_rate': [0.05, 0.1, 0.15, 0.2,\n",
       "                                                          0.25, 0.3],\n",
       "                                        'max_depth': [3, 4, 5, 6, 8, 10, 12,\n",
       "                                                      15],\n",
       "                                        'min_child_weight': [1, 3, 5, 7]},\n",
       "                   random_state=10, verbose=5)"
      ]
     },
     "execution_count": 412,
     "metadata": {},
     "output_type": "execute_result"
    }
   ],
   "source": [
    "XGB = XGBRegressor()\n",
    "\n",
    "\n",
    "XGB_random = RandomizedSearchCV(estimator = XGB, param_distributions = params, \n",
    "                               n_iter = 100, cv = 3, verbose=5, random_state = 10, n_jobs = -1)\n",
    "\n",
    "XGB_random.fit(X_train, y_train)\n"
   ]
  },
  {
   "cell_type": "code",
   "execution_count": 413,
   "metadata": {},
   "outputs": [
    {
     "data": {
      "text/plain": [
       "XGBRegressor(base_score=0.5, booster='gbtree', colsample_bylevel=1,\n",
       "             colsample_bynode=1, colsample_bytree=0.5, gamma=0.2, gpu_id=-1,\n",
       "             importance_type='gain', interaction_constraints='',\n",
       "             learning_rate=0.05, max_delta_step=0, max_depth=4,\n",
       "             min_child_weight=3, missing=nan, monotone_constraints='()',\n",
       "             n_estimators=100, n_jobs=4, num_parallel_tree=1, random_state=0,\n",
       "             reg_alpha=0, reg_lambda=1, scale_pos_weight=1, subsample=1,\n",
       "             tree_method='exact', validate_parameters=1, verbosity=None)"
      ]
     },
     "execution_count": 413,
     "metadata": {},
     "output_type": "execute_result"
    }
   ],
   "source": [
    "XGB_random.best_estimator_"
   ]
  },
  {
   "cell_type": "code",
   "execution_count": 414,
   "metadata": {},
   "outputs": [],
   "source": [
    "XGB_optimized_model = XGB_random.best_estimator_"
   ]
  },
  {
   "cell_type": "code",
   "execution_count": 415,
   "metadata": {},
   "outputs": [
    {
     "data": {
      "text/plain": [
       "0.7792783287033956"
      ]
     },
     "execution_count": 415,
     "metadata": {},
     "output_type": "execute_result"
    }
   ],
   "source": [
    "XGB_optimized_model.score(X_test,y_test)"
   ]
  },
  {
   "cell_type": "code",
   "execution_count": 416,
   "metadata": {},
   "outputs": [
    {
     "data": {
      "text/plain": [
       "(1001, 20)"
      ]
     },
     "execution_count": 416,
     "metadata": {},
     "output_type": "execute_result"
    }
   ],
   "source": [
    "X_train.shape"
   ]
  },
  {
   "cell_type": "code",
   "execution_count": 417,
   "metadata": {},
   "outputs": [],
   "source": [
    "XGB = XGBRegressor(min_child_weight= 3,\n",
    " max_depth= 4,\n",
    " learning_rate= 0.05,\n",
    " gamma= 0.2,\n",
    " colsample_bytree= 0.5,\n",
    " eenable_categorical=True)\n",
    "\n",
    "# XGB=XGBRegressor(base_score=0.5, booster='gbtree', colsample_bylevel=1,\n",
    "#              colsample_bynode=1, colsample_bytree=0.7, gamma=0.3, gpu_id=-1,\n",
    "#              importance_type='gain', interaction_constraints='',\n",
    "#              learning_rate=0.05, max_delta_step=0, max_depth=4,\n",
    "#              min_child_weight=3,monotone_constraints='()',\n",
    "#              n_estimators=100, n_jobs=8, num_parallel_tree=1, random_state=0,\n",
    "#              reg_alpha=0, reg_lambda=1, scale_pos_weight=1, subsample=1,\n",
    "#              tree_method='exact', validate_parameters=1, verbosity=None)"
   ]
  },
  {
   "cell_type": "code",
   "execution_count": 419,
   "metadata": {},
   "outputs": [
    {
     "name": "stdout",
     "output_type": "stream",
     "text": [
      "[15:50:35] WARNING: C:/Users/Administrator/workspace/xgboost-win64_release_1.4.0/src/learner.cc:573: \n",
      "Parameters: { \"eenable_categorical\" } might not be used.\n",
      "\n",
      "  This may not be accurate due to some parameters are only used in language bindings but\n",
      "  passed down to XGBoost core.  Or some parameters are not used but slip through this\n",
      "  verification. Please open an issue if you find above cases.\n",
      "\n",
      "\n"
     ]
    },
    {
     "data": {
      "text/plain": [
       "XGBRegressor(base_score=0.5, booster='gbtree', colsample_bylevel=1,\n",
       "             colsample_bynode=1, colsample_bytree=0.5, eenable_categorical=True,\n",
       "             gamma=0.2, gpu_id=-1, importance_type='gain',\n",
       "             interaction_constraints='', learning_rate=0.05, max_delta_step=0,\n",
       "             max_depth=4, min_child_weight=3, missing=nan,\n",
       "             monotone_constraints='()', n_estimators=100, n_jobs=4,\n",
       "             num_parallel_tree=1, random_state=0, reg_alpha=0, reg_lambda=1,\n",
       "             scale_pos_weight=1, subsample=1, tree_method='exact',\n",
       "             validate_parameters=1, verbosity=None)"
      ]
     },
     "execution_count": 419,
     "metadata": {},
     "output_type": "execute_result"
    }
   ],
   "source": [
    "XGB.fit(X_train, y_train)"
   ]
  },
  {
   "cell_type": "code",
   "execution_count": 420,
   "metadata": {},
   "outputs": [
    {
     "data": {
      "text/plain": [
       "0.7792783287033956"
      ]
     },
     "execution_count": 420,
     "metadata": {},
     "output_type": "execute_result"
    }
   ],
   "source": [
    "XGB.score(X_test,y_test)"
   ]
  },
  {
   "cell_type": "code",
   "execution_count": 421,
   "metadata": {},
   "outputs": [
    {
     "data": {
      "image/png": "[encoded data removed]",
      "text/plain": [
       "<Figure size 1080x360 with 1 Axes>"
      ]
     },
     "metadata": {
      "needs_background": "light"
     },
     "output_type": "display_data"
    }
   ],
   "source": [
    "plt.figure(figsize=(15,5))\n",
    "zip(X_train.columns,XGB.feature_importances_)\n",
    "plt.bar(X_train.columns,XGB.feature_importances_)\n",
    "plt.xticks(rotation=90)\n",
    "plt.show()"
   ]
  },
  {
   "cell_type": "code",
   "execution_count": 423,
   "metadata": {},
   "outputs": [],
   "source": [
    "filename = 'model3.pkl'\n",
    "pickle.dump(XGB, open(filename, 'wb'))"
   ]
  },
  {
   "cell_type": "code",
   "execution_count": 427,
   "metadata": {},
   "outputs": [
    {
     "data": {
      "text/plain": [
       "array([12858.348], dtype=float32)"
      ]
     },
     "execution_count": 427,
     "metadata": {},
     "output_type": "execute_result"
    }
   ],
   "source": [
    "XGB.predict(X_test.iloc[:1,:])"
   ]
  },
  {
   "cell_type": "code",
   "execution_count": 429,
   "metadata": {},
   "outputs": [
    {
     "data": {
      "text/plain": [
       "array([12858.348 , 16897.443 , 13761.795 , 18886.412 , 10681.723 ,\n",
       "       11273.028 , 13400.18  , 14749.087 , 13589.022 , 26834.012 ,\n",
       "       24567.283 , 20824.082 , 11751.51  , 21042.012 , 15366.314 ,\n",
       "       16439.895 , 32899.547 , 16073.063 , 27417.96  , 17345.117 ,\n",
       "       11639.849 , 20357.42  , 14908.397 , 16541.043 , 23214.79  ,\n",
       "       12183.526 , 15683.741 , 17636.734 , 24905.662 , 22015.867 ,\n",
       "       10918.923 , 17265.416 , 19504.238 , 16963.379 , 19725.592 ,\n",
       "       21806.93  , 10381.844 , 22316.428 , 17373.525 , 20356.99  ,\n",
       "       18006.408 , 11585.693 , 10041.656 , 23276.986 , 28083.055 ,\n",
       "       15567.325 , 27990.533 , 12562.005 , 13826.962 , 17341.432 ,\n",
       "       12955.37  , 13915.208 , 25871.156 , 34253.625 , 25104.83  ,\n",
       "       27496.555 , 19096.52  , 30417.398 , 12839.248 , 11756.64  ,\n",
       "       21127.166 , 20181.725 ,  7265.9   , 13245.096 , 28383.082 ,\n",
       "       14001.604 , 20563.611 , 18070.67  ,  9387.017 , 24187.977 ,\n",
       "       18695.23  , 13119.516 , 25439.791 , 22841.928 , 36016.445 ,\n",
       "       15664.273 , 11285.827 , 23837.547 , 32706.602 , 21407.861 ,\n",
       "       10328.75  , 18262.203 ,  9490.32  , 11993.241 , 17860.52  ,\n",
       "       10771.699 , 27572.111 , 20554.445 , 10967.865 , 10835.414 ,\n",
       "       12976.865 , 10988.07  , 24805.605 , 12371.504 , 13903.699 ,\n",
       "       24527.508 , 16200.642 , 20317.293 , 17376.006 , 21461.762 ,\n",
       "       18545.223 ,  8052.9473, 34356.766 , 11601.585 , 20044.88  ,\n",
       "       18127.908 ,  8616.697 , 21723.746 , 14628.293 ,  9769.2   ,\n",
       "       22029.156 , 28366.709 ], dtype=float32)"
      ]
     },
     "execution_count": 429,
     "metadata": {},
     "output_type": "execute_result"
    }
   ],
   "source": [
    "XGB.predict(X_test)"
   ]
  },
  {
   "cell_type": "code",
   "execution_count": 430,
   "metadata": {},
   "outputs": [
    {
     "data": {
      "text/plain": [
       "Index(['Bedroom', 'Bathroom', 'Balcony', 'Super_area', 'Carpet_area',\n",
       "       'Furnished_status', 'Car_parking', 'Tenants_Preferred',\n",
       "       'Water_Availability', 'Booking_Amount', 'Address', 'Status',\n",
       "       'Overlooking', 'Status_of_Electricity', 'Lifts',\n",
       "       'Other_Tenants_Preferred', 'Age_of_Construction', 'Authority_Approval',\n",
       "       'Type_of_Ownership', 'Amenities_no'],\n",
       "      dtype='object')"
      ]
     },
     "execution_count": 430,
     "metadata": {},
     "output_type": "execute_result"
    }
   ],
   "source": [
    "X_train.columns"
   ]
  },
  {
   "cell_type": "code",
   "execution_count": 431,
   "metadata": {},
   "outputs": [
    {
     "data": {
      "text/plain": [
       "2758.9647490964144"
      ]
     },
     "execution_count": 431,
     "metadata": {},
     "output_type": "execute_result"
    }
   ],
   "source": [
    "mean_squared_error(y_train, XGB_optimized_model.predict(X_train), squared=False)"
   ]
  },
  {
   "cell_type": "code",
   "execution_count": 433,
   "metadata": {},
   "outputs": [
    {
     "data": {
      "text/plain": [
       "0.7792783287033956"
      ]
     },
     "execution_count": 433,
     "metadata": {},
     "output_type": "execute_result"
    }
   ],
   "source": [
    "XGB_optimized_model.score(X_test, y_test)"
   ]
  },
  {
   "cell_type": "code",
   "execution_count": null,
   "metadata": {},
   "outputs": [],
   "source": [
    "# reg = model.fit(X_train, y_train)"
   ]
  },
  {
   "cell_type": "code",
   "execution_count": null,
   "metadata": {},
   "outputs": [],
   "source": [
    "# model.score(X_train, y_train)"
   ]
  },
  {
   "cell_type": "code",
   "execution_count": null,
   "metadata": {},
   "outputs": [],
   "source": [
    "# model.score(X_test, y_test)"
   ]
  },
  {
   "cell_type": "code",
   "execution_count": 434,
   "metadata": {},
   "outputs": [],
   "source": [
    "from sklearn.ensemble import RandomForestRegressor"
   ]
  },
  {
   "cell_type": "code",
   "execution_count": 435,
   "metadata": {},
   "outputs": [],
   "source": [
    "rf = RandomForestRegressor(n_estimators= 600,\n",
    " min_samples_split= 10,\n",
    " min_samples_leaf= 2,\n",
    " max_features= 'auto',\n",
    " max_depth= 66,\n",
    " bootstrap= True)"
   ]
  },
  {
   "cell_type": "code",
   "execution_count": 436,
   "metadata": {},
   "outputs": [],
   "source": [
    "rf_model = rf.fit(X_train,y_train)"
   ]
  },
  {
   "cell_type": "code",
   "execution_count": 437,
   "metadata": {},
   "outputs": [
    {
     "data": {
      "text/plain": [
       "0.9079056423925955"
      ]
     },
     "execution_count": 437,
     "metadata": {},
     "output_type": "execute_result"
    }
   ],
   "source": [
    "rf.score(X_train, y_train)"
   ]
  },
  {
   "cell_type": "code",
   "execution_count": 438,
   "metadata": {},
   "outputs": [
    {
     "data": {
      "text/plain": [
       "0.7349353305497486"
      ]
     },
     "execution_count": 438,
     "metadata": {},
     "output_type": "execute_result"
    }
   ],
   "source": [
    "rf.score(X_test, y_test)"
   ]
  },
  {
   "cell_type": "code",
   "execution_count": null,
   "metadata": {},
   "outputs": [],
   "source": [
    "filename = 'model4.pkl'\n",
    "pickle.dump(rf, open(filename, 'wb'))"
   ]
  },
  {
   "cell_type": "code",
   "execution_count": 439,
   "metadata": {},
   "outputs": [],
   "source": [
    "n_estimators = [int(x) for x in np.linspace(start = 200, stop = 1000, num = 5)]\n",
    "\n",
    "max_features = ['auto', 'sqrt']\n",
    "\n",
    "max_depth = [int(x) for x in np.linspace(1, 110, num = 11)]\n",
    "\n",
    "min_samples_split = [2, 5, 10]\n",
    "\n",
    "min_samples_leaf = [1, 2, 4]\n",
    "\n",
    "bootstrap = [True, False]\n"
   ]
  },
  {
   "cell_type": "code",
   "execution_count": 440,
   "metadata": {},
   "outputs": [],
   "source": [
    "param_grid = {'n_estimators': n_estimators,\n",
    "               'max_features': max_features,\n",
    "               'max_depth': max_depth,\n",
    "               'min_samples_split': min_samples_split,\n",
    "               'min_samples_leaf': min_samples_leaf,\n",
    "               'bootstrap': bootstrap}\n"
   ]
  },
  {
   "cell_type": "code",
   "execution_count": 441,
   "metadata": {},
   "outputs": [
    {
     "name": "stdout",
     "output_type": "stream",
     "text": [
      "Fitting 3 folds for each of 100 candidates, totalling 300 fits\n"
     ]
    },
    {
     "data": {
      "text/plain": [
       "RandomizedSearchCV(cv=3,\n",
       "                   estimator=RandomForestRegressor(max_depth=66,\n",
       "                                                   min_samples_leaf=2,\n",
       "                                                   min_samples_split=10,\n",
       "                                                   n_estimators=600),\n",
       "                   n_iter=100, n_jobs=-1,\n",
       "                   param_distributions={'bootstrap': [True, False],\n",
       "                                        'max_depth': [1, 11, 22, 33, 44, 55, 66,\n",
       "                                                      77, 88, 99, 110],\n",
       "                                        'max_features': ['auto', 'sqrt'],\n",
       "                                        'min_samples_leaf': [1, 2, 4],\n",
       "                                        'min_samples_split': [2, 5, 10],\n",
       "                                        'n_estimators': [200, 400, 600, 800,\n",
       "                                                         1000]},\n",
       "                   random_state=10, verbose=5)"
      ]
     },
     "execution_count": 441,
     "metadata": {},
     "output_type": "execute_result"
    }
   ],
   "source": [
    "\n",
    "RF_regressor = RandomizedSearchCV(estimator = rf, param_distributions = param_grid, \n",
    "                               n_iter = 100, cv = 3, verbose=5, random_state = 10, n_jobs = -1)\n",
    "\n",
    "RF_regressor.fit(X_train, y_train)\n"
   ]
  },
  {
   "cell_type": "code",
   "execution_count": 442,
   "metadata": {},
   "outputs": [],
   "source": [
    "RF_regressor = RF_regressor.best_estimator_\n"
   ]
  },
  {
   "cell_type": "code",
   "execution_count": 443,
   "metadata": {},
   "outputs": [
    {
     "data": {
      "text/plain": [
       "0.7274614611898782"
      ]
     },
     "execution_count": 443,
     "metadata": {},
     "output_type": "execute_result"
    }
   ],
   "source": [
    "RF_regressor.score(X_test,y_test)"
   ]
  },
  {
   "cell_type": "code",
   "execution_count": 445,
   "metadata": {},
   "outputs": [
    {
     "data": {
      "text/plain": [
       "2560.6324006085288"
      ]
     },
     "execution_count": 445,
     "metadata": {},
     "output_type": "execute_result"
    }
   ],
   "source": [
    "mean_squared_error(y_train, RF_regressor.predict(X_train), squared=False)"
   ]
  },
  {
   "cell_type": "code",
   "execution_count": 446,
   "metadata": {},
   "outputs": [],
   "source": [
    "from sklearn.pipeline import Pipeline"
   ]
  },
  {
   "cell_type": "code",
   "execution_count": 447,
   "metadata": {},
   "outputs": [],
   "source": [
    "from sklearn.linear_model import Lasso"
   ]
  },
  {
   "cell_type": "code",
   "execution_count": 448,
   "metadata": {},
   "outputs": [],
   "source": [
    "from sklearn.preprocessing import StandardScaler"
   ]
  },
  {
   "cell_type": "code",
   "execution_count": 449,
   "metadata": {},
   "outputs": [],
   "source": [
    "pipeline = Pipeline([\n",
    "                     ('scaler',StandardScaler()),\n",
    "                     ('model',Lasso())\n",
    "])"
   ]
  },
  {
   "cell_type": "code",
   "execution_count": 450,
   "metadata": {},
   "outputs": [],
   "source": [
    "search = RandomizedSearchCV(pipeline,\n",
    "                      {'model__alpha':np.arange(0.1,10,0.1)},\n",
    "                      cv = 5, scoring=\"neg_mean_squared_error\",verbose=3\n",
    "                      )"
   ]
  },
  {
   "cell_type": "code",
   "execution_count": 451,
   "metadata": {},
   "outputs": [
    {
     "name": "stdout",
     "output_type": "stream",
     "text": [
      "Fitting 5 folds for each of 10 candidates, totalling 50 fits\n",
      "[CV 1/5] END ..........model__alpha=3.7;, score=-18529295.399 total time=   0.4s\n",
      "[CV 2/5] END ..........model__alpha=3.7;, score=-17752991.162 total time=   0.0s\n",
      "[CV 3/5] END ..........model__alpha=3.7;, score=-19395544.583 total time=   0.0s\n",
      "[CV 4/5] END ..........model__alpha=3.7;, score=-23293522.779 total time=   0.0s\n",
      "[CV 5/5] END ..........model__alpha=3.7;, score=-26752092.523 total time=   0.0s\n",
      "[CV 1/5] END ..........model__alpha=8.3;, score=-18506810.781 total time=   0.0s\n",
      "[CV 2/5] END ..........model__alpha=8.3;, score=-17730961.759 total time=   0.0s\n",
      "[CV 3/5] END ..........model__alpha=8.3;, score=-19386203.100 total time=   0.0s\n",
      "[CV 4/5] END ..........model__alpha=8.3;, score=-23245707.275 total time=   0.0s\n",
      "[CV 5/5] END ..........model__alpha=8.3;, score=-26719750.674 total time=   0.0s\n",
      "[CV 1/5] END ..........model__alpha=2.7;, score=-18535041.524 total time=   0.0s\n",
      "[CV 2/5] END ..........model__alpha=2.7;, score=-17757744.686 total time=   0.0s\n",
      "[CV 3/5] END ..........model__alpha=2.7;, score=-19397621.293 total time=   0.0s\n",
      "[CV 4/5] END ..........model__alpha=2.7;, score=-23304026.704 total time=   0.0s\n",
      "[CV 5/5] END ..........model__alpha=2.7;, score=-26759255.975 total time=   0.0s\n",
      "[CV 1/5] END ..........model__alpha=5.4;, score=-18520544.451 total time=   0.0s\n",
      "[CV 2/5] END ..........model__alpha=5.4;, score=-17744879.174 total time=   0.0s\n",
      "[CV 3/5] END ..........model__alpha=5.4;, score=-19391898.112 total time=   0.0s\n",
      "[CV 4/5] END ..........model__alpha=5.4;, score=-23275647.012 total time=   0.0s\n",
      "[CV 5/5] END ..........model__alpha=5.4;, score=-26740014.411 total time=   0.0s\n",
      "[CV 1/5] END ..........model__alpha=8.1;, score=-18507743.781 total time=   0.0s\n",
      "[CV 2/5] END ..........model__alpha=8.1;, score=-17731897.311 total time=   0.0s\n",
      "[CV 3/5] END ..........model__alpha=8.1;, score=-19386568.067 total time=   0.0s\n",
      "[CV 4/5] END ..........model__alpha=8.1;, score=-23247763.762 total time=   0.0s\n",
      "[CV 5/5] END ..........model__alpha=8.1;, score=-26721133.808 total time=   0.0s\n",
      "[CV 1/5] END model__alpha=1.2000000000000002;, score=-18544077.204 total time=   0.0s\n",
      "[CV 2/5] END model__alpha=1.2000000000000002;, score=-17765978.203 total time=   0.0s\n",
      "[CV 3/5] END model__alpha=1.2000000000000002;, score=-19398073.624 total time=   0.0s\n",
      "[CV 4/5] END model__alpha=1.2000000000000002;, score=-23319772.307 total time=   0.0s\n",
      "[CV 5/5] END model__alpha=1.2000000000000002;, score=-26770083.514 total time=   0.0s\n",
      "[CV 1/5] END ..........model__alpha=8.2;, score=-18507277.044 total time=   0.0s\n",
      "[CV 2/5] END ..........model__alpha=8.2;, score=-17731429.344 total time=   0.0s\n",
      "[CV 3/5] END ..........model__alpha=8.2;, score=-19386385.388 total time=   0.0s\n",
      "[CV 4/5] END ..........model__alpha=8.2;, score=-23246735.201 total time=   0.0s\n",
      "[CV 5/5] END ..........model__alpha=8.2;, score=-26720442.014 total time=   0.0s\n",
      "[CV 1/5] END model__alpha=3.4000000000000004;, score=-18531018.962 total time=   0.0s\n",
      "[CV 2/5] END model__alpha=3.4000000000000004;, score=-17754428.627 total time=   0.0s\n",
      "[CV 3/5] END model__alpha=3.4000000000000004;, score=-19396148.750 total time=   0.0s\n",
      "[CV 4/5] END model__alpha=3.4000000000000004;, score=-23296594.101 total time=   0.0s\n",
      "[CV 5/5] END model__alpha=3.4000000000000004;, score=-26754238.235 total time=   0.0s\n",
      "[CV 1/5] END ..........model__alpha=5.3;, score=-18521024.023 total time=   0.0s\n",
      "[CV 2/5] END ..........model__alpha=5.3;, score=-17745356.694 total time=   0.0s\n",
      "[CV 3/5] END ..........model__alpha=5.3;, score=-19392091.231 total time=   0.0s\n",
      "[CV 4/5] END ..........model__alpha=5.3;, score=-23276693.219 total time=   0.0s\n",
      "[CV 5/5] END ..........model__alpha=5.3;, score=-26740728.527 total time=   0.0s\n",
      "[CV 1/5] END ..........model__alpha=8.4;, score=-18506344.981 total time=   0.0s\n",
      "[CV 2/5] END ..........model__alpha=8.4;, score=-17730494.556 total time=   0.0s\n",
      "[CV 3/5] END ..........model__alpha=8.4;, score=-19386021.201 total time=   0.0s\n",
      "[CV 4/5] END ..........model__alpha=8.4;, score=-23244679.965 total time=   0.0s\n",
      "[CV 5/5] END ..........model__alpha=8.4;, score=-26719059.788 total time=   0.0s\n"
     ]
    },
    {
     "data": {
      "text/plain": [
       "RandomizedSearchCV(cv=5,\n",
       "                   estimator=Pipeline(steps=[('scaler', StandardScaler()),\n",
       "                                             ('model', Lasso())]),\n",
       "                   param_distributions={'model__alpha': array([0.1, 0.2, 0.3, 0.4, 0.5, 0.6, 0.7, 0.8, 0.9, 1. , 1.1, 1.2, 1.3,\n",
       "       1.4, 1.5, 1.6, 1.7, 1.8, 1.9, 2. , 2.1, 2.2, 2.3, 2.4, 2.5, 2.6,\n",
       "       2.7, 2.8, 2.9, 3. , 3.1, 3.2, 3.3, 3.4, 3.5, 3.6, 3.7, 3.8, 3.9,\n",
       "       4. , 4.1, 4.2, 4.3, 4.4, 4.5, 4.6, 4.7, 4.8, 4.9, 5. , 5.1, 5.2,\n",
       "       5.3, 5.4, 5.5, 5.6, 5.7, 5.8, 5.9, 6. , 6.1, 6.2, 6.3, 6.4, 6.5,\n",
       "       6.6, 6.7, 6.8, 6.9, 7. , 7.1, 7.2, 7.3, 7.4, 7.5, 7.6, 7.7, 7.8,\n",
       "       7.9, 8. , 8.1, 8.2, 8.3, 8.4, 8.5, 8.6, 8.7, 8.8, 8.9, 9. , 9.1,\n",
       "       9.2, 9.3, 9.4, 9.5, 9.6, 9.7, 9.8, 9.9])},\n",
       "                   scoring='neg_mean_squared_error', verbose=3)"
      ]
     },
     "execution_count": 451,
     "metadata": {},
     "output_type": "execute_result"
    }
   ],
   "source": [
    "search.fit(X_train,y_train)"
   ]
  },
  {
   "cell_type": "code",
   "execution_count": 452,
   "metadata": {},
   "outputs": [
    {
     "data": {
      "text/plain": [
       "{'model__alpha': 8.4}"
      ]
     },
     "execution_count": 452,
     "metadata": {},
     "output_type": "execute_result"
    }
   ],
   "source": [
    "search.best_params_"
   ]
  },
  {
   "cell_type": "code",
   "execution_count": 453,
   "metadata": {},
   "outputs": [],
   "source": [
    "coefficients = search.best_estimator_.named_steps['model'].coef_"
   ]
  },
  {
   "cell_type": "code",
   "execution_count": 454,
   "metadata": {},
   "outputs": [],
   "source": [
    "importance = np.abs(coefficients)"
   ]
  },
  {
   "cell_type": "code",
   "execution_count": 455,
   "metadata": {},
   "outputs": [
    {
     "data": {
      "text/plain": [
       "array([4.74566945e+02, 9.70749010e+02, 2.57046078e+02, 2.79790993e+03,\n",
       "       1.23165272e+02, 1.23764489e+03, 9.72089352e+01, 2.76204066e+02,\n",
       "       0.00000000e+00, 2.19179178e+03, 7.70688176e+02, 2.58370161e+01,\n",
       "       3.38244445e+02, 1.28492736e+01, 6.26014894e+02, 1.72501248e+02,\n",
       "       4.84488881e+02, 2.17379142e+00, 2.37184537e+02, 1.32306769e+02])"
      ]
     },
     "execution_count": 455,
     "metadata": {},
     "output_type": "execute_result"
    }
   ],
   "source": [
    "importance"
   ]
  },
  {
   "cell_type": "code",
   "execution_count": 457,
   "metadata": {},
   "outputs": [
    {
     "name": "stdout",
     "output_type": "stream",
     "text": [
      "                    feature         VIF\n",
      "0                   Bedroom   47.792672\n",
      "1                  Bathroom   43.088780\n",
      "2                   Balcony    3.858349\n",
      "3                   Project    5.644493\n",
      "4                Super_area   56.670985\n",
      "5               Carpet_area   54.485061\n",
      "6          Furnished_status    1.824144\n",
      "7               Car_parking   21.127946\n",
      "8         Tenants_Preferred    2.879681\n",
      "9        Water_Availability   95.671376\n",
      "10           Booking_Amount    3.878729\n",
      "11                  Address    1.257716\n",
      "12                Landmarks    2.826340\n",
      "13                   Status    4.372834\n",
      "14              Overlooking    2.585580\n",
      "15                 Flooring    7.582583\n",
      "16    Status_of_Electricity  173.361269\n",
      "17                    Lifts    3.439532\n",
      "18  Other_Tenants_Preferred    6.422645\n",
      "19      Age_of_Construction    7.384549\n",
      "20       Authority_Approval    6.154676\n",
      "21        Type_of_Ownership   16.006557\n",
      "22             Amenities_no    2.448849\n"
     ]
    }
   ],
   "source": [
    "from statsmodels.stats.outliers_influence import variance_inflation_factor\n",
    "\n",
    "  \n",
    "# VIF dataframe\n",
    "vif_data = pd.DataFrame()\n",
    "vif_data[\"feature\"] = X.columns\n",
    "  \n",
    "# calculating VIF for each feature\n",
    "vif_data[\"VIF\"] = [variance_inflation_factor(X.values, i)\n",
    "                          for i in range(len(X.columns))]\n",
    "  \n",
    "print(vif_data)\n"
   ]
  },
  {
   "cell_type": "code",
   "execution_count": 458,
   "metadata": {},
   "outputs": [
    {
     "name": "stdout",
     "output_type": "stream",
     "text": [
      "                    feature         VIF\n",
      "0                   Bedroom   28.734848\n",
      "1                   Balcony    3.836608\n",
      "2                   Project    5.640477\n",
      "3               Carpet_area   24.951917\n",
      "4          Furnished_status    1.821695\n",
      "5               Car_parking   20.983324\n",
      "6         Tenants_Preferred    2.870974\n",
      "7        Water_Availability   95.308811\n",
      "8            Booking_Amount    3.874106\n",
      "9                   Address    1.256908\n",
      "10                Landmarks    2.823393\n",
      "11                   Status    4.344425\n",
      "12              Overlooking    2.580303\n",
      "13                 Flooring    7.565391\n",
      "14    Status_of_Electricity  172.597875\n",
      "15                    Lifts    3.431271\n",
      "16  Other_Tenants_Preferred    6.415393\n",
      "17      Age_of_Construction    7.208986\n",
      "18       Authority_Approval    6.149403\n",
      "19        Type_of_Ownership   15.969686\n",
      "20             Amenities_no    2.432147\n"
     ]
    }
   ],
   "source": [
    "  \n",
    "# VIF dataframe\n",
    "vif_data = pd.DataFrame()\n",
    "vif_data[\"feature\"] = X.drop(['Super_area','Bathroom'],axis=1).columns\n",
    "  \n",
    "# calculating VIF for each feature\n",
    "vif_data[\"VIF\"] = [variance_inflation_factor(X.drop(['Super_area','Bathroom'],axis=1).values, i)\n",
    "                          for i in range(len(X.drop(['Super_area','Bathroom'],axis=1).columns))]\n",
    "  \n",
    "print(vif_data)"
   ]
  },
  {
   "cell_type": "code",
   "execution_count": 459,
   "metadata": {},
   "outputs": [],
   "source": [
    "X= X.drop(['Status_of_Electricity','Super_area','Bathroom','Water_Availability','Type_of_Ownership'],axis=1)"
   ]
  },
  {
   "cell_type": "code",
   "execution_count": 460,
   "metadata": {},
   "outputs": [],
   "source": [
    "X_train, X_test, y_train, y_test = train_test_split(X, y1, test_size=0.25, random_state=42)"
   ]
  },
  {
   "cell_type": "code",
   "execution_count": 461,
   "metadata": {},
   "outputs": [],
   "source": [
    "reg = LinearRegression().fit(X_train, y_train)"
   ]
  },
  {
   "cell_type": "code",
   "execution_count": 462,
   "metadata": {},
   "outputs": [
    {
     "data": {
      "text/plain": [
       "0.6348325352587406"
      ]
     },
     "execution_count": 462,
     "metadata": {},
     "output_type": "execute_result"
    }
   ],
   "source": [
    "reg.score(X_train, y_train)"
   ]
  },
  {
   "cell_type": "code",
   "execution_count": 463,
   "metadata": {},
   "outputs": [
    {
     "data": {
      "text/plain": [
       "0.6330024800014085"
      ]
     },
     "execution_count": 463,
     "metadata": {},
     "output_type": "execute_result"
    }
   ],
   "source": [
    "reg.score(X_test, y_test)"
   ]
  },
  {
   "cell_type": "code",
   "execution_count": null,
   "metadata": {},
   "outputs": [],
   "source": []
  }
 ],
 "metadata": {
  "interpreter": {
   "hash": "d9080f3bd56bd432754e0e26da419aec09ee4d57b2f4795a29f6f78734054837"
  },
  "kernelspec": {
   "display_name": "Python 3",
   "language": "python",
   "name": "python3"
  },
  "language_info": {
   "codemirror_mode": {
    "name": "ipython",
    "version": 3
   },
   "file_extension": ".py",
   "mimetype": "text/x-python",
   "name": "python",
   "nbconvert_exporter": "python",
   "pygments_lexer": "ipython3",
   "version": "3.8.5"
  }
 },
 "nbformat": 4,
 "nbformat_minor": 2
}
